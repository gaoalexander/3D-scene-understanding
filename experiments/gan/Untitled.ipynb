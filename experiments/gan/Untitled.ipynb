{
 "cells": [
  {
   "cell_type": "code",
   "execution_count": 1,
   "metadata": {},
   "outputs": [],
   "source": [
    "from tqdm import tqdm"
   ]
  },
  {
   "cell_type": "code",
   "execution_count": 6,
   "metadata": {},
   "outputs": [
    {
     "name": "stderr",
     "output_type": "stream",
     "text": [
      "100%|██████████| 10/10 [00:00<00:00, 72817.78it/s]\n",
      "100%|██████████| 10/10 [00:00<00:00, 81442.80it/s]\n",
      "100%|██████████| 10/10 [00:00<00:00, 85598.04it/s]\n",
      "100%|██████████| 10/10 [00:00<00:00, 71820.27it/s]\n",
      "100%|██████████| 10/10 [00:00<00:00, 84054.19it/s]"
     ]
    },
    {
     "name": "stdout",
     "output_type": "stream",
     "text": [
      "-0.4524886877828054\n",
      "-0.4524886877828054\n",
      "-0.4524886877828054\n",
      "-0.4524886877828054\n",
      "-0.4524886877828054\n"
     ]
    },
    {
     "name": "stderr",
     "output_type": "stream",
     "text": [
      "\n"
     ]
    }
   ],
   "source": [
    "for k in range(5):\n",
    "    j = 0\n",
    "    for i in tqdm(range(10)):\n",
    "        j += 100\n",
    "        j /= 100\n",
    "        j*= 55\n",
    "        j -= 100\n",
    "        j /= 100\n",
    "    print(j)"
   ]
  },
  {
   "cell_type": "code",
   "execution_count": null,
   "metadata": {},
   "outputs": [],
   "source": []
  }
 ],
 "metadata": {
  "kernelspec": {
   "display_name": "Python 3",
   "language": "python",
   "name": "python3"
  },
  "language_info": {
   "codemirror_mode": {
    "name": "ipython",
    "version": 3
   },
   "file_extension": ".py",
   "mimetype": "text/x-python",
   "name": "python",
   "nbconvert_exporter": "python",
   "pygments_lexer": "ipython3",
   "version": "3.7.7"
  }
 },
 "nbformat": 4,
 "nbformat_minor": 4
}
