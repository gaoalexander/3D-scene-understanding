{
 "cells": [
  {
   "cell_type": "markdown",
   "metadata": {},
   "source": [
    "# Create a Deep Learning VM on Google Cloud Platform\n",
    "\n",
    "This project is deployed on Google Cloud Platform in order to take advantage of GPU-accelerated training of the Generator and Discriminator networks.\n",
    "\n",
    "\n",
    "Using: 1x NVIDIA Tesla P100 GPU\n",
    "\n",
    "\n",
    "Following these instructions:\n",
    "https://github.com/sdrangan/introml/blob/master/GCP/getting_started.md"
   ]
  },
  {
   "cell_type": "code",
   "execution_count": 25,
   "metadata": {},
   "outputs": [
    {
     "name": "stdout",
     "output_type": "stream",
     "text": [
      "Random Seed:  990\n"
     ]
    }
   ],
   "source": [
    "from __future__ import print_function\n",
    "\n",
    "import os\n",
    "import random\n",
    "\n",
    "import torch\n",
    "import torch.nn as nn\n",
    "import torch.nn.parallel\n",
    "import torch.backends.cudnn as cudnn\n",
    "import torch.optim as optim\n",
    "import torch.utils.data\n",
    "import torchvision.datasets as dset\n",
    "import torchvision.transforms as transforms\n",
    "import torchvision.utils as vutils\n",
    "import torch.multiprocessing\n",
    "\n",
    "from PIL import Image\n",
    "import numpy as np\n",
    "from tqdm import tqdm\n",
    "import numpy as np\n",
    "import matplotlib.pyplot as plt\n",
    "import matplotlib.animation as animation\n",
    "from IPython.display import HTML\n",
    "\n",
    "# Set random seem for reproducibility\n",
    "manualSeed = 990\n",
    "print(\"Random Seed: \", manualSeed)\n",
    "random.seed(manualSeed)\n",
    "torch.manual_seed(manualSeed)\n",
    "\n",
    "torch.multiprocessing.set_sharing_strategy('file_system')"
   ]
  },
  {
   "cell_type": "code",
   "execution_count": 26,
   "metadata": {},
   "outputs": [
    {
     "name": "stdout",
     "output_type": "stream",
     "text": [
      "True\n",
      "1.5.0\n"
     ]
    },
    {
     "data": {
      "text/plain": [
       "'cuda:0'"
      ]
     },
     "execution_count": 26,
     "metadata": {},
     "output_type": "execute_result"
    }
   ],
   "source": [
    "print(torch.cuda.is_available())\n",
    "print(torch.__version__)\n",
    "device = (\"cuda:0\" if torch.cuda.is_available() else \"cpu\")\n",
    "device"
   ]
  },
  {
   "cell_type": "code",
   "execution_count": 27,
   "metadata": {},
   "outputs": [],
   "source": [
    "dataroot = \"data/road_images\"\n",
    "\n",
    "workers = 2  # Number of workers for dataloader\n",
    "batch_size = 24\n",
    "image_size = 400  # Size of training images. All images resized to this size.\n",
    "n_z = 400  # Size of z latent vector (i.e. size of generator input)\n",
    "n_ch = 1\n",
    "n_G = 100  # Size of feature maps in generator\n",
    "n_D = 100  # Size of feature maps in discriminator\n",
    "\n",
    "n_epochs = 300\n",
    "G_lr = 0.0001\n",
    "D_lr = 0.0004\n",
    "beta1 = 0.5  # Beta1 hyperparam for Adam optimizers"
   ]
  },
  {
   "cell_type": "code",
   "execution_count": 28,
   "metadata": {},
   "outputs": [
    {
     "ename": "OSError",
     "evalue": "[Errno 12] Cannot allocate memory",
     "output_type": "error",
     "traceback": [
      "\u001b[0;31m---------------------------------------------------------------------------\u001b[0m",
      "\u001b[0;31mOSError\u001b[0m                                   Traceback (most recent call last)",
      "\u001b[0;32m<ipython-input-28-b4f8985a35da>\u001b[0m in \u001b[0;36m<module>\u001b[0;34m\u001b[0m\n\u001b[1;32m     12\u001b[0m                                          num_workers=workers)\n\u001b[1;32m     13\u001b[0m \u001b[0;31m# Plot some training images\u001b[0m\u001b[0;34m\u001b[0m\u001b[0;34m\u001b[0m\u001b[0;34m\u001b[0m\u001b[0m\n\u001b[0;32m---> 14\u001b[0;31m \u001b[0mreal_batch\u001b[0m \u001b[0;34m=\u001b[0m \u001b[0mnext\u001b[0m\u001b[0;34m(\u001b[0m\u001b[0miter\u001b[0m\u001b[0;34m(\u001b[0m\u001b[0mdataloader\u001b[0m\u001b[0;34m)\u001b[0m\u001b[0;34m)\u001b[0m\u001b[0;34m\u001b[0m\u001b[0;34m\u001b[0m\u001b[0m\n\u001b[0m\u001b[1;32m     15\u001b[0m \u001b[0mplt\u001b[0m\u001b[0;34m.\u001b[0m\u001b[0mfigure\u001b[0m\u001b[0;34m(\u001b[0m\u001b[0mfigsize\u001b[0m\u001b[0;34m=\u001b[0m\u001b[0;34m(\u001b[0m\u001b[0;36m8\u001b[0m\u001b[0;34m,\u001b[0m\u001b[0;36m8\u001b[0m\u001b[0;34m)\u001b[0m\u001b[0;34m)\u001b[0m\u001b[0;34m\u001b[0m\u001b[0;34m\u001b[0m\u001b[0m\n\u001b[1;32m     16\u001b[0m \u001b[0mplt\u001b[0m\u001b[0;34m.\u001b[0m\u001b[0maxis\u001b[0m\u001b[0;34m(\u001b[0m\u001b[0;34m\"off\"\u001b[0m\u001b[0;34m)\u001b[0m\u001b[0;34m\u001b[0m\u001b[0;34m\u001b[0m\u001b[0m\n",
      "\u001b[0;32m~/.conda/envs/DL/lib/python3.7/site-packages/torch/utils/data/dataloader.py\u001b[0m in \u001b[0;36m__iter__\u001b[0;34m(self)\u001b[0m\n\u001b[1;32m    277\u001b[0m             \u001b[0;32mreturn\u001b[0m \u001b[0m_SingleProcessDataLoaderIter\u001b[0m\u001b[0;34m(\u001b[0m\u001b[0mself\u001b[0m\u001b[0;34m)\u001b[0m\u001b[0;34m\u001b[0m\u001b[0;34m\u001b[0m\u001b[0m\n\u001b[1;32m    278\u001b[0m         \u001b[0;32melse\u001b[0m\u001b[0;34m:\u001b[0m\u001b[0;34m\u001b[0m\u001b[0;34m\u001b[0m\u001b[0m\n\u001b[0;32m--> 279\u001b[0;31m             \u001b[0;32mreturn\u001b[0m \u001b[0m_MultiProcessingDataLoaderIter\u001b[0m\u001b[0;34m(\u001b[0m\u001b[0mself\u001b[0m\u001b[0;34m)\u001b[0m\u001b[0;34m\u001b[0m\u001b[0;34m\u001b[0m\u001b[0m\n\u001b[0m\u001b[1;32m    280\u001b[0m \u001b[0;34m\u001b[0m\u001b[0m\n\u001b[1;32m    281\u001b[0m     \u001b[0;34m@\u001b[0m\u001b[0mproperty\u001b[0m\u001b[0;34m\u001b[0m\u001b[0;34m\u001b[0m\u001b[0m\n",
      "\u001b[0;32m~/.conda/envs/DL/lib/python3.7/site-packages/torch/utils/data/dataloader.py\u001b[0m in \u001b[0;36m__init__\u001b[0;34m(self, loader)\u001b[0m\n\u001b[1;32m    717\u001b[0m             \u001b[0;31m#     before it starts, and __del__ tries to join but will get:\u001b[0m\u001b[0;34m\u001b[0m\u001b[0;34m\u001b[0m\u001b[0;34m\u001b[0m\u001b[0m\n\u001b[1;32m    718\u001b[0m             \u001b[0;31m#     AssertionError: can only join a started process.\u001b[0m\u001b[0;34m\u001b[0m\u001b[0;34m\u001b[0m\u001b[0;34m\u001b[0m\u001b[0m\n\u001b[0;32m--> 719\u001b[0;31m             \u001b[0mw\u001b[0m\u001b[0;34m.\u001b[0m\u001b[0mstart\u001b[0m\u001b[0;34m(\u001b[0m\u001b[0;34m)\u001b[0m\u001b[0;34m\u001b[0m\u001b[0;34m\u001b[0m\u001b[0m\n\u001b[0m\u001b[1;32m    720\u001b[0m             \u001b[0mself\u001b[0m\u001b[0;34m.\u001b[0m\u001b[0m_index_queues\u001b[0m\u001b[0;34m.\u001b[0m\u001b[0mappend\u001b[0m\u001b[0;34m(\u001b[0m\u001b[0mindex_queue\u001b[0m\u001b[0;34m)\u001b[0m\u001b[0;34m\u001b[0m\u001b[0;34m\u001b[0m\u001b[0m\n\u001b[1;32m    721\u001b[0m             \u001b[0mself\u001b[0m\u001b[0;34m.\u001b[0m\u001b[0m_workers\u001b[0m\u001b[0;34m.\u001b[0m\u001b[0mappend\u001b[0m\u001b[0;34m(\u001b[0m\u001b[0mw\u001b[0m\u001b[0;34m)\u001b[0m\u001b[0;34m\u001b[0m\u001b[0;34m\u001b[0m\u001b[0m\n",
      "\u001b[0;32m~/.conda/envs/DL/lib/python3.7/multiprocessing/process.py\u001b[0m in \u001b[0;36mstart\u001b[0;34m(self)\u001b[0m\n\u001b[1;32m    110\u001b[0m                \u001b[0;34m'daemonic processes are not allowed to have children'\u001b[0m\u001b[0;34m\u001b[0m\u001b[0;34m\u001b[0m\u001b[0m\n\u001b[1;32m    111\u001b[0m         \u001b[0m_cleanup\u001b[0m\u001b[0;34m(\u001b[0m\u001b[0;34m)\u001b[0m\u001b[0;34m\u001b[0m\u001b[0;34m\u001b[0m\u001b[0m\n\u001b[0;32m--> 112\u001b[0;31m         \u001b[0mself\u001b[0m\u001b[0;34m.\u001b[0m\u001b[0m_popen\u001b[0m \u001b[0;34m=\u001b[0m \u001b[0mself\u001b[0m\u001b[0;34m.\u001b[0m\u001b[0m_Popen\u001b[0m\u001b[0;34m(\u001b[0m\u001b[0mself\u001b[0m\u001b[0;34m)\u001b[0m\u001b[0;34m\u001b[0m\u001b[0;34m\u001b[0m\u001b[0m\n\u001b[0m\u001b[1;32m    113\u001b[0m         \u001b[0mself\u001b[0m\u001b[0;34m.\u001b[0m\u001b[0m_sentinel\u001b[0m \u001b[0;34m=\u001b[0m \u001b[0mself\u001b[0m\u001b[0;34m.\u001b[0m\u001b[0m_popen\u001b[0m\u001b[0;34m.\u001b[0m\u001b[0msentinel\u001b[0m\u001b[0;34m\u001b[0m\u001b[0;34m\u001b[0m\u001b[0m\n\u001b[1;32m    114\u001b[0m         \u001b[0;31m# Avoid a refcycle if the target function holds an indirect\u001b[0m\u001b[0;34m\u001b[0m\u001b[0;34m\u001b[0m\u001b[0;34m\u001b[0m\u001b[0m\n",
      "\u001b[0;32m~/.conda/envs/DL/lib/python3.7/multiprocessing/context.py\u001b[0m in \u001b[0;36m_Popen\u001b[0;34m(process_obj)\u001b[0m\n\u001b[1;32m    221\u001b[0m     \u001b[0;34m@\u001b[0m\u001b[0mstaticmethod\u001b[0m\u001b[0;34m\u001b[0m\u001b[0;34m\u001b[0m\u001b[0m\n\u001b[1;32m    222\u001b[0m     \u001b[0;32mdef\u001b[0m \u001b[0m_Popen\u001b[0m\u001b[0;34m(\u001b[0m\u001b[0mprocess_obj\u001b[0m\u001b[0;34m)\u001b[0m\u001b[0;34m:\u001b[0m\u001b[0;34m\u001b[0m\u001b[0;34m\u001b[0m\u001b[0m\n\u001b[0;32m--> 223\u001b[0;31m         \u001b[0;32mreturn\u001b[0m \u001b[0m_default_context\u001b[0m\u001b[0;34m.\u001b[0m\u001b[0mget_context\u001b[0m\u001b[0;34m(\u001b[0m\u001b[0;34m)\u001b[0m\u001b[0;34m.\u001b[0m\u001b[0mProcess\u001b[0m\u001b[0;34m.\u001b[0m\u001b[0m_Popen\u001b[0m\u001b[0;34m(\u001b[0m\u001b[0mprocess_obj\u001b[0m\u001b[0;34m)\u001b[0m\u001b[0;34m\u001b[0m\u001b[0;34m\u001b[0m\u001b[0m\n\u001b[0m\u001b[1;32m    224\u001b[0m \u001b[0;34m\u001b[0m\u001b[0m\n\u001b[1;32m    225\u001b[0m \u001b[0;32mclass\u001b[0m \u001b[0mDefaultContext\u001b[0m\u001b[0;34m(\u001b[0m\u001b[0mBaseContext\u001b[0m\u001b[0;34m)\u001b[0m\u001b[0;34m:\u001b[0m\u001b[0;34m\u001b[0m\u001b[0;34m\u001b[0m\u001b[0m\n",
      "\u001b[0;32m~/.conda/envs/DL/lib/python3.7/multiprocessing/context.py\u001b[0m in \u001b[0;36m_Popen\u001b[0;34m(process_obj)\u001b[0m\n\u001b[1;32m    275\u001b[0m         \u001b[0;32mdef\u001b[0m \u001b[0m_Popen\u001b[0m\u001b[0;34m(\u001b[0m\u001b[0mprocess_obj\u001b[0m\u001b[0;34m)\u001b[0m\u001b[0;34m:\u001b[0m\u001b[0;34m\u001b[0m\u001b[0;34m\u001b[0m\u001b[0m\n\u001b[1;32m    276\u001b[0m             \u001b[0;32mfrom\u001b[0m \u001b[0;34m.\u001b[0m\u001b[0mpopen_fork\u001b[0m \u001b[0;32mimport\u001b[0m \u001b[0mPopen\u001b[0m\u001b[0;34m\u001b[0m\u001b[0;34m\u001b[0m\u001b[0m\n\u001b[0;32m--> 277\u001b[0;31m             \u001b[0;32mreturn\u001b[0m \u001b[0mPopen\u001b[0m\u001b[0;34m(\u001b[0m\u001b[0mprocess_obj\u001b[0m\u001b[0;34m)\u001b[0m\u001b[0;34m\u001b[0m\u001b[0;34m\u001b[0m\u001b[0m\n\u001b[0m\u001b[1;32m    278\u001b[0m \u001b[0;34m\u001b[0m\u001b[0m\n\u001b[1;32m    279\u001b[0m     \u001b[0;32mclass\u001b[0m \u001b[0mSpawnProcess\u001b[0m\u001b[0;34m(\u001b[0m\u001b[0mprocess\u001b[0m\u001b[0;34m.\u001b[0m\u001b[0mBaseProcess\u001b[0m\u001b[0;34m)\u001b[0m\u001b[0;34m:\u001b[0m\u001b[0;34m\u001b[0m\u001b[0;34m\u001b[0m\u001b[0m\n",
      "\u001b[0;32m~/.conda/envs/DL/lib/python3.7/multiprocessing/popen_fork.py\u001b[0m in \u001b[0;36m__init__\u001b[0;34m(self, process_obj)\u001b[0m\n\u001b[1;32m     18\u001b[0m         \u001b[0mself\u001b[0m\u001b[0;34m.\u001b[0m\u001b[0mreturncode\u001b[0m \u001b[0;34m=\u001b[0m \u001b[0;32mNone\u001b[0m\u001b[0;34m\u001b[0m\u001b[0;34m\u001b[0m\u001b[0m\n\u001b[1;32m     19\u001b[0m         \u001b[0mself\u001b[0m\u001b[0;34m.\u001b[0m\u001b[0mfinalizer\u001b[0m \u001b[0;34m=\u001b[0m \u001b[0;32mNone\u001b[0m\u001b[0;34m\u001b[0m\u001b[0;34m\u001b[0m\u001b[0m\n\u001b[0;32m---> 20\u001b[0;31m         \u001b[0mself\u001b[0m\u001b[0;34m.\u001b[0m\u001b[0m_launch\u001b[0m\u001b[0;34m(\u001b[0m\u001b[0mprocess_obj\u001b[0m\u001b[0;34m)\u001b[0m\u001b[0;34m\u001b[0m\u001b[0;34m\u001b[0m\u001b[0m\n\u001b[0m\u001b[1;32m     21\u001b[0m \u001b[0;34m\u001b[0m\u001b[0m\n\u001b[1;32m     22\u001b[0m     \u001b[0;32mdef\u001b[0m \u001b[0mduplicate_for_child\u001b[0m\u001b[0;34m(\u001b[0m\u001b[0mself\u001b[0m\u001b[0;34m,\u001b[0m \u001b[0mfd\u001b[0m\u001b[0;34m)\u001b[0m\u001b[0;34m:\u001b[0m\u001b[0;34m\u001b[0m\u001b[0;34m\u001b[0m\u001b[0m\n",
      "\u001b[0;32m~/.conda/envs/DL/lib/python3.7/multiprocessing/popen_fork.py\u001b[0m in \u001b[0;36m_launch\u001b[0;34m(self, process_obj)\u001b[0m\n\u001b[1;32m     68\u001b[0m         \u001b[0mcode\u001b[0m \u001b[0;34m=\u001b[0m \u001b[0;36m1\u001b[0m\u001b[0;34m\u001b[0m\u001b[0;34m\u001b[0m\u001b[0m\n\u001b[1;32m     69\u001b[0m         \u001b[0mparent_r\u001b[0m\u001b[0;34m,\u001b[0m \u001b[0mchild_w\u001b[0m \u001b[0;34m=\u001b[0m \u001b[0mos\u001b[0m\u001b[0;34m.\u001b[0m\u001b[0mpipe\u001b[0m\u001b[0;34m(\u001b[0m\u001b[0;34m)\u001b[0m\u001b[0;34m\u001b[0m\u001b[0;34m\u001b[0m\u001b[0m\n\u001b[0;32m---> 70\u001b[0;31m         \u001b[0mself\u001b[0m\u001b[0;34m.\u001b[0m\u001b[0mpid\u001b[0m \u001b[0;34m=\u001b[0m \u001b[0mos\u001b[0m\u001b[0;34m.\u001b[0m\u001b[0mfork\u001b[0m\u001b[0;34m(\u001b[0m\u001b[0;34m)\u001b[0m\u001b[0;34m\u001b[0m\u001b[0;34m\u001b[0m\u001b[0m\n\u001b[0m\u001b[1;32m     71\u001b[0m         \u001b[0;32mif\u001b[0m \u001b[0mself\u001b[0m\u001b[0;34m.\u001b[0m\u001b[0mpid\u001b[0m \u001b[0;34m==\u001b[0m \u001b[0;36m0\u001b[0m\u001b[0;34m:\u001b[0m\u001b[0;34m\u001b[0m\u001b[0;34m\u001b[0m\u001b[0m\n\u001b[1;32m     72\u001b[0m             \u001b[0;32mtry\u001b[0m\u001b[0;34m:\u001b[0m\u001b[0;34m\u001b[0m\u001b[0;34m\u001b[0m\u001b[0m\n",
      "\u001b[0;31mOSError\u001b[0m: [Errno 12] Cannot allocate memory"
     ]
    }
   ],
   "source": [
    "dataset = dset.ImageFolder(root=dataroot,\n",
    "                           transform=transforms.Compose([\n",
    "                               transforms.Resize(image_size),\n",
    "                               transforms.Grayscale(num_output_channels=1),\n",
    "                               transforms.ToTensor(),\n",
    "                               transforms.Normalize((0.5,), (0.5,)),\n",
    "                           ]))\n",
    "\n",
    "dataloader = torch.utils.data.DataLoader(dataset,\n",
    "                                         batch_size=batch_size,\n",
    "                                         shuffle=True,\n",
    "                                         num_workers=workers)\n",
    "# Plot some training images\n",
    "real_batch = next(iter(dataloader))\n",
    "plt.figure(figsize=(8,8))\n",
    "plt.axis(\"off\")\n",
    "plt.title(\"Training Images\")\n",
    "plt.imshow(np.transpose(vutils.make_grid(real_batch[0].to(device)[:64], padding=2, normalize=True).cpu(),(1,2,0)))"
   ]
  },
  {
   "cell_type": "markdown",
   "metadata": {},
   "source": [
    "# Maximization / Minimization Problem for GANs\n",
    "\n",
    "A neural network G(z, θ₁) is used to model the Generator mentioned above. It’s role is mapping input noise variables z to the desired data space x (say images). Conversely, a second neural network D(x, θ₂) models the discriminator and outputs the probability that the data came from the real dataset, in the range (0,1). In both cases, θᵢ represents the weights or parameters that define each neural network.\n",
    "\n",
    "As a result, the Discriminator is trained to correctly classify the input data as either real or fake. This means it’s weights are updated as to maximize the probability that any real data input x is classified as belonging to the real dataset, while minimizing the probability that any fake image is classified as belonging to the real dataset. In more technical terms, the loss/error function used maximizes the function D(x), and it also minimizes D(G(z)).\n",
    "\n",
    "Furthermore, the Generator is trained to fool the Discriminator by generating data as realistic as possible, which means that the Generator’s weight’s are optimized to maximize the probability that any fake image is classified as belonging to the real datase. Formally this means that the loss/error function used for this network maximizes D(G(z)).\n",
    "\n",
    "Source: https://medium.com/ai-society/gans-from-scratch-1-a-deep-introduction-with-code-in-pytorch-and-tensorflow-cb03cdcdba0f\n",
    "\n",
    "\n",
    "\n",
    "[AG] To summarize, the \"adversarial\" optimization goals are:\n",
    "\n",
    "- DISCRIMINATOR: Train the Discriminator such that D(x) is maximized, where x is a sample from the original training dataset, and to minimize D(G(z)), which is the probability of a generated sample being classified as authentic.\n",
    "- GENERATOR: train the Generator such that D(G(z)), the probability P that a generated sample will be classified as an authentic sample, is maximized."
   ]
  },
  {
   "cell_type": "markdown",
   "metadata": {},
   "source": [
    "# Loss Function\n",
    "\n",
    "The networks use Binary-Crossentropy loss function, mathematically described as:\n",
    "\n",
    "<img src = \"files/gan_loss_function.png\">"
   ]
  },
  {
   "cell_type": "code",
   "execution_count": 29,
   "metadata": {},
   "outputs": [],
   "source": [
    "# custom weights initialization called on netG and netD\n",
    "def weights_init(m):\n",
    "    classname = m.__class__.__name__\n",
    "    if classname.find('Conv') != -1:\n",
    "        nn.init.normal_(m.weight.data, 0.0, 0.02)\n",
    "    elif classname.find('BatchNorm') != -1:\n",
    "        nn.init.normal_(m.weight.data, 0.0, 0.02)\n",
    "        nn.init.constant_(m.bias.data, 0)"
   ]
  },
  {
   "cell_type": "markdown",
   "metadata": {},
   "source": [
    "### Define Generator and Discriminator and Initialize"
   ]
  },
  {
   "cell_type": "code",
   "execution_count": 30,
   "metadata": {},
   "outputs": [],
   "source": [
    "convTransp1 = nn.ConvTranspose2d(n_z, n_G * 32, 3, 1, bias=False).to(device)\n",
    "convTransp2 = nn.ConvTranspose2d(n_G * 32, n_G * 16, 5, 2, bias=False).to(device)\n",
    "convTransp3 = nn.ConvTranspose2d(n_G * 16, n_G * 8, 5, 2, bias=False).to(device)\n",
    "convTransp4 = nn.ConvTranspose2d(n_G * 8, n_G * 4, 5, 2, output_padding = 1, bias=False).to(device)\n",
    "convTransp5 = nn.ConvTranspose2d(n_G * 4, n_G * 2, 5, 2, output_padding = 1, bias=False).to(device)\n",
    "convTransp6 = nn.ConvTranspose2d(n_G * 2, n_G, 7, 2, output_padding = 1, bias=False).to(device)\n",
    "convTransp7 = nn.ConvTranspose2d(n_G, n_ch, 6, 2, bias=False).to(device)\n",
    "\n",
    "class Generator(nn.Module):\n",
    "    def __init__(self):\n",
    "        super(Generator, self).__init__()\n",
    "        self.main = nn.Sequential(\n",
    "            nn.ConvTranspose2d(n_z, n_G * 32, 3, 1, bias=False),\n",
    "            nn.BatchNorm2d(n_G * 32),\n",
    "            nn.ReLU(True),\n",
    "            \n",
    "            nn.ConvTranspose2d(n_G * 32, n_G * 16, 5, 2, bias=False),\n",
    "            nn.BatchNorm2d(n_G * 16),\n",
    "            nn.ReLU(True),\n",
    "            \n",
    "            nn.ConvTranspose2d(n_G * 16, n_G * 8, 5, 2, bias=False),\n",
    "            nn.BatchNorm2d(n_G * 8),\n",
    "            nn.ReLU(True),\n",
    "            \n",
    "            nn.ConvTranspose2d(n_G * 8, n_G * 4, 5, 2, output_padding = 1, bias=False),\n",
    "            nn.BatchNorm2d(n_G * 4),\n",
    "            nn.ReLU(True),\n",
    "            \n",
    "            nn.ConvTranspose2d(n_G * 4, n_G * 2, 5, 2, output_padding = 1, bias=False),\n",
    "            nn.BatchNorm2d(n_G * 2),\n",
    "            nn.ReLU(True),\n",
    "            \n",
    "            nn.ConvTranspose2d(n_G * 2, n_G, 7, 2, output_padding = 1, bias=False),\n",
    "            nn.BatchNorm2d(n_G),\n",
    "            nn.ReLU(True),\n",
    "            \n",
    "            nn.ConvTranspose2d(n_G, n_ch, 6, 2, bias=False),\n",
    "#             nn.BatchNorm2d(n_ch),\n",
    "            nn.Tanh()\n",
    "        )\n",
    "\n",
    "    def forward(self, input):\n",
    "        return self.main(input)"
   ]
  },
  {
   "cell_type": "code",
   "execution_count": 31,
   "metadata": {},
   "outputs": [],
   "source": [
    "class Discriminator(nn.Module):\n",
    "    def __init__(self):\n",
    "        super(Discriminator, self).__init__()\n",
    "        self.main = nn.Sequential(\n",
    "            nn.Conv2d(n_ch, n_D, 7, 2, dilation = 3, bias=False),\n",
    "            nn.LeakyReLU(0.2, inplace=True),\n",
    "            \n",
    "            nn.Conv2d(n_D, n_D*2, 5, 2, dilation = 3, bias=False),\n",
    "            nn.BatchNorm2d(n_D * 2),\n",
    "            nn.LeakyReLU(0.2, inplace=True),\n",
    "            \n",
    "            nn.Conv2d(n_D*2, n_D*4, 5, 2, dilation = 3, bias=False),\n",
    "            nn.BatchNorm2d(n_D * 4),\n",
    "            nn.LeakyReLU(0.2, inplace=True),\n",
    "            \n",
    "#             nn.MaxPool2d(2).to(device),\n",
    "            \n",
    "            nn.Conv2d(n_D*4, n_D*8, 5, 2, dilation = 3, bias=False),\n",
    "            nn.BatchNorm2d(n_D * 8),\n",
    "            nn.LeakyReLU(0.2, inplace=True),\n",
    "            \n",
    "            nn.Conv2d(n_D*8, n_D*16, 3, 2, 0, dilation = 3, bias=False),\n",
    "            nn.BatchNorm2d(n_D * 16),\n",
    "            nn.LeakyReLU(0.2, inplace=True),\n",
    "            \n",
    "            nn.Conv2d(n_D*16, 1, 4, 1, 0, bias=False),\n",
    "#             nn.BatchNorm2d(1),\n",
    "            nn.Sigmoid()\n",
    "        )\n",
    "\n",
    "    def forward(self, input):\n",
    "        return self.main(input)\n"
   ]
  },
  {
   "cell_type": "code",
   "execution_count": 32,
   "metadata": {},
   "outputs": [
    {
     "name": "stdout",
     "output_type": "stream",
     "text": [
      "Generator(\n",
      "  (main): Sequential(\n",
      "    (0): ConvTranspose2d(400, 3200, kernel_size=(3, 3), stride=(1, 1), bias=False)\n",
      "    (1): BatchNorm2d(3200, eps=1e-05, momentum=0.1, affine=True, track_running_stats=True)\n",
      "    (2): ReLU(inplace=True)\n",
      "    (3): ConvTranspose2d(3200, 1600, kernel_size=(5, 5), stride=(2, 2), bias=False)\n",
      "    (4): BatchNorm2d(1600, eps=1e-05, momentum=0.1, affine=True, track_running_stats=True)\n",
      "    (5): ReLU(inplace=True)\n",
      "    (6): ConvTranspose2d(1600, 800, kernel_size=(5, 5), stride=(2, 2), bias=False)\n",
      "    (7): BatchNorm2d(800, eps=1e-05, momentum=0.1, affine=True, track_running_stats=True)\n",
      "    (8): ReLU(inplace=True)\n",
      "    (9): ConvTranspose2d(800, 400, kernel_size=(5, 5), stride=(2, 2), output_padding=(1, 1), bias=False)\n",
      "    (10): BatchNorm2d(400, eps=1e-05, momentum=0.1, affine=True, track_running_stats=True)\n",
      "    (11): ReLU(inplace=True)\n",
      "    (12): ConvTranspose2d(400, 200, kernel_size=(5, 5), stride=(2, 2), output_padding=(1, 1), bias=False)\n",
      "    (13): BatchNorm2d(200, eps=1e-05, momentum=0.1, affine=True, track_running_stats=True)\n",
      "    (14): ReLU(inplace=True)\n",
      "    (15): ConvTranspose2d(200, 100, kernel_size=(7, 7), stride=(2, 2), output_padding=(1, 1), bias=False)\n",
      "    (16): BatchNorm2d(100, eps=1e-05, momentum=0.1, affine=True, track_running_stats=True)\n",
      "    (17): ReLU(inplace=True)\n",
      "    (18): ConvTranspose2d(100, 1, kernel_size=(6, 6), stride=(2, 2), bias=False)\n",
      "    (19): Tanh()\n",
      "  )\n",
      ")\n",
      "Discriminator(\n",
      "  (main): Sequential(\n",
      "    (0): Conv2d(1, 100, kernel_size=(7, 7), stride=(2, 2), dilation=(3, 3), bias=False)\n",
      "    (1): LeakyReLU(negative_slope=0.2, inplace=True)\n",
      "    (2): Conv2d(100, 200, kernel_size=(5, 5), stride=(2, 2), dilation=(3, 3), bias=False)\n",
      "    (3): BatchNorm2d(200, eps=1e-05, momentum=0.1, affine=True, track_running_stats=True)\n",
      "    (4): LeakyReLU(negative_slope=0.2, inplace=True)\n",
      "    (5): Conv2d(200, 400, kernel_size=(5, 5), stride=(2, 2), dilation=(3, 3), bias=False)\n",
      "    (6): BatchNorm2d(400, eps=1e-05, momentum=0.1, affine=True, track_running_stats=True)\n",
      "    (7): LeakyReLU(negative_slope=0.2, inplace=True)\n",
      "    (8): Conv2d(400, 800, kernel_size=(5, 5), stride=(2, 2), dilation=(3, 3), bias=False)\n",
      "    (9): BatchNorm2d(800, eps=1e-05, momentum=0.1, affine=True, track_running_stats=True)\n",
      "    (10): LeakyReLU(negative_slope=0.2, inplace=True)\n",
      "    (11): Conv2d(800, 1600, kernel_size=(3, 3), stride=(2, 2), dilation=(3, 3), bias=False)\n",
      "    (12): BatchNorm2d(1600, eps=1e-05, momentum=0.1, affine=True, track_running_stats=True)\n",
      "    (13): LeakyReLU(negative_slope=0.2, inplace=True)\n",
      "    (14): Conv2d(1600, 1, kernel_size=(4, 4), stride=(1, 1), bias=False)\n",
      "    (15): Sigmoid()\n",
      "  )\n",
      ")\n"
     ]
    }
   ],
   "source": [
    "generator = Generator().to(device)\n",
    "generator.apply(weights_init)  # Randomly initialize all weights to mean=0, stdev=0.2.\n",
    "print(generator)\n",
    "\n",
    "discriminator = Discriminator().to(device)\n",
    "discriminator.apply(weights_init)\n",
    "print(discriminator)"
   ]
  },
  {
   "cell_type": "markdown",
   "metadata": {},
   "source": [
    "# Define Loss Function, Set Label Values, and Create Optimizers"
   ]
  },
  {
   "cell_type": "code",
   "execution_count": 33,
   "metadata": {},
   "outputs": [],
   "source": [
    "# Create batch of latent vectors that we will use to visualize the progression of the generator\n",
    "fixed_noise = torch.randn(batch_size, n_z, 1, 1, device=device)\n",
    "\n",
    "# Label values\n",
    "y_real = 0.005\n",
    "y_fake = 0.9\n",
    "\n",
    "criterion = nn.MSELoss()\n",
    "optim_D = optim.Adam(discriminator.parameters(), lr=D_lr, betas=(beta1, 0.999))\n",
    "optim_G = optim.Adam(generator.parameters(), lr=G_lr, betas=(beta1, 0.999))"
   ]
  },
  {
   "cell_type": "code",
   "execution_count": 34,
   "metadata": {},
   "outputs": [
    {
     "name": "stdout",
     "output_type": "stream",
     "text": [
      "147\n"
     ]
    }
   ],
   "source": [
    "print(len(dataloader))"
   ]
  },
  {
   "cell_type": "markdown",
   "metadata": {},
   "source": [
    "# Main Training Loop"
   ]
  },
  {
   "cell_type": "code",
   "execution_count": 35,
   "metadata": {},
   "outputs": [],
   "source": [
    "# Lists to keep track of progress\n",
    "img_list = []\n",
    "G_losses = []\n",
    "D_losses = []\n",
    "iters = 0"
   ]
  },
  {
   "cell_type": "code",
   "execution_count": 36,
   "metadata": {},
   "outputs": [
    {
     "name": "stderr",
     "output_type": "stream",
     "text": [
      "\r",
      "  0%|          | 0/147 [00:00<?, ?it/s]"
     ]
    },
    {
     "name": "stdout",
     "output_type": "stream",
     "text": [
      "Starting Training Loop...\n",
      "real images output:  tensor([0.5009, 0.5001, 0.5074, 0.5033, 0.4962, 0.4897, 0.4863, 0.4889, 0.4971,\n",
      "        0.4975, 0.5231, 0.4926, 0.4986, 0.4996, 0.4937, 0.4912, 0.4957, 0.4852,\n",
      "        0.5005, 0.5138, 0.5020, 0.4845, 0.4949, 0.4958], device='cuda:0',\n",
      "       grad_fn=<ViewBackward>)\n",
      "fake images output:  tensor([0.4874, 0.5077, 0.5009, 0.4987, 0.4879, 0.4953, 0.4935, 0.5002, 0.4994,\n",
      "        0.4946, 0.4941, 0.4990, 0.5057, 0.5114, 0.4903, 0.4997, 0.5092, 0.5033,\n",
      "        0.5161, 0.5080, 0.4998, 0.4872, 0.5046, 0.4864], device='cuda:0',\n",
      "       grad_fn=<ViewBackward>)\n"
     ]
    },
    {
     "name": "stderr",
     "output_type": "stream",
     "text": [
      "\r",
      "  1%|          | 1/147 [00:02<06:54,  2.84s/it]"
     ]
    },
    {
     "name": "stdout",
     "output_type": "stream",
     "text": [
      "real images output:  tensor([0.3420, 0.3109, 0.3304, 0.3677, 0.2116, 0.3286, 0.3103, 0.4067, 0.2695,\n",
      "        0.2839, 0.3304, 0.3283, 0.2787, 0.2713, 0.3305, 0.2731, 0.3070, 0.4016,\n",
      "        0.3655, 0.3290, 0.3399, 0.3349, 0.2016, 0.3948], device='cuda:0',\n",
      "       grad_fn=<ViewBackward>)\n",
      "fake images output:  tensor([0.5352, 0.5304, 0.5273, 0.5643, 0.5375, 0.5121, 0.5392, 0.5415, 0.5421,\n",
      "        0.5284, 0.5365, 0.5320, 0.5325, 0.5258, 0.5416, 0.5181, 0.5249, 0.5358,\n",
      "        0.5481, 0.5299, 0.5377, 0.5489, 0.5163, 0.5138], device='cuda:0',\n",
      "       grad_fn=<ViewBackward>)\n"
     ]
    },
    {
     "name": "stderr",
     "output_type": "stream",
     "text": [
      "\r",
      "  1%|▏         | 2/147 [00:05<06:30,  2.70s/it]"
     ]
    },
    {
     "name": "stdout",
     "output_type": "stream",
     "text": [
      "real images output:  tensor([0.1527, 0.1546, 0.3426, 0.2951, 0.4913, 0.3058, 0.1232, 0.1225, 0.2575,\n",
      "        0.1221, 0.1612, 0.1816, 0.1351, 0.3471, 0.3437, 0.2483, 0.1908, 0.2452,\n",
      "        0.2012, 0.2695, 0.2859, 0.1336, 0.2448, 0.1307], device='cuda:0',\n",
      "       grad_fn=<ViewBackward>)\n",
      "fake images output:  tensor([0.5441, 0.5372, 0.5422, 0.5634, 0.5314, 0.5349, 0.5503, 0.5573, 0.5563,\n",
      "        0.5370, 0.5557, 0.5657, 0.5236, 0.5437, 0.5491, 0.5780, 0.5567, 0.5534,\n",
      "        0.5707, 0.5328, 0.5453, 0.5598, 0.5384, 0.5580], device='cuda:0',\n",
      "       grad_fn=<ViewBackward>)\n"
     ]
    },
    {
     "name": "stderr",
     "output_type": "stream",
     "text": [
      "\r",
      "  2%|▏         | 3/147 [00:07<06:13,  2.60s/it]"
     ]
    },
    {
     "name": "stdout",
     "output_type": "stream",
     "text": [
      "real images output:  tensor([0.1445, 0.1532, 0.1384, 0.1825, 0.0955, 0.1989, 0.0937, 0.1497, 0.1780,\n",
      "        0.2032, 0.2221, 0.1452, 0.1948, 0.1532, 0.1543, 0.1602, 0.1531, 0.1755,\n",
      "        0.1312, 0.1465, 0.1373, 0.1531, 0.2742, 0.2112], device='cuda:0',\n",
      "       grad_fn=<ViewBackward>)\n",
      "fake images output:  tensor([0.5254, 0.5245, 0.5178, 0.5503, 0.5256, 0.5422, 0.5101, 0.5039, 0.5386,\n",
      "        0.5217, 0.5410, 0.5479, 0.5455, 0.5406, 0.5228, 0.5323, 0.5161, 0.5294,\n",
      "        0.5021, 0.5243, 0.5197, 0.5225, 0.5382, 0.5043], device='cuda:0',\n",
      "       grad_fn=<ViewBackward>)\n"
     ]
    },
    {
     "name": "stderr",
     "output_type": "stream",
     "text": [
      "\r",
      "  3%|▎         | 4/147 [00:09<06:01,  2.53s/it]"
     ]
    },
    {
     "name": "stdout",
     "output_type": "stream",
     "text": [
      "real images output:  tensor([0.1510, 0.1114, 0.1353, 0.1220, 0.1085, 0.1536, 0.2066, 0.1563, 0.1350,\n",
      "        0.2249, 0.1676, 0.2368, 0.1745, 0.1105, 0.2580, 0.2149, 0.0925, 0.2455,\n",
      "        0.1128, 0.2927, 0.2378, 0.1175, 0.1752, 0.1390], device='cuda:0',\n",
      "       grad_fn=<ViewBackward>)\n",
      "fake images output:  tensor([0.7251, 0.7176, 0.6493, 0.6747, 0.6937, 0.7049, 0.7453, 0.7090, 0.6809,\n",
      "        0.7011, 0.6877, 0.6653, 0.6844, 0.6922, 0.6805, 0.7444, 0.7253, 0.6791,\n",
      "        0.6969, 0.6866, 0.6706, 0.7074, 0.7221, 0.6920], device='cuda:0',\n",
      "       grad_fn=<ViewBackward>)\n"
     ]
    },
    {
     "name": "stderr",
     "output_type": "stream",
     "text": [
      "\r",
      "  3%|▎         | 5/147 [00:12<05:51,  2.48s/it]"
     ]
    },
    {
     "name": "stdout",
     "output_type": "stream",
     "text": [
      "real images output:  tensor([0.1270, 0.1514, 0.1350, 0.1423, 0.1419, 0.1176, 0.1307, 0.1170, 0.1333,\n",
      "        0.1134, 0.1335, 0.1144, 0.1494, 0.1170, 0.1412, 0.1986, 0.2481, 0.1368,\n",
      "        0.3613, 0.1837, 0.1497, 0.1077, 0.2272, 0.2436], device='cuda:0',\n",
      "       grad_fn=<ViewBackward>)\n",
      "fake images output:  tensor([0.7736, 0.7726, 0.7692, 0.7816, 0.8084, 0.8139, 0.7959, 0.7929, 0.7588,\n",
      "        0.8059, 0.8010, 0.7684, 0.7701, 0.7724, 0.7722, 0.7758, 0.8088, 0.8229,\n",
      "        0.7724, 0.7864, 0.7428, 0.7868, 0.7614, 0.7607], device='cuda:0',\n",
      "       grad_fn=<ViewBackward>)\n"
     ]
    },
    {
     "name": "stderr",
     "output_type": "stream",
     "text": [
      "\r",
      "  4%|▍         | 6/147 [00:14<05:44,  2.45s/it]"
     ]
    },
    {
     "name": "stdout",
     "output_type": "stream",
     "text": [
      "real images output:  tensor([0.1625, 0.0833, 0.1203, 0.0808, 0.1581, 0.0987, 0.0857, 0.1655, 0.2450,\n",
      "        0.1259, 0.0841, 0.0966, 0.0855, 0.1257, 0.0696, 0.1304, 0.1858, 0.0991,\n",
      "        0.1079, 0.1328, 0.1681, 0.1817, 0.2178, 0.1288], device='cuda:0',\n",
      "       grad_fn=<ViewBackward>)\n",
      "fake images output:  tensor([0.7539, 0.7407, 0.7798, 0.7363, 0.7539, 0.7906, 0.7738, 0.7278, 0.7484,\n",
      "        0.7499, 0.8012, 0.7321, 0.7870, 0.7847, 0.7536, 0.7425, 0.8044, 0.7203,\n",
      "        0.7671, 0.7373, 0.7576, 0.7611, 0.7279, 0.7655], device='cuda:0',\n",
      "       grad_fn=<ViewBackward>)\n"
     ]
    },
    {
     "name": "stderr",
     "output_type": "stream",
     "text": [
      "\r",
      "  5%|▍         | 7/147 [00:17<05:39,  2.42s/it]"
     ]
    },
    {
     "name": "stdout",
     "output_type": "stream",
     "text": [
      "real images output:  tensor([0.0792, 0.1240, 0.1726, 0.0785, 0.1498, 0.1601, 0.0796, 0.1633, 0.0829,\n",
      "        0.0709, 0.1099, 0.1028, 0.1112, 0.2004, 0.1087, 0.1132, 0.0776, 0.0663,\n",
      "        0.1117, 0.1266, 0.1040, 0.1107, 0.1137, 0.1358], device='cuda:0',\n",
      "       grad_fn=<ViewBackward>)\n",
      "fake images output:  tensor([0.6046, 0.6582, 0.6477, 0.6265, 0.6524, 0.6698, 0.6741, 0.6092, 0.7285,\n",
      "        0.6783, 0.6333, 0.7149, 0.6511, 0.5888, 0.6034, 0.6716, 0.6204, 0.6331,\n",
      "        0.6513, 0.6651, 0.6573, 0.6677, 0.6447, 0.6635], device='cuda:0',\n",
      "       grad_fn=<ViewBackward>)\n"
     ]
    },
    {
     "name": "stderr",
     "output_type": "stream",
     "text": [
      "\r",
      "  5%|▌         | 8/147 [00:19<05:34,  2.41s/it]"
     ]
    },
    {
     "name": "stdout",
     "output_type": "stream",
     "text": [
      "real images output:  tensor([0.0814, 0.0738, 0.0857, 0.1180, 0.1762, 0.0783, 0.0968, 0.1228, 0.0665,\n",
      "        0.1223, 0.0954, 0.1199, 0.1938, 0.0893, 0.0710, 0.0708, 0.0700, 0.4412,\n",
      "        0.1251, 0.2219, 0.2016, 0.1229, 0.1214, 0.1157], device='cuda:0',\n",
      "       grad_fn=<ViewBackward>)\n",
      "fake images output:  tensor([0.8393, 0.8197, 0.8028, 0.7652, 0.7924, 0.8504, 0.7600, 0.8251, 0.8280,\n",
      "        0.8048, 0.8216, 0.7586, 0.8130, 0.8353, 0.8287, 0.8017, 0.7950, 0.8161,\n",
      "        0.7848, 0.7939, 0.8275, 0.8152, 0.7542, 0.7783], device='cuda:0',\n",
      "       grad_fn=<ViewBackward>)\n"
     ]
    },
    {
     "name": "stderr",
     "output_type": "stream",
     "text": [
      "\r",
      "  6%|▌         | 9/147 [00:21<05:30,  2.39s/it]"
     ]
    },
    {
     "name": "stdout",
     "output_type": "stream",
     "text": [
      "real images output:  tensor([0.0722, 0.1155, 0.1534, 0.1081, 0.0778, 0.1112, 0.1529, 0.0637, 0.0970,\n",
      "        0.1152, 0.0626, 0.0719, 0.0670, 0.0781, 0.1008, 0.0988, 0.0944, 0.1178,\n",
      "        0.1013, 0.0853, 0.0683, 0.0663, 0.0650, 0.0710], device='cuda:0',\n",
      "       grad_fn=<ViewBackward>)\n",
      "fake images output:  tensor([0.7434, 0.7691, 0.7629, 0.7248, 0.7245, 0.7022, 0.7173, 0.7063, 0.7820,\n",
      "        0.7497, 0.7491, 0.7827, 0.7362, 0.7979, 0.7529, 0.7353, 0.7555, 0.7322,\n",
      "        0.7335, 0.7232, 0.7222, 0.7499, 0.7378, 0.7074], device='cuda:0',\n",
      "       grad_fn=<ViewBackward>)\n"
     ]
    },
    {
     "name": "stderr",
     "output_type": "stream",
     "text": [
      "\r",
      "  7%|▋         | 10/147 [00:24<05:26,  2.38s/it]"
     ]
    },
    {
     "name": "stdout",
     "output_type": "stream",
     "text": [
      "real images output:  tensor([0.1329, 0.1037, 0.1793, 0.1176, 0.1080, 0.0840, 0.2068, 0.0967, 0.0652,\n",
      "        0.0947, 0.1149, 0.0902, 0.0950, 0.1039, 0.1166, 0.0842, 0.0776, 0.1137,\n",
      "        0.1008, 0.0858, 0.0617, 0.0621, 0.0687, 0.0684], device='cuda:0',\n",
      "       grad_fn=<ViewBackward>)\n",
      "fake images output:  tensor([0.3078, 0.3559, 0.2940, 0.3425, 0.3106, 0.2983, 0.3265, 0.2768, 0.2802,\n",
      "        0.3209, 0.3167, 0.2968, 0.3406, 0.3174, 0.3141, 0.2827, 0.3042, 0.3069,\n",
      "        0.2897, 0.2943, 0.3454, 0.3534, 0.2991, 0.3085], device='cuda:0',\n",
      "       grad_fn=<ViewBackward>)\n"
     ]
    },
    {
     "name": "stderr",
     "output_type": "stream",
     "text": [
      "\r",
      "  7%|▋         | 11/147 [00:26<05:23,  2.38s/it]"
     ]
    },
    {
     "name": "stdout",
     "output_type": "stream",
     "text": [
      "real images output:  tensor([0.0807, 0.2345, 0.0843, 0.0747, 0.1019, 0.1304, 0.0870, 0.0789, 0.1651,\n",
      "        0.0947, 0.1531, 0.1072, 0.0770, 0.0914, 0.0768, 0.1001, 0.1393, 0.0795,\n",
      "        0.0748, 0.1295, 0.1210, 0.0750, 0.1046, 0.0808], device='cuda:0',\n",
      "       grad_fn=<ViewBackward>)\n",
      "fake images output:  tensor([0.3717, 0.3611, 0.3652, 0.3690, 0.3732, 0.3544, 0.3606, 0.3709, 0.3471,\n",
      "        0.3587, 0.3903, 0.3579, 0.3567, 0.4098, 0.3593, 0.3587, 0.3695, 0.3788,\n",
      "        0.3634, 0.3578, 0.3783, 0.3503, 0.3834, 0.3659], device='cuda:0',\n",
      "       grad_fn=<ViewBackward>)\n"
     ]
    },
    {
     "name": "stderr",
     "output_type": "stream",
     "text": [
      "\r",
      "  8%|▊         | 12/147 [00:28<05:20,  2.37s/it]"
     ]
    },
    {
     "name": "stdout",
     "output_type": "stream",
     "text": [
      "real images output:  tensor([0.0872, 0.1550, 0.1219, 0.1709, 0.1502, 0.0868, 0.3270, 0.0885, 0.1700,\n",
      "        0.1612, 0.1192, 0.1650, 0.1412, 0.2001, 0.1110, 0.0921, 0.1215, 0.1833,\n",
      "        0.1140, 0.0911, 0.1919, 0.0958, 0.1437, 0.1522], device='cuda:0',\n",
      "       grad_fn=<ViewBackward>)\n",
      "fake images output:  tensor([0.7152, 0.7289, 0.7302, 0.7139, 0.7032, 0.7093, 0.7128, 0.7276, 0.6967,\n",
      "        0.7282, 0.7200, 0.7081, 0.7066, 0.7008, 0.7182, 0.7144, 0.7202, 0.7102,\n",
      "        0.7082, 0.7143, 0.7036, 0.7074, 0.7125, 0.7319], device='cuda:0',\n",
      "       grad_fn=<ViewBackward>)\n"
     ]
    },
    {
     "name": "stderr",
     "output_type": "stream",
     "text": [
      "\r",
      "  9%|▉         | 13/147 [00:31<05:17,  2.37s/it]"
     ]
    },
    {
     "name": "stdout",
     "output_type": "stream",
     "text": [
      "real images output:  tensor([0.0776, 0.3392, 0.0799, 0.0750, 0.0758, 0.1540, 0.1068, 0.1706, 0.1411,\n",
      "        0.1013, 0.1672, 0.1115, 0.0862, 0.1082, 0.2538, 0.0804, 0.1324, 0.0855,\n",
      "        0.0942, 0.1496, 0.1061, 0.1078, 0.1078, 0.1230], device='cuda:0',\n",
      "       grad_fn=<ViewBackward>)\n",
      "fake images output:  tensor([0.8844, 0.8872, 0.8833, 0.8819, 0.8842, 0.8919, 0.8877, 0.8879, 0.8817,\n",
      "        0.8859, 0.8843, 0.8844, 0.8849, 0.8888, 0.8795, 0.8875, 0.8988, 0.8846,\n",
      "        0.8809, 0.8819, 0.8919, 0.8800, 0.8838, 0.8842], device='cuda:0',\n",
      "       grad_fn=<ViewBackward>)\n"
     ]
    },
    {
     "name": "stderr",
     "output_type": "stream",
     "text": [
      "\r",
      " 10%|▉         | 14/147 [00:33<05:15,  2.37s/it]"
     ]
    },
    {
     "name": "stdout",
     "output_type": "stream",
     "text": [
      "real images output:  tensor([0.1080, 0.0942, 0.0829, 0.2120, 0.0824, 0.0737, 0.1020, 0.1973, 0.0787,\n",
      "        0.0796, 0.0896, 0.0877, 0.0827, 0.1161, 0.0789, 0.1344, 0.1500, 0.0851,\n",
      "        0.0807, 0.1792, 0.0742, 0.0768, 0.0816, 0.0931], device='cuda:0',\n",
      "       grad_fn=<ViewBackward>)\n",
      "fake images output:  tensor([0.8471, 0.8638, 0.8510, 0.8640, 0.8510, 0.8510, 0.8592, 0.8511, 0.8430,\n",
      "        0.8456, 0.8642, 0.8560, 0.8547, 0.8668, 0.8676, 0.8558, 0.8520, 0.8639,\n",
      "        0.8606, 0.8561, 0.8501, 0.8574, 0.8567, 0.8559], device='cuda:0',\n",
      "       grad_fn=<ViewBackward>)\n"
     ]
    },
    {
     "name": "stderr",
     "output_type": "stream",
     "text": [
      "\r",
      " 10%|█         | 15/147 [00:35<05:12,  2.37s/it]"
     ]
    },
    {
     "name": "stdout",
     "output_type": "stream",
     "text": [
      "real images output:  tensor([0.0770, 0.4580, 0.1558, 0.1078, 0.0780, 0.0891, 0.1158, 0.1363, 0.1310,\n",
      "        0.1052, 0.0727, 0.1016, 0.1264, 0.0614, 0.1037, 0.0974, 0.1058, 0.0825,\n",
      "        0.0674, 0.0667, 0.3207, 0.0693, 0.0888, 0.0625], device='cuda:0',\n",
      "       grad_fn=<ViewBackward>)\n",
      "fake images output:  tensor([0.7216, 0.7295, 0.6981, 0.7205, 0.7427, 0.7492, 0.7170, 0.7443, 0.7250,\n",
      "        0.7343, 0.7173, 0.7166, 0.7228, 0.7080, 0.7112, 0.7216, 0.7455, 0.7374,\n",
      "        0.7278, 0.7365, 0.7235, 0.7422, 0.7288, 0.7295], device='cuda:0',\n",
      "       grad_fn=<ViewBackward>)\n"
     ]
    },
    {
     "name": "stderr",
     "output_type": "stream",
     "text": [
      "\r",
      " 11%|█         | 16/147 [00:38<05:10,  2.37s/it]"
     ]
    },
    {
     "name": "stdout",
     "output_type": "stream",
     "text": [
      "real images output:  tensor([0.0776, 0.0961, 0.0846, 0.0952, 0.0728, 0.0789, 0.0772, 0.0803, 0.0961,\n",
      "        0.0867, 0.0939, 0.0791, 0.0774, 0.0752, 0.2422, 0.0840, 0.1026, 0.1551,\n",
      "        0.1023, 0.1297, 0.0808, 0.0756, 0.3194, 0.0863], device='cuda:0',\n",
      "       grad_fn=<ViewBackward>)\n",
      "fake images output:  tensor([0.8117, 0.7853, 0.8128, 0.7942, 0.8189, 0.8075, 0.8065, 0.8155, 0.8324,\n",
      "        0.7926, 0.7929, 0.8107, 0.8174, 0.8053, 0.7895, 0.7984, 0.7859, 0.8105,\n",
      "        0.8190, 0.7924, 0.8080, 0.8334, 0.8011, 0.8272], device='cuda:0',\n",
      "       grad_fn=<ViewBackward>)\n"
     ]
    },
    {
     "name": "stderr",
     "output_type": "stream",
     "text": [
      "\r",
      " 12%|█▏        | 17/147 [00:40<05:07,  2.37s/it]"
     ]
    },
    {
     "name": "stdout",
     "output_type": "stream",
     "text": [
      "real images output:  tensor([0.0688, 0.1062, 0.0661, 0.1081, 0.0744, 0.0829, 0.0793, 0.0929, 0.1272,\n",
      "        0.1498, 0.0889, 0.0744, 0.0856, 0.1205, 0.1959, 0.0695, 0.2123, 0.0901,\n",
      "        0.0746, 0.0765, 0.0829, 0.0684, 0.1032, 0.0915], device='cuda:0',\n",
      "       grad_fn=<ViewBackward>)\n",
      "fake images output:  tensor([0.8220, 0.8373, 0.8246, 0.7961, 0.8281, 0.8107, 0.8101, 0.8103, 0.8262,\n",
      "        0.8221, 0.8248, 0.8307, 0.8023, 0.8020, 0.8151, 0.8062, 0.8325, 0.8123,\n",
      "        0.8190, 0.8385, 0.7911, 0.8241, 0.8050, 0.7897], device='cuda:0',\n",
      "       grad_fn=<ViewBackward>)\n"
     ]
    },
    {
     "name": "stderr",
     "output_type": "stream",
     "text": [
      "\r",
      " 12%|█▏        | 18/147 [00:43<05:05,  2.37s/it]"
     ]
    },
    {
     "name": "stdout",
     "output_type": "stream",
     "text": [
      "real images output:  tensor([0.0616, 0.1744, 0.0635, 0.0595, 0.1094, 0.0765, 0.0744, 0.1141, 0.0764,\n",
      "        0.1106, 0.0724, 0.1113, 0.0804, 0.0724, 0.0731, 0.0849, 0.2013, 0.0826,\n",
      "        0.0730, 0.1432, 0.1140, 0.0756, 0.1292, 0.0617], device='cuda:0',\n",
      "       grad_fn=<ViewBackward>)\n",
      "fake images output:  tensor([0.7670, 0.7549, 0.7396, 0.7440, 0.7187, 0.7486, 0.7767, 0.7740, 0.7454,\n",
      "        0.7321, 0.7011, 0.7164, 0.7019, 0.7300, 0.7336, 0.7340, 0.7532, 0.7444,\n",
      "        0.7603, 0.7461, 0.7138, 0.7341, 0.7594, 0.6948], device='cuda:0',\n",
      "       grad_fn=<ViewBackward>)\n"
     ]
    },
    {
     "name": "stderr",
     "output_type": "stream",
     "text": [
      "\r",
      " 13%|█▎        | 19/147 [00:45<05:03,  2.37s/it]"
     ]
    },
    {
     "name": "stdout",
     "output_type": "stream",
     "text": [
      "real images output:  tensor([0.1034, 0.0710, 0.0635, 0.1086, 0.0895, 0.0791, 0.0616, 0.1069, 0.0683,\n",
      "        0.0859, 0.1064, 0.0836, 0.0751, 0.1065, 0.0811, 0.0630, 0.0724, 0.0749,\n",
      "        0.1161, 0.0974, 0.1021, 0.0641, 0.1661, 0.1054], device='cuda:0',\n",
      "       grad_fn=<ViewBackward>)\n",
      "fake images output:  tensor([0.9241, 0.9201, 0.9281, 0.9331, 0.9224, 0.9220, 0.9235, 0.9310, 0.9177,\n",
      "        0.9217, 0.9273, 0.9238, 0.9208, 0.9243, 0.9280, 0.9245, 0.9345, 0.9216,\n",
      "        0.9236, 0.9306, 0.9254, 0.9295, 0.9221, 0.9216], device='cuda:0',\n",
      "       grad_fn=<ViewBackward>)\n"
     ]
    },
    {
     "name": "stderr",
     "output_type": "stream",
     "text": [
      "\r",
      " 14%|█▎        | 20/147 [00:47<05:00,  2.37s/it]"
     ]
    },
    {
     "name": "stdout",
     "output_type": "stream",
     "text": [
      "real images output:  tensor([0.0748, 0.0851, 0.0760, 0.0637, 0.0832, 0.0987, 0.0618, 0.0734, 0.0763,\n",
      "        0.0520, 0.0609, 0.0754, 0.0763, 0.0647, 0.1040, 0.0914, 0.0605, 0.0799,\n",
      "        0.0630, 0.0624, 0.0731, 0.0751, 0.0853, 0.0717], device='cuda:0',\n",
      "       grad_fn=<ViewBackward>)\n",
      "fake images output:  tensor([0.8576, 0.8510, 0.8475, 0.8490, 0.8550, 0.8454, 0.8517, 0.8556, 0.8471,\n",
      "        0.8570, 0.8584, 0.8549, 0.8484, 0.8421, 0.8415, 0.8360, 0.8544, 0.8513,\n",
      "        0.8521, 0.8547, 0.8500, 0.8520, 0.8533, 0.8597], device='cuda:0',\n",
      "       grad_fn=<ViewBackward>)\n"
     ]
    },
    {
     "name": "stderr",
     "output_type": "stream",
     "text": [
      "\r",
      " 14%|█▍        | 21/147 [00:50<04:58,  2.37s/it]"
     ]
    },
    {
     "name": "stdout",
     "output_type": "stream",
     "text": [
      "real images output:  tensor([0.0877, 0.0839, 0.0637, 0.1578, 0.0763, 0.0543, 0.0576, 0.0752, 0.0915,\n",
      "        0.0626, 0.1708, 0.0562, 0.0560, 0.0622, 0.0637, 0.0614, 0.0641, 0.0656,\n",
      "        0.1194, 0.0680, 0.0703, 0.0626, 0.0696, 0.0732], device='cuda:0',\n",
      "       grad_fn=<ViewBackward>)\n",
      "fake images output:  tensor([0.7616, 0.7526, 0.7620, 0.7589, 0.7650, 0.7548, 0.7542, 0.7514, 0.7492,\n",
      "        0.7629, 0.7680, 0.7577, 0.7504, 0.7672, 0.7633, 0.7605, 0.7607, 0.7591,\n",
      "        0.7602, 0.7584, 0.7488, 0.7524, 0.7567, 0.7601], device='cuda:0',\n",
      "       grad_fn=<ViewBackward>)\n"
     ]
    },
    {
     "name": "stderr",
     "output_type": "stream",
     "text": [
      "\r",
      " 15%|█▍        | 22/147 [00:52<04:55,  2.37s/it]"
     ]
    },
    {
     "name": "stdout",
     "output_type": "stream",
     "text": [
      "real images output:  tensor([0.0598, 0.0554, 0.0762, 0.0510, 0.0676, 0.0825, 0.0616, 0.0802, 0.0701,\n",
      "        0.1467, 0.0741, 0.0853, 0.0670, 0.0721, 0.0778, 0.1179, 0.0565, 0.0815,\n",
      "        0.0818, 0.0997, 0.0682, 0.0553, 0.0562, 0.0681], device='cuda:0',\n",
      "       grad_fn=<ViewBackward>)\n",
      "fake images output:  tensor([0.8897, 0.8930, 0.8962, 0.8880, 0.8912, 0.8935, 0.9023, 0.8957, 0.8982,\n",
      "        0.8971, 0.8983, 0.8985, 0.9007, 0.8959, 0.9018, 0.8943, 0.8927, 0.8943,\n",
      "        0.8991, 0.9044, 0.8898, 0.8907, 0.8969, 0.8896], device='cuda:0',\n",
      "       grad_fn=<ViewBackward>)\n"
     ]
    },
    {
     "name": "stderr",
     "output_type": "stream",
     "text": [
      "\r",
      " 16%|█▌        | 23/147 [00:54<04:53,  2.37s/it]"
     ]
    },
    {
     "name": "stdout",
     "output_type": "stream",
     "text": [
      "real images output:  tensor([0.0556, 0.0880, 0.1278, 0.0530, 0.0510, 0.0601, 0.0505, 0.0612, 0.0687,\n",
      "        0.0540, 0.0735, 0.0607, 0.0533, 0.0727, 0.0826, 0.0834, 0.0621, 0.0611,\n",
      "        0.0517, 0.0689, 0.0605, 0.0574, 0.0757, 0.0566], device='cuda:0',\n",
      "       grad_fn=<ViewBackward>)\n",
      "fake images output:  tensor([0.8993, 0.9011, 0.9057, 0.8967, 0.8915, 0.8976, 0.8921, 0.8988, 0.9044,\n",
      "        0.9015, 0.9001, 0.8977, 0.8970, 0.8980, 0.9022, 0.8978, 0.9064, 0.8916,\n",
      "        0.8991, 0.9031, 0.8996, 0.8989, 0.8950, 0.8973], device='cuda:0',\n",
      "       grad_fn=<ViewBackward>)\n"
     ]
    },
    {
     "name": "stderr",
     "output_type": "stream",
     "text": [
      "\r",
      " 16%|█▋        | 24/147 [00:57<04:51,  2.37s/it]"
     ]
    },
    {
     "name": "stdout",
     "output_type": "stream",
     "text": [
      "real images output:  tensor([0.0806, 0.0528, 0.0518, 0.0579, 0.0511, 0.0549, 0.0616, 0.0523, 0.0832,\n",
      "        0.0492, 0.0528, 0.0584, 0.1034, 0.0558, 0.0598, 0.0522, 0.0822, 0.0564,\n",
      "        0.0545, 0.0722, 0.3778, 0.0643, 0.0669, 0.0563], device='cuda:0',\n",
      "       grad_fn=<ViewBackward>)\n",
      "fake images output:  tensor([0.8406, 0.8560, 0.8547, 0.8431, 0.8318, 0.8513, 0.8441, 0.8510, 0.8510,\n",
      "        0.8433, 0.8490, 0.8453, 0.8552, 0.8465, 0.8345, 0.8373, 0.8447, 0.8370,\n",
      "        0.8614, 0.8514, 0.8453, 0.8512, 0.8459, 0.8533], device='cuda:0',\n",
      "       grad_fn=<ViewBackward>)\n"
     ]
    },
    {
     "name": "stderr",
     "output_type": "stream",
     "text": [
      "\r",
      " 17%|█▋        | 25/147 [00:59<04:48,  2.37s/it]"
     ]
    },
    {
     "name": "stdout",
     "output_type": "stream",
     "text": [
      "real images output:  tensor([0.0663, 0.0855, 0.0511, 0.0747, 0.0567, 0.0615, 0.0678, 0.0658, 0.0971,\n",
      "        0.0539, 0.0704, 0.0687, 0.0670, 0.0560, 0.0540, 0.0542, 0.1131, 0.0613,\n",
      "        0.0659, 0.0509, 0.0518, 0.0602, 0.0498, 0.0903], device='cuda:0',\n",
      "       grad_fn=<ViewBackward>)\n",
      "fake images output:  tensor([0.7735, 0.7783, 0.7677, 0.7748, 0.7678, 0.8038, 0.7514, 0.7517, 0.7721,\n",
      "        0.7694, 0.7914, 0.7655, 0.7529, 0.7395, 0.7801, 0.7627, 0.7662, 0.7626,\n",
      "        0.7588, 0.7761, 0.7721, 0.7752, 0.7719, 0.7539], device='cuda:0',\n",
      "       grad_fn=<ViewBackward>)\n"
     ]
    },
    {
     "name": "stderr",
     "output_type": "stream",
     "text": [
      "\r",
      " 18%|█▊        | 26/147 [01:01<04:46,  2.37s/it]"
     ]
    },
    {
     "name": "stdout",
     "output_type": "stream",
     "text": [
      "real images output:  tensor([0.0529, 0.0657, 0.0550, 0.0578, 0.0582, 0.2622, 0.0866, 0.0788, 0.0815,\n",
      "        0.0799, 0.0665, 0.0709, 0.0636, 0.0646, 0.0559, 0.0806, 0.0570, 0.0867,\n",
      "        0.0574, 0.1034, 0.0743, 0.0668, 0.0601, 0.0606], device='cuda:0',\n",
      "       grad_fn=<ViewBackward>)\n",
      "fake images output:  tensor([0.9302, 0.9218, 0.9265, 0.9259, 0.9313, 0.9161, 0.9206, 0.9249, 0.9151,\n",
      "        0.9192, 0.9260, 0.9272, 0.9180, 0.9179, 0.9251, 0.9184, 0.9271, 0.9212,\n",
      "        0.9320, 0.9221, 0.9239, 0.9294, 0.9319, 0.9277], device='cuda:0',\n",
      "       grad_fn=<ViewBackward>)\n"
     ]
    },
    {
     "name": "stderr",
     "output_type": "stream",
     "text": [
      "\r",
      " 18%|█▊        | 27/147 [01:04<04:44,  2.37s/it]"
     ]
    },
    {
     "name": "stdout",
     "output_type": "stream",
     "text": [
      "real images output:  tensor([0.0527, 0.1111, 0.0667, 0.0533, 0.0614, 0.0839, 0.0768, 0.0698, 0.0778,\n",
      "        0.0508, 0.1144, 0.0882, 0.0564, 0.0518, 0.0486, 0.0753, 0.0464, 0.0470,\n",
      "        0.0665, 0.0960, 0.0548, 0.0612, 0.0446, 0.0827], device='cuda:0',\n",
      "       grad_fn=<ViewBackward>)\n",
      "fake images output:  tensor([0.9239, 0.9123, 0.9253, 0.9245, 0.9137, 0.9198, 0.9182, 0.9186, 0.9208,\n",
      "        0.9295, 0.9161, 0.9231, 0.9185, 0.9260, 0.9150, 0.9200, 0.9185, 0.9252,\n",
      "        0.9088, 0.9208, 0.9156, 0.9265, 0.9212, 0.9261], device='cuda:0',\n",
      "       grad_fn=<ViewBackward>)\n"
     ]
    },
    {
     "name": "stderr",
     "output_type": "stream",
     "text": [
      "\r",
      " 19%|█▉        | 28/147 [01:06<04:41,  2.37s/it]"
     ]
    },
    {
     "name": "stdout",
     "output_type": "stream",
     "text": [
      "real images output:  tensor([0.1265, 0.0661, 0.0425, 0.0462, 0.0461, 0.0576, 0.0434, 0.0559, 0.0526,\n",
      "        0.0520, 0.0463, 0.0624, 0.0488, 0.0515, 0.0665, 0.0640, 0.0472, 0.0453,\n",
      "        0.0767, 0.0693, 0.0486, 0.0476, 0.0641, 0.0791], device='cuda:0',\n",
      "       grad_fn=<ViewBackward>)\n",
      "fake images output:  tensor([0.8595, 0.8507, 0.8451, 0.8510, 0.8490, 0.8424, 0.8595, 0.8464, 0.8502,\n",
      "        0.8546, 0.8553, 0.8469, 0.8509, 0.8540, 0.8379, 0.8471, 0.8548, 0.8579,\n",
      "        0.8627, 0.8562, 0.8502, 0.8530, 0.8482, 0.8553], device='cuda:0',\n",
      "       grad_fn=<ViewBackward>)\n"
     ]
    },
    {
     "name": "stderr",
     "output_type": "stream",
     "text": [
      "\r",
      " 20%|█▉        | 29/147 [01:09<04:39,  2.37s/it]"
     ]
    },
    {
     "name": "stdout",
     "output_type": "stream",
     "text": [
      "real images output:  tensor([0.0425, 0.0420, 0.0662, 0.0417, 0.0668, 0.0521, 0.0831, 0.0457, 0.0447,\n",
      "        0.0409, 0.0573, 0.0580, 0.0493, 0.0450, 0.0426, 0.0564, 0.0480, 0.0470,\n",
      "        0.0551, 0.0531, 0.0495, 0.0764, 0.0464, 0.0523], device='cuda:0',\n",
      "       grad_fn=<ViewBackward>)\n",
      "fake images output:  tensor([0.2234, 0.2186, 0.2475, 0.2477, 0.2264, 0.2444, 0.2367, 0.2450, 0.2403,\n",
      "        0.2359, 0.2431, 0.2474, 0.2276, 0.2304, 0.2449, 0.2532, 0.2425, 0.2262,\n",
      "        0.2460, 0.2507, 0.2420, 0.2429, 0.2224, 0.2548], device='cuda:0',\n",
      "       grad_fn=<ViewBackward>)\n"
     ]
    },
    {
     "name": "stderr",
     "output_type": "stream",
     "text": [
      "\r",
      " 20%|██        | 30/147 [01:11<04:36,  2.37s/it]"
     ]
    },
    {
     "name": "stdout",
     "output_type": "stream",
     "text": [
      "real images output:  tensor([0.0760, 0.0662, 0.1429, 0.1209, 0.1030, 0.1640, 0.1214, 0.0851, 0.0820,\n",
      "        0.1903, 0.1280, 0.1796, 0.1916, 0.1121, 0.1149, 0.1683, 0.1188, 0.1523,\n",
      "        0.1548, 0.1194, 0.1084, 0.0896, 0.0907, 0.0645], device='cuda:0',\n",
      "       grad_fn=<ViewBackward>)\n",
      "fake images output:  tensor([0.9118, 0.9073, 0.9159, 0.9051, 0.9095, 0.9136, 0.9098, 0.9166, 0.9114,\n",
      "        0.9084, 0.9082, 0.9085, 0.9084, 0.9090, 0.9013, 0.9142, 0.9098, 0.9144,\n",
      "        0.9111, 0.9096, 0.9029, 0.9035, 0.9141, 0.9173], device='cuda:0',\n",
      "       grad_fn=<ViewBackward>)\n"
     ]
    },
    {
     "name": "stderr",
     "output_type": "stream",
     "text": [
      "\r",
      " 21%|██        | 31/147 [01:13<04:34,  2.37s/it]"
     ]
    },
    {
     "name": "stdout",
     "output_type": "stream",
     "text": [
      "real images output:  tensor([0.0580, 0.1022, 0.0998, 0.2409, 0.0895, 0.0638, 0.2150, 0.0679, 0.0603,\n",
      "        0.0738, 0.0624, 0.0762, 0.0916, 0.0604, 0.0759, 0.1018, 0.0498, 0.1062,\n",
      "        0.0828, 0.0664, 0.1250, 0.0780, 0.1333, 0.0744], device='cuda:0',\n",
      "       grad_fn=<ViewBackward>)\n",
      "fake images output:  tensor([0.8472, 0.8507, 0.8443, 0.8488, 0.8549, 0.8380, 0.8395, 0.8511, 0.8449,\n",
      "        0.8371, 0.8603, 0.8462, 0.8415, 0.8561, 0.8506, 0.8471, 0.8405, 0.8494,\n",
      "        0.8437, 0.8416, 0.8490, 0.8502, 0.8576, 0.8435], device='cuda:0',\n",
      "       grad_fn=<ViewBackward>)\n"
     ]
    },
    {
     "name": "stderr",
     "output_type": "stream",
     "text": [
      "\r",
      " 22%|██▏       | 32/147 [01:16<04:32,  2.37s/it]"
     ]
    },
    {
     "name": "stdout",
     "output_type": "stream",
     "text": [
      "real images output:  tensor([0.0520, 0.1006, 0.0584, 0.0936, 0.0797, 0.1002, 0.0647, 0.1271, 0.0796,\n",
      "        0.0861, 0.0703, 0.0936, 0.1346, 0.1505, 0.1153, 0.0578, 0.0998, 0.0492,\n",
      "        0.0533, 0.1113, 0.0795, 0.0624, 0.0777, 0.0810], device='cuda:0',\n",
      "       grad_fn=<ViewBackward>)\n",
      "fake images output:  tensor([0.4057, 0.4017, 0.4061, 0.4079, 0.4088, 0.4094, 0.4121, 0.4218, 0.4121,\n",
      "        0.4090, 0.4065, 0.4155, 0.4092, 0.4158, 0.4124, 0.4077, 0.4114, 0.3984,\n",
      "        0.4043, 0.4111, 0.4076, 0.4122, 0.4074, 0.4121], device='cuda:0',\n",
      "       grad_fn=<ViewBackward>)\n"
     ]
    },
    {
     "name": "stderr",
     "output_type": "stream",
     "text": [
      "\r",
      " 22%|██▏       | 33/147 [01:18<04:29,  2.37s/it]"
     ]
    },
    {
     "name": "stdout",
     "output_type": "stream",
     "text": [
      "real images output:  tensor([0.1428, 0.0749, 0.1185, 0.1040, 0.0893, 0.0621, 0.1004, 0.0625, 0.0923,\n",
      "        0.0782, 0.1411, 0.0794, 0.1108, 0.0704, 0.0674, 0.1474, 0.1020, 0.0650,\n",
      "        0.1012, 0.0645, 0.0836, 0.1361, 0.1237, 0.0911], device='cuda:0',\n",
      "       grad_fn=<ViewBackward>)\n",
      "fake images output:  tensor([0.7948, 0.7823, 0.7929, 0.7880, 0.7904, 0.7945, 0.7842, 0.7993, 0.7924,\n",
      "        0.7889, 0.7876, 0.7999, 0.7915, 0.7871, 0.7906, 0.7903, 0.7900, 0.7902,\n",
      "        0.7867, 0.7858, 0.7953, 0.8001, 0.7826, 0.7831], device='cuda:0',\n",
      "       grad_fn=<ViewBackward>)\n"
     ]
    },
    {
     "name": "stderr",
     "output_type": "stream",
     "text": [
      "\r",
      " 23%|██▎       | 34/147 [01:20<04:27,  2.37s/it]"
     ]
    },
    {
     "name": "stdout",
     "output_type": "stream",
     "text": [
      "real images output:  tensor([0.1010, 0.1037, 0.1505, 0.0859, 0.0884, 0.0996, 0.1140, 0.0963, 0.0828,\n",
      "        0.0681, 0.0639, 0.0885, 0.0648, 0.0990, 0.1019, 0.0812, 0.1033, 0.0643,\n",
      "        0.3894, 0.0701, 0.1210, 0.1150, 0.0966, 0.0731], device='cuda:0',\n",
      "       grad_fn=<ViewBackward>)\n",
      "fake images output:  tensor([0.8726, 0.8771, 0.8721, 0.8735, 0.8767, 0.8649, 0.8757, 0.8749, 0.8740,\n",
      "        0.8643, 0.8662, 0.8701, 0.8716, 0.8749, 0.8774, 0.8749, 0.8682, 0.8680,\n",
      "        0.8706, 0.8686, 0.8668, 0.8706, 0.8728, 0.8697], device='cuda:0',\n",
      "       grad_fn=<ViewBackward>)\n"
     ]
    },
    {
     "name": "stderr",
     "output_type": "stream",
     "text": [
      "\r",
      " 24%|██▍       | 35/147 [01:23<04:25,  2.37s/it]"
     ]
    },
    {
     "name": "stdout",
     "output_type": "stream",
     "text": [
      "real images output:  tensor([0.0843, 0.0838, 0.0828, 0.0693, 0.1393, 0.0730, 0.0774, 0.1053, 0.0635,\n",
      "        0.1118, 0.1029, 0.2382, 0.0867, 0.1046, 0.1591, 0.0679, 0.0676, 0.0923,\n",
      "        0.1317, 0.0757, 0.0823, 0.0721, 0.0848, 0.0665], device='cuda:0',\n",
      "       grad_fn=<ViewBackward>)\n",
      "fake images output:  tensor([0.8265, 0.8354, 0.8331, 0.8331, 0.8307, 0.8383, 0.8401, 0.8239, 0.8371,\n",
      "        0.8254, 0.8230, 0.8388, 0.8350, 0.8230, 0.8390, 0.8365, 0.8371, 0.8356,\n",
      "        0.8339, 0.8375, 0.8369, 0.8291, 0.8268, 0.8340], device='cuda:0',\n",
      "       grad_fn=<ViewBackward>)\n"
     ]
    },
    {
     "name": "stderr",
     "output_type": "stream",
     "text": [
      "\r",
      " 24%|██▍       | 36/147 [01:25<04:22,  2.37s/it]"
     ]
    },
    {
     "name": "stdout",
     "output_type": "stream",
     "text": [
      "real images output:  tensor([0.0735, 0.0665, 0.1577, 0.1386, 0.0834, 0.1254, 0.1010, 0.0794, 0.0965,\n",
      "        0.0657, 0.0675, 0.0628, 0.1892, 0.0980, 0.0651, 0.0686, 0.1071, 0.0663,\n",
      "        0.0641, 0.0626, 0.1378, 0.0673, 0.0665, 0.0976], device='cuda:0',\n",
      "       grad_fn=<ViewBackward>)\n",
      "fake images output:  tensor([0.6348, 0.6461, 0.6446, 0.6450, 0.6487, 0.6287, 0.6544, 0.6422, 0.6516,\n",
      "        0.6468, 0.6514, 0.6601, 0.6324, 0.6326, 0.6587, 0.6554, 0.6406, 0.6688,\n",
      "        0.6670, 0.6523, 0.6500, 0.6456, 0.6551, 0.6381], device='cuda:0',\n",
      "       grad_fn=<ViewBackward>)\n"
     ]
    },
    {
     "name": "stderr",
     "output_type": "stream",
     "text": [
      "\r",
      " 25%|██▌       | 37/147 [01:28<04:20,  2.37s/it]"
     ]
    },
    {
     "name": "stdout",
     "output_type": "stream",
     "text": [
      "real images output:  tensor([0.0956, 0.1133, 0.0995, 0.0866, 0.0844, 0.0652, 0.0829, 0.0751, 0.0734,\n",
      "        0.0818, 0.1014, 0.0823, 0.0836, 0.1482, 0.0835, 0.0840, 0.0645, 0.1177,\n",
      "        0.0778, 0.0678, 0.1133, 0.0790, 0.1427, 0.0909], device='cuda:0',\n",
      "       grad_fn=<ViewBackward>)\n",
      "fake images output:  tensor([0.8490, 0.8464, 0.8523, 0.8507, 0.8578, 0.8490, 0.8537, 0.8433, 0.8569,\n",
      "        0.8483, 0.8527, 0.8535, 0.8423, 0.8494, 0.8484, 0.8456, 0.8443, 0.8451,\n",
      "        0.8543, 0.8472, 0.8428, 0.8444, 0.8450, 0.8469], device='cuda:0',\n",
      "       grad_fn=<ViewBackward>)\n"
     ]
    },
    {
     "name": "stderr",
     "output_type": "stream",
     "text": [
      "\r",
      " 26%|██▌       | 38/147 [01:30<04:18,  2.37s/it]"
     ]
    },
    {
     "name": "stdout",
     "output_type": "stream",
     "text": [
      "real images output:  tensor([0.0747, 0.1084, 0.0697, 0.1086, 0.1156, 0.0628, 0.0825, 0.1107, 0.0818,\n",
      "        0.0869, 0.0911, 0.0864, 0.0787, 0.0721, 0.0834, 0.0771, 0.0932, 0.1270,\n",
      "        0.0857, 0.0852, 0.0692, 0.0803, 0.0832, 0.0747], device='cuda:0',\n",
      "       grad_fn=<ViewBackward>)\n",
      "fake images output:  tensor([0.8559, 0.8631, 0.8654, 0.8684, 0.8671, 0.8612, 0.8639, 0.8556, 0.8653,\n",
      "        0.8614, 0.8627, 0.8654, 0.8600, 0.8603, 0.8582, 0.8654, 0.8632, 0.8579,\n",
      "        0.8633, 0.8623, 0.8663, 0.8671, 0.8570, 0.8588], device='cuda:0',\n",
      "       grad_fn=<ViewBackward>)\n"
     ]
    },
    {
     "name": "stderr",
     "output_type": "stream",
     "text": [
      "\r",
      " 27%|██▋       | 39/147 [01:32<04:15,  2.37s/it]"
     ]
    },
    {
     "name": "stdout",
     "output_type": "stream",
     "text": [
      "real images output:  tensor([0.0642, 0.1245, 0.1060, 0.1042, 0.0633, 0.0577, 0.0750, 0.0648, 0.0646,\n",
      "        0.0919, 0.1212, 0.0850, 0.0914, 0.0932, 0.0786, 0.0596, 0.1008, 0.0844,\n",
      "        0.0734, 0.1112, 0.0913, 0.0913, 0.0935, 0.0624], device='cuda:0',\n",
      "       grad_fn=<ViewBackward>)\n",
      "fake images output:  tensor([0.7448, 0.7528, 0.7468, 0.7580, 0.7444, 0.7730, 0.7610, 0.7602, 0.7611,\n",
      "        0.7643, 0.7504, 0.7592, 0.7683, 0.7436, 0.7377, 0.7510, 0.7417, 0.7562,\n",
      "        0.7470, 0.7647, 0.7504, 0.7624, 0.7725, 0.7578], device='cuda:0',\n",
      "       grad_fn=<ViewBackward>)\n"
     ]
    },
    {
     "name": "stderr",
     "output_type": "stream",
     "text": [
      "\r",
      " 27%|██▋       | 40/147 [01:35<04:13,  2.37s/it]"
     ]
    },
    {
     "name": "stdout",
     "output_type": "stream",
     "text": [
      "real images output:  tensor([0.0648, 0.1078, 0.1549, 0.0663, 0.0623, 0.1787, 0.1478, 0.0634, 0.0891,\n",
      "        0.0739, 0.0691, 0.0630, 0.0662, 0.0609, 0.0780, 0.2335, 0.0653, 0.0837,\n",
      "        0.0608, 0.0605, 0.1231, 0.0652, 0.0932, 0.0659], device='cuda:0',\n",
      "       grad_fn=<ViewBackward>)\n",
      "fake images output:  tensor([0.6968, 0.6885, 0.6539, 0.6981, 0.6741, 0.6988, 0.6806, 0.6803, 0.6726,\n",
      "        0.6675, 0.6862, 0.6721, 0.6831, 0.6842, 0.6785, 0.6602, 0.6757, 0.6659,\n",
      "        0.6904, 0.6824, 0.6783, 0.6873, 0.6729, 0.6646], device='cuda:0',\n",
      "       grad_fn=<ViewBackward>)\n"
     ]
    },
    {
     "name": "stderr",
     "output_type": "stream",
     "text": [
      "\r",
      " 28%|██▊       | 41/147 [01:37<04:11,  2.37s/it]"
     ]
    },
    {
     "name": "stdout",
     "output_type": "stream",
     "text": [
      "real images output:  tensor([0.1144, 0.1009, 0.0734, 0.0703, 0.1697, 0.1564, 0.1294, 0.1192, 0.0899,\n",
      "        0.1391, 0.0742, 0.0899, 0.2013, 0.0651, 0.0671, 0.0925, 0.0705, 0.0685,\n",
      "        0.1483, 0.1630, 0.1090, 0.0856, 0.0685, 0.0660], device='cuda:0',\n",
      "       grad_fn=<ViewBackward>)\n",
      "fake images output:  tensor([0.9446, 0.9449, 0.9398, 0.9435, 0.9428, 0.9441, 0.9439, 0.9428, 0.9419,\n",
      "        0.9451, 0.9435, 0.9427, 0.9440, 0.9425, 0.9432, 0.9435, 0.9417, 0.9449,\n",
      "        0.9454, 0.9439, 0.9420, 0.9439, 0.9432, 0.9435], device='cuda:0',\n",
      "       grad_fn=<ViewBackward>)\n"
     ]
    },
    {
     "name": "stderr",
     "output_type": "stream",
     "text": [
      "\r",
      " 29%|██▊       | 42/147 [01:39<04:08,  2.37s/it]"
     ]
    },
    {
     "name": "stdout",
     "output_type": "stream",
     "text": [
      "real images output:  tensor([0.0661, 0.0555, 0.0636, 0.0758, 0.0862, 0.0591, 0.0562, 0.0968, 0.0695,\n",
      "        0.1119, 0.0647, 0.1307, 0.0724, 0.0658, 0.0932, 0.0665, 0.1004, 0.0776,\n",
      "        0.1802, 0.0564, 0.1130, 0.1545, 0.0568, 0.0943], device='cuda:0',\n",
      "       grad_fn=<ViewBackward>)\n",
      "fake images output:  tensor([0.9529, 0.9540, 0.9494, 0.9522, 0.9514, 0.9510, 0.9527, 0.9517, 0.9539,\n",
      "        0.9536, 0.9522, 0.9527, 0.9529, 0.9522, 0.9503, 0.9509, 0.9547, 0.9537,\n",
      "        0.9535, 0.9518, 0.9507, 0.9545, 0.9527, 0.9517], device='cuda:0',\n",
      "       grad_fn=<ViewBackward>)\n"
     ]
    },
    {
     "name": "stderr",
     "output_type": "stream",
     "text": [
      "\r",
      " 29%|██▉       | 43/147 [01:42<04:06,  2.37s/it]"
     ]
    },
    {
     "name": "stdout",
     "output_type": "stream",
     "text": [
      "real images output:  tensor([0.0934, 0.0726, 0.0695, 0.0606, 0.0549, 0.1086, 0.0580, 0.0853, 0.0507,\n",
      "        0.0762, 0.0901, 0.0585, 0.0675, 0.1542, 0.0605, 0.0540, 0.0579, 0.1911,\n",
      "        0.0529, 0.0586, 0.0715, 0.0648, 0.0657, 0.0758], device='cuda:0',\n",
      "       grad_fn=<ViewBackward>)\n",
      "fake images output:  tensor([0.9412, 0.9416, 0.9405, 0.9406, 0.9401, 0.9407, 0.9419, 0.9406, 0.9414,\n",
      "        0.9444, 0.9429, 0.9418, 0.9368, 0.9400, 0.9421, 0.9400, 0.9417, 0.9410,\n",
      "        0.9399, 0.9402, 0.9395, 0.9412, 0.9407, 0.9434], device='cuda:0',\n",
      "       grad_fn=<ViewBackward>)\n"
     ]
    },
    {
     "name": "stderr",
     "output_type": "stream",
     "text": [
      "\r",
      " 30%|██▉       | 44/147 [01:44<04:03,  2.37s/it]"
     ]
    },
    {
     "name": "stdout",
     "output_type": "stream",
     "text": [
      "real images output:  tensor([0.0514, 0.0663, 0.0981, 0.0608, 0.0937, 0.0956, 0.0547, 0.0980, 0.0849,\n",
      "        0.0532, 0.0685, 0.1111, 0.0732, 0.1015, 0.0526, 0.0565, 0.0761, 0.0498,\n",
      "        0.0579, 0.0504, 0.0586, 0.0586, 0.0821, 0.0659], device='cuda:0',\n",
      "       grad_fn=<ViewBackward>)\n",
      "fake images output:  tensor([0.8606, 0.8640, 0.8681, 0.8572, 0.8561, 0.8582, 0.8619, 0.8555, 0.8549,\n",
      "        0.8466, 0.8651, 0.8515, 0.8526, 0.8600, 0.8671, 0.8500, 0.8459, 0.8598,\n",
      "        0.8523, 0.8687, 0.8572, 0.8634, 0.8630, 0.8444], device='cuda:0',\n",
      "       grad_fn=<ViewBackward>)\n"
     ]
    },
    {
     "name": "stderr",
     "output_type": "stream",
     "text": [
      "\r",
      " 31%|███       | 45/147 [01:47<04:01,  2.37s/it]"
     ]
    },
    {
     "name": "stdout",
     "output_type": "stream",
     "text": [
      "real images output:  tensor([0.0479, 0.0561, 0.0503, 0.0910, 0.0609, 0.0809, 0.0795, 0.0528, 0.0598,\n",
      "        0.0473, 0.0586, 0.0500, 0.0963, 0.0509, 0.0922, 0.0813, 0.0532, 0.0533,\n",
      "        0.0498, 0.0513, 0.0817, 0.0963, 0.0728, 0.1030], device='cuda:0',\n",
      "       grad_fn=<ViewBackward>)\n",
      "fake images output:  tensor([0.3360, 0.3278, 0.3363, 0.3319, 0.3373, 0.3366, 0.3356, 0.3356, 0.3342,\n",
      "        0.3386, 0.3401, 0.3367, 0.3356, 0.3299, 0.3315, 0.3374, 0.3386, 0.3514,\n",
      "        0.3373, 0.3239, 0.3238, 0.3350, 0.3394, 0.3330], device='cuda:0',\n",
      "       grad_fn=<ViewBackward>)\n"
     ]
    },
    {
     "name": "stderr",
     "output_type": "stream",
     "text": [
      "\r",
      " 31%|███▏      | 46/147 [01:49<03:59,  2.37s/it]"
     ]
    },
    {
     "name": "stdout",
     "output_type": "stream",
     "text": [
      "real images output:  tensor([0.0872, 0.1199, 0.0755, 0.0783, 0.0774, 0.1118, 0.1282, 0.0683, 0.0776,\n",
      "        0.1065, 0.0769, 0.1151, 0.0687, 0.1026, 0.0771, 0.0945, 0.1687, 0.0716,\n",
      "        0.1244, 0.1534, 0.0897, 0.0996, 0.0749, 0.1643], device='cuda:0',\n",
      "       grad_fn=<ViewBackward>)\n",
      "fake images output:  tensor([0.7566, 0.7562, 0.7595, 0.7558, 0.7595, 0.7586, 0.7620, 0.7588, 0.7621,\n",
      "        0.7565, 0.7565, 0.7582, 0.7580, 0.7589, 0.7571, 0.7668, 0.7531, 0.7613,\n",
      "        0.7551, 0.7535, 0.7714, 0.7542, 0.7556, 0.7598], device='cuda:0',\n",
      "       grad_fn=<ViewBackward>)\n"
     ]
    },
    {
     "name": "stderr",
     "output_type": "stream",
     "text": [
      "\r",
      " 32%|███▏      | 47/147 [01:51<03:57,  2.37s/it]"
     ]
    },
    {
     "name": "stdout",
     "output_type": "stream",
     "text": [
      "real images output:  tensor([0.0771, 0.0855, 0.0749, 0.0751, 0.0684, 0.1041, 0.0978, 0.1014, 0.1409,\n",
      "        0.0946, 0.0796, 0.0736, 0.1441, 0.1354, 0.1373, 0.0765, 0.1011, 0.1122,\n",
      "        0.0726, 0.1182, 0.1343, 0.0680, 0.1115, 0.1143], device='cuda:0',\n",
      "       grad_fn=<ViewBackward>)\n",
      "fake images output:  tensor([0.8393, 0.8413, 0.8460, 0.8370, 0.8365, 0.8352, 0.8406, 0.8408, 0.8439,\n",
      "        0.8354, 0.8377, 0.8348, 0.8382, 0.8421, 0.8468, 0.8418, 0.8319, 0.8427,\n",
      "        0.8375, 0.8428, 0.8448, 0.8391, 0.8424, 0.8402], device='cuda:0',\n",
      "       grad_fn=<ViewBackward>)\n"
     ]
    },
    {
     "name": "stderr",
     "output_type": "stream",
     "text": [
      "\r",
      " 33%|███▎      | 48/147 [01:54<03:54,  2.37s/it]"
     ]
    },
    {
     "name": "stdout",
     "output_type": "stream",
     "text": [
      "real images output:  tensor([0.0608, 0.1363, 0.1022, 0.1607, 0.0996, 0.1155, 0.0754, 0.1925, 0.0781,\n",
      "        0.0708, 0.1048, 0.0704, 0.1088, 0.0972, 0.1523, 0.0954, 0.1203, 0.1175,\n",
      "        0.1999, 0.0866, 0.0957, 0.0972, 0.1157, 0.0986], device='cuda:0',\n",
      "       grad_fn=<ViewBackward>)\n",
      "fake images output:  tensor([0.8504, 0.8554, 0.8581, 0.8539, 0.8541, 0.8573, 0.8524, 0.8532, 0.8549,\n",
      "        0.8526, 0.8591, 0.8519, 0.8551, 0.8613, 0.8571, 0.8542, 0.8644, 0.8562,\n",
      "        0.8577, 0.8524, 0.8540, 0.8580, 0.8610, 0.8519], device='cuda:0',\n",
      "       grad_fn=<ViewBackward>)\n"
     ]
    },
    {
     "name": "stderr",
     "output_type": "stream",
     "text": [
      "\r",
      " 33%|███▎      | 49/147 [01:56<03:52,  2.37s/it]"
     ]
    },
    {
     "name": "stdout",
     "output_type": "stream",
     "text": [
      "real images output:  tensor([0.1164, 0.0877, 0.0797, 0.1108, 0.0815, 0.1451, 0.1109, 0.1030, 0.0805,\n",
      "        0.0748, 0.0983, 0.0899, 0.0754, 0.1124, 0.1168, 0.0775, 0.0676, 0.1185,\n",
      "        0.1196, 0.0900, 0.0911, 0.1276, 0.6586, 0.0670], device='cuda:0',\n",
      "       grad_fn=<ViewBackward>)\n",
      "fake images output:  tensor([0.8457, 0.8435, 0.8405, 0.8407, 0.8388, 0.8415, 0.8400, 0.8484, 0.8366,\n",
      "        0.8394, 0.8432, 0.8412, 0.8421, 0.8464, 0.8421, 0.8415, 0.8408, 0.8495,\n",
      "        0.8427, 0.8475, 0.8402, 0.8427, 0.8446, 0.8431], device='cuda:0',\n",
      "       grad_fn=<ViewBackward>)\n"
     ]
    },
    {
     "name": "stderr",
     "output_type": "stream",
     "text": [
      "\r",
      " 34%|███▍      | 50/147 [01:58<03:49,  2.37s/it]"
     ]
    },
    {
     "name": "stdout",
     "output_type": "stream",
     "text": [
      "real images output:  tensor([0.1020, 0.1351, 0.0794, 0.0910, 0.0786, 0.0975, 0.0771, 0.0873, 0.0859,\n",
      "        0.1087, 0.1005, 0.0862, 0.0846, 0.0995, 0.0903, 0.0832, 0.0751, 0.0751,\n",
      "        0.0948, 0.0973, 0.0735, 0.1260, 0.1238, 0.0796], device='cuda:0',\n",
      "       grad_fn=<ViewBackward>)\n",
      "fake images output:  tensor([0.8306, 0.8170, 0.8177, 0.8178, 0.8177, 0.8213, 0.8143, 0.8248, 0.8221,\n",
      "        0.8172, 0.8279, 0.8177, 0.8154, 0.8172, 0.8221, 0.8145, 0.8245, 0.8159,\n",
      "        0.8195, 0.8199, 0.8159, 0.8138, 0.8209, 0.8141], device='cuda:0',\n",
      "       grad_fn=<ViewBackward>)\n"
     ]
    },
    {
     "name": "stderr",
     "output_type": "stream",
     "text": [
      "\r",
      " 35%|███▍      | 51/147 [02:01<03:47,  2.37s/it]"
     ]
    },
    {
     "name": "stdout",
     "output_type": "stream",
     "text": [
      "real images output:  tensor([0.0884, 0.0663, 0.0988, 0.0627, 0.0795, 0.0852, 0.1243, 0.1180, 0.0637,\n",
      "        0.0719, 0.0746, 0.0671, 0.1183, 0.0643, 0.1999, 0.0726, 0.0870, 0.0807,\n",
      "        0.0827, 0.0829, 0.0752, 0.0747, 0.0784, 0.0862], device='cuda:0',\n",
      "       grad_fn=<ViewBackward>)\n",
      "fake images output:  tensor([0.8396, 0.8484, 0.8395, 0.8420, 0.8427, 0.8459, 0.8399, 0.8409, 0.8510,\n",
      "        0.8468, 0.8471, 0.8444, 0.8424, 0.8476, 0.8410, 0.8418, 0.8382, 0.8417,\n",
      "        0.8457, 0.8460, 0.8412, 0.8462, 0.8433, 0.8421], device='cuda:0',\n",
      "       grad_fn=<ViewBackward>)\n"
     ]
    },
    {
     "name": "stderr",
     "output_type": "stream",
     "text": [
      "\r",
      " 35%|███▌      | 52/147 [02:03<03:44,  2.37s/it]"
     ]
    },
    {
     "name": "stdout",
     "output_type": "stream",
     "text": [
      "real images output:  tensor([0.0794, 0.0746, 0.0652, 0.1046, 0.0928, 0.0582, 0.0641, 0.0681, 0.0764,\n",
      "        0.0620, 0.1076, 0.0692, 0.0645, 0.0954, 0.0935, 0.0800, 0.0725, 0.0996,\n",
      "        0.1023, 0.1037, 0.0799, 0.0791, 0.0676, 0.1010], device='cuda:0',\n",
      "       grad_fn=<ViewBackward>)\n",
      "fake images output:  tensor([0.8292, 0.8300, 0.8301, 0.8271, 0.8249, 0.8312, 0.8253, 0.8225, 0.8257,\n",
      "        0.8322, 0.8243, 0.8294, 0.8318, 0.8335, 0.8343, 0.8297, 0.8303, 0.8321,\n",
      "        0.8288, 0.8318, 0.8262, 0.8308, 0.8309, 0.8294], device='cuda:0',\n",
      "       grad_fn=<ViewBackward>)\n"
     ]
    },
    {
     "name": "stderr",
     "output_type": "stream",
     "text": [
      "\r",
      " 36%|███▌      | 53/147 [02:05<03:42,  2.37s/it]"
     ]
    },
    {
     "name": "stdout",
     "output_type": "stream",
     "text": [
      "real images output:  tensor([0.0763, 0.0570, 0.1216, 0.1190, 0.0566, 0.0568, 0.0681, 0.1017, 0.1036,\n",
      "        0.0973, 0.1614, 0.1243, 0.1070, 0.0611, 0.0664, 0.0754, 0.0691, 0.1743,\n",
      "        0.0628, 0.1003, 0.0647, 0.0594, 0.0648, 0.0652], device='cuda:0',\n",
      "       grad_fn=<ViewBackward>)\n",
      "fake images output:  tensor([0.8124, 0.8033, 0.7983, 0.8052, 0.8114, 0.8038, 0.8075, 0.8003, 0.8030,\n",
      "        0.7976, 0.7982, 0.8106, 0.8090, 0.8009, 0.8014, 0.8001, 0.8042, 0.8042,\n",
      "        0.8078, 0.8040, 0.8069, 0.8031, 0.7970, 0.7982], device='cuda:0',\n",
      "       grad_fn=<ViewBackward>)\n"
     ]
    },
    {
     "name": "stderr",
     "output_type": "stream",
     "text": [
      "\r",
      " 37%|███▋      | 54/147 [02:08<03:40,  2.37s/it]"
     ]
    },
    {
     "name": "stdout",
     "output_type": "stream",
     "text": [
      "real images output:  tensor([0.0642, 0.0912, 0.0644, 0.1606, 0.0710, 0.1961, 0.0611, 0.0713, 0.0596,\n",
      "        0.0771, 0.0541, 0.0609, 0.0852, 0.0673, 0.0923, 0.0694, 0.0999, 0.0625,\n",
      "        0.0659, 0.1077, 0.1685, 0.2249, 0.0929, 0.0807], device='cuda:0',\n",
      "       grad_fn=<ViewBackward>)\n",
      "fake images output:  tensor([0.8176, 0.8200, 0.8134, 0.8123, 0.8216, 0.8117, 0.8179, 0.8197, 0.8084,\n",
      "        0.8202, 0.8199, 0.8171, 0.8141, 0.8165, 0.8170, 0.8197, 0.8197, 0.8209,\n",
      "        0.8107, 0.8180, 0.8089, 0.8161, 0.8165, 0.8172], device='cuda:0',\n",
      "       grad_fn=<ViewBackward>)\n"
     ]
    },
    {
     "name": "stderr",
     "output_type": "stream",
     "text": [
      "\r",
      " 37%|███▋      | 55/147 [02:10<03:37,  2.37s/it]"
     ]
    },
    {
     "name": "stdout",
     "output_type": "stream",
     "text": [
      "real images output:  tensor([0.0820, 0.0592, 0.0635, 0.0884, 0.1004, 0.0656, 0.0632, 0.0678, 0.1110,\n",
      "        0.0626, 0.0820, 0.0859, 0.0695, 0.0850, 0.0579, 0.0569, 0.0702, 0.0922,\n",
      "        0.1476, 0.0931, 0.0789, 0.0731, 0.0759, 0.0771], device='cuda:0',\n",
      "       grad_fn=<ViewBackward>)\n",
      "fake images output:  tensor([0.8016, 0.8109, 0.8000, 0.8041, 0.7962, 0.8060, 0.8046, 0.8023, 0.7883,\n",
      "        0.7982, 0.8025, 0.8072, 0.7999, 0.8081, 0.7942, 0.8002, 0.7980, 0.8100,\n",
      "        0.7966, 0.8046, 0.7901, 0.7999, 0.8036, 0.8048], device='cuda:0',\n",
      "       grad_fn=<ViewBackward>)\n"
     ]
    },
    {
     "name": "stderr",
     "output_type": "stream",
     "text": [
      "\r",
      " 38%|███▊      | 56/147 [02:13<03:35,  2.37s/it]"
     ]
    },
    {
     "name": "stdout",
     "output_type": "stream",
     "text": [
      "real images output:  tensor([0.0660, 0.0510, 0.0614, 0.0656, 0.0790, 0.0569, 0.0677, 0.0704, 0.0894,\n",
      "        0.0664, 0.0798, 0.0907, 0.0670, 0.0594, 0.0652, 0.0805, 0.1319, 0.1222,\n",
      "        0.1024, 0.0768, 0.0828, 0.0659, 0.0710, 0.0659], device='cuda:0',\n",
      "       grad_fn=<ViewBackward>)\n",
      "fake images output:  tensor([0.7087, 0.7385, 0.7220, 0.7288, 0.7717, 0.7311, 0.7365, 0.7228, 0.7171,\n",
      "        0.7371, 0.7421, 0.7537, 0.7474, 0.7288, 0.7530, 0.7361, 0.7185, 0.7393,\n",
      "        0.7286, 0.7590, 0.7264, 0.7323, 0.7274, 0.7339], device='cuda:0',\n",
      "       grad_fn=<ViewBackward>)\n"
     ]
    },
    {
     "name": "stderr",
     "output_type": "stream",
     "text": [
      "\r",
      " 39%|███▉      | 57/147 [02:15<03:33,  2.37s/it]"
     ]
    },
    {
     "name": "stdout",
     "output_type": "stream",
     "text": [
      "real images output:  tensor([0.1033, 0.0737, 0.0573, 0.0856, 0.0739, 0.0740, 0.0762, 0.0758, 0.0821,\n",
      "        0.0948, 0.1187, 0.0713, 0.0830, 0.0748, 0.0820, 0.1497, 0.0735, 0.0827,\n",
      "        0.1236, 0.0689, 0.1080, 0.0939, 0.1177, 0.0892], device='cuda:0',\n",
      "       grad_fn=<ViewBackward>)\n",
      "fake images output:  tensor([0.9676, 0.9690, 0.9671, 0.9615, 0.9684, 0.9656, 0.9676, 0.9645, 0.9636,\n",
      "        0.9622, 0.9662, 0.9651, 0.9676, 0.9688, 0.9644, 0.9642, 0.9676, 0.9655,\n",
      "        0.9675, 0.9638, 0.9663, 0.9681, 0.9682, 0.9652], device='cuda:0',\n",
      "       grad_fn=<ViewBackward>)\n"
     ]
    },
    {
     "name": "stderr",
     "output_type": "stream",
     "text": [
      "\r",
      " 39%|███▉      | 58/147 [02:17<03:31,  2.37s/it]"
     ]
    },
    {
     "name": "stdout",
     "output_type": "stream",
     "text": [
      "real images output:  tensor([0.0606, 0.0787, 0.0695, 0.6339, 0.0875, 0.0629, 0.0680, 0.1838, 0.0929,\n",
      "        0.1318, 0.0639, 0.0596, 0.0569, 0.0588, 0.0622, 0.0664, 0.0498, 0.1097,\n",
      "        0.1070, 0.0593, 0.0618, 0.0573, 0.1339, 0.0641], device='cuda:0',\n",
      "       grad_fn=<ViewBackward>)\n",
      "fake images output:  tensor([0.9634, 0.9650, 0.9626, 0.9653, 0.9638, 0.9652, 0.9655, 0.9646, 0.9647,\n",
      "        0.9647, 0.9654, 0.9671, 0.9665, 0.9652, 0.9649, 0.9648, 0.9653, 0.9654,\n",
      "        0.9648, 0.9638, 0.9645, 0.9657, 0.9639, 0.9620], device='cuda:0',\n",
      "       grad_fn=<ViewBackward>)\n"
     ]
    },
    {
     "name": "stderr",
     "output_type": "stream",
     "text": [
      "\r",
      " 40%|████      | 59/147 [02:20<03:28,  2.37s/it]"
     ]
    },
    {
     "name": "stdout",
     "output_type": "stream",
     "text": [
      "real images output:  tensor([0.0806, 0.2807, 0.0614, 0.0840, 0.0727, 0.0546, 0.1040, 0.0555, 0.0668,\n",
      "        0.0520, 0.0658, 0.0812, 0.0542, 0.0554, 0.0879, 0.0554, 0.0558, 0.2586,\n",
      "        0.0588, 0.0565, 0.0590, 0.0483, 0.0737, 0.0634], device='cuda:0',\n",
      "       grad_fn=<ViewBackward>)\n",
      "fake images output:  tensor([0.9426, 0.9437, 0.9456, 0.9416, 0.9435, 0.9418, 0.9450, 0.9416, 0.9443,\n",
      "        0.9462, 0.9430, 0.9443, 0.9451, 0.9430, 0.9454, 0.9439, 0.9394, 0.9428,\n",
      "        0.9423, 0.9407, 0.9413, 0.9448, 0.9410, 0.9411], device='cuda:0',\n",
      "       grad_fn=<ViewBackward>)\n"
     ]
    },
    {
     "name": "stderr",
     "output_type": "stream",
     "text": [
      "\r",
      " 41%|████      | 60/147 [02:22<03:26,  2.37s/it]"
     ]
    },
    {
     "name": "stdout",
     "output_type": "stream",
     "text": [
      "real images output:  tensor([0.0691, 0.0782, 0.0776, 0.0727, 0.0841, 0.0638, 0.0616, 0.0605, 0.0635,\n",
      "        0.1042, 0.0668, 0.0562, 0.0563, 0.0694, 0.0416, 0.0574, 0.0543, 0.0843,\n",
      "        0.0759, 0.1028, 0.0558, 0.0584, 0.0799, 0.0681], device='cuda:0',\n",
      "       grad_fn=<ViewBackward>)\n",
      "fake images output:  tensor([0.9175, 0.9178, 0.9180, 0.9162, 0.9151, 0.9174, 0.9170, 0.9168, 0.9180,\n",
      "        0.9194, 0.9147, 0.9175, 0.9140, 0.9207, 0.9159, 0.9189, 0.9176, 0.9185,\n",
      "        0.9150, 0.9145, 0.9179, 0.9147, 0.9190, 0.9171], device='cuda:0',\n",
      "       grad_fn=<ViewBackward>)\n"
     ]
    },
    {
     "name": "stderr",
     "output_type": "stream",
     "text": [
      "\r",
      " 41%|████▏     | 61/147 [02:24<03:23,  2.37s/it]"
     ]
    },
    {
     "name": "stdout",
     "output_type": "stream",
     "text": [
      "real images output:  tensor([0.0649, 0.0611, 0.0445, 0.0472, 0.0821, 0.0649, 0.0588, 0.0592, 0.0650,\n",
      "        0.0539, 0.0899, 0.0685, 0.0554, 0.0592, 0.0766, 0.0802, 0.0767, 0.0552,\n",
      "        0.0428, 0.0415, 0.0684, 0.1216, 0.0607, 0.0433], device='cuda:0',\n",
      "       grad_fn=<ViewBackward>)\n",
      "fake images output:  tensor([0.8763, 0.8745, 0.8763, 0.8688, 0.8728, 0.8820, 0.8757, 0.8776, 0.8674,\n",
      "        0.8747, 0.8774, 0.8786, 0.8660, 0.8753, 0.8818, 0.8791, 0.8766, 0.8800,\n",
      "        0.8706, 0.8737, 0.8701, 0.8737, 0.8752, 0.8802], device='cuda:0',\n",
      "       grad_fn=<ViewBackward>)\n"
     ]
    },
    {
     "name": "stderr",
     "output_type": "stream",
     "text": [
      "\r",
      " 42%|████▏     | 62/147 [02:27<03:21,  2.37s/it]"
     ]
    },
    {
     "name": "stdout",
     "output_type": "stream",
     "text": [
      "real images output:  tensor([0.0710, 0.0453, 0.0781, 0.0745, 0.0593, 0.1419, 0.0570, 0.0499, 0.0518,\n",
      "        0.0475, 0.0549, 0.0722, 0.0580, 0.0610, 0.0762, 0.0712, 0.0532, 0.0700,\n",
      "        0.0587, 0.0502, 0.0372, 0.0442, 0.0551, 0.1014], device='cuda:0',\n",
      "       grad_fn=<ViewBackward>)\n",
      "fake images output:  tensor([0.7894, 0.8051, 0.8048, 0.8036, 0.7986, 0.7994, 0.8006, 0.7904, 0.8134,\n",
      "        0.7902, 0.7839, 0.7886, 0.7843, 0.7971, 0.7971, 0.7932, 0.8009, 0.7983,\n",
      "        0.8026, 0.7912, 0.7967, 0.8014, 0.7939, 0.8074], device='cuda:0',\n",
      "       grad_fn=<ViewBackward>)\n"
     ]
    },
    {
     "name": "stderr",
     "output_type": "stream",
     "text": [
      "\r",
      " 43%|████▎     | 63/147 [02:29<03:19,  2.37s/it]"
     ]
    },
    {
     "name": "stdout",
     "output_type": "stream",
     "text": [
      "real images output:  tensor([0.0792, 0.0727, 0.0622, 0.0536, 0.0752, 0.0640, 0.0552, 0.0860, 0.0764,\n",
      "        0.0519, 0.0811, 0.0489, 0.0464, 0.0816, 0.0610, 0.0430, 0.0480, 0.0800,\n",
      "        0.0609, 0.0493, 0.0480, 0.0733, 0.0566, 0.0612], device='cuda:0',\n",
      "       grad_fn=<ViewBackward>)\n",
      "fake images output:  tensor([0.8384, 0.8485, 0.8501, 0.8375, 0.8437, 0.8474, 0.8424, 0.8483, 0.8458,\n",
      "        0.8351, 0.8373, 0.8378, 0.8469, 0.8501, 0.8387, 0.8447, 0.8455, 0.8450,\n",
      "        0.8419, 0.8396, 0.8513, 0.8503, 0.8450, 0.8396], device='cuda:0',\n",
      "       grad_fn=<ViewBackward>)\n"
     ]
    },
    {
     "name": "stderr",
     "output_type": "stream",
     "text": [
      "\r",
      " 44%|████▎     | 64/147 [02:32<03:16,  2.37s/it]"
     ]
    },
    {
     "name": "stdout",
     "output_type": "stream",
     "text": [
      "real images output:  tensor([0.0475, 0.0571, 0.0637, 0.0733, 0.2266, 0.0644, 0.0578, 0.0536, 0.0674,\n",
      "        0.0649, 0.0440, 0.0459, 0.0479, 0.0536, 0.0523, 0.0623, 0.1112, 0.0445,\n",
      "        0.0433, 0.0428, 0.0437, 0.0487, 0.0460, 0.0565], device='cuda:0',\n",
      "       grad_fn=<ViewBackward>)\n",
      "fake images output:  tensor([0.8135, 0.8125, 0.8168, 0.8241, 0.8245, 0.8042, 0.8168, 0.8140, 0.8122,\n",
      "        0.8209, 0.8167, 0.8070, 0.8157, 0.8053, 0.8235, 0.8176, 0.8198, 0.8171,\n",
      "        0.8087, 0.8183, 0.8275, 0.8126, 0.8142, 0.8342], device='cuda:0',\n",
      "       grad_fn=<ViewBackward>)\n"
     ]
    },
    {
     "name": "stderr",
     "output_type": "stream",
     "text": [
      "\r",
      " 44%|████▍     | 65/147 [02:34<03:14,  2.37s/it]"
     ]
    },
    {
     "name": "stdout",
     "output_type": "stream",
     "text": [
      "real images output:  tensor([0.0486, 0.0821, 0.0596, 0.0418, 0.0433, 0.0493, 0.0613, 0.0451, 0.0767,\n",
      "        0.0448, 0.0571, 0.0485, 0.0460, 0.0766, 0.0455, 0.0484, 0.0550, 0.0450,\n",
      "        0.0609, 0.0475, 0.0415, 0.0550, 0.0485, 0.0410], device='cuda:0',\n",
      "       grad_fn=<ViewBackward>)\n",
      "fake images output:  tensor([0.7313, 0.7330, 0.7249, 0.7327, 0.7190, 0.7247, 0.7216, 0.7195, 0.7367,\n",
      "        0.7228, 0.7312, 0.7289, 0.7326, 0.7303, 0.7217, 0.7263, 0.7226, 0.7246,\n",
      "        0.7257, 0.7310, 0.7285, 0.7197, 0.7296, 0.7216], device='cuda:0',\n",
      "       grad_fn=<ViewBackward>)\n"
     ]
    },
    {
     "name": "stderr",
     "output_type": "stream",
     "text": [
      "\r",
      " 45%|████▍     | 66/147 [02:36<03:12,  2.37s/it]"
     ]
    },
    {
     "name": "stdout",
     "output_type": "stream",
     "text": [
      "real images output:  tensor([0.0487, 0.0505, 0.0552, 0.0568, 0.0617, 0.0541, 0.0635, 0.0620, 0.0364,\n",
      "        0.0525, 0.0713, 0.0701, 0.0560, 0.0499, 0.0634, 0.0519, 0.0561, 0.0575,\n",
      "        0.0560, 0.0622, 0.0765, 0.0617, 0.0558, 0.0535], device='cuda:0',\n",
      "       grad_fn=<ViewBackward>)\n",
      "fake images output:  tensor([0.9095, 0.9113, 0.9093, 0.9094, 0.9064, 0.9091, 0.9073, 0.9100, 0.9044,\n",
      "        0.9097, 0.9078, 0.9067, 0.9040, 0.9105, 0.9087, 0.9059, 0.9089, 0.9099,\n",
      "        0.9058, 0.9051, 0.9071, 0.9088, 0.9089, 0.9097], device='cuda:0',\n",
      "       grad_fn=<ViewBackward>)\n"
     ]
    },
    {
     "name": "stderr",
     "output_type": "stream",
     "text": [
      "\r",
      " 46%|████▌     | 67/147 [02:39<03:09,  2.37s/it]"
     ]
    },
    {
     "name": "stdout",
     "output_type": "stream",
     "text": [
      "real images output:  tensor([0.0877, 0.0507, 0.0581, 0.0511, 0.0599, 0.0565, 0.0537, 0.0571, 0.0480,\n",
      "        0.0566, 0.0492, 0.0728, 0.0942, 0.0451, 0.0658, 0.0499, 0.0513, 0.0565,\n",
      "        0.0558, 0.0561, 0.0662, 0.0542, 0.0551, 0.0510], device='cuda:0',\n",
      "       grad_fn=<ViewBackward>)\n",
      "fake images output:  tensor([0.8331, 0.8339, 0.8313, 0.8354, 0.8350, 0.8367, 0.8366, 0.8365, 0.8398,\n",
      "        0.8321, 0.8332, 0.8380, 0.8393, 0.8348, 0.8343, 0.8400, 0.8332, 0.8358,\n",
      "        0.8319, 0.8358, 0.8333, 0.8353, 0.8338, 0.8369], device='cuda:0',\n",
      "       grad_fn=<ViewBackward>)\n"
     ]
    },
    {
     "name": "stderr",
     "output_type": "stream",
     "text": [
      "\r",
      " 46%|████▋     | 68/147 [02:41<03:07,  2.37s/it]"
     ]
    },
    {
     "name": "stdout",
     "output_type": "stream",
     "text": [
      "real images output:  tensor([0.0375, 0.0421, 0.0569, 0.0514, 0.0725, 0.0525, 0.0512, 0.0525, 0.0511,\n",
      "        0.0520, 0.0514, 0.0486, 0.0807, 0.0534, 0.0516, 0.0600, 0.0987, 0.0967,\n",
      "        0.0463, 0.0793, 0.0468, 0.0533, 0.0826, 0.0993], device='cuda:0',\n",
      "       grad_fn=<ViewBackward>)\n",
      "fake images output:  tensor([0.8426, 0.8338, 0.8357, 0.8393, 0.8313, 0.8350, 0.8321, 0.8374, 0.8380,\n",
      "        0.8362, 0.8372, 0.8361, 0.8352, 0.8370, 0.8344, 0.8377, 0.8353, 0.8310,\n",
      "        0.8353, 0.8379, 0.8340, 0.8397, 0.8377, 0.8370], device='cuda:0',\n",
      "       grad_fn=<ViewBackward>)\n"
     ]
    },
    {
     "name": "stderr",
     "output_type": "stream",
     "text": [
      "\r",
      " 47%|████▋     | 69/147 [02:43<03:05,  2.37s/it]"
     ]
    },
    {
     "name": "stdout",
     "output_type": "stream",
     "text": [
      "real images output:  tensor([0.0675, 0.0577, 0.0594, 0.0694, 0.0659, 0.0787, 0.0694, 0.0475, 0.0576,\n",
      "        0.0677, 0.0553, 0.0477, 0.0843, 0.0510, 0.0720, 0.1043, 0.0732, 0.1426,\n",
      "        0.0519, 0.0830, 0.0604, 0.0522, 0.0738, 0.0556], device='cuda:0',\n",
      "       grad_fn=<ViewBackward>)\n",
      "fake images output:  tensor([0.8622, 0.8606, 0.8570, 0.8552, 0.8563, 0.8604, 0.8594, 0.8596, 0.8578,\n",
      "        0.8644, 0.8628, 0.8613, 0.8580, 0.8580, 0.8613, 0.8606, 0.8635, 0.8593,\n",
      "        0.8651, 0.8593, 0.8605, 0.8601, 0.8612, 0.8623], device='cuda:0',\n",
      "       grad_fn=<ViewBackward>)\n"
     ]
    },
    {
     "name": "stderr",
     "output_type": "stream",
     "text": [
      "\r",
      " 48%|████▊     | 70/147 [02:46<03:02,  2.37s/it]"
     ]
    },
    {
     "name": "stdout",
     "output_type": "stream",
     "text": [
      "real images output:  tensor([0.0753, 0.0703, 0.0597, 0.0422, 0.0522, 0.0660, 0.0645, 0.0874, 0.0683,\n",
      "        0.0490, 0.0528, 0.0675, 0.0569, 0.0594, 0.0592, 0.0875, 0.0485, 0.0806,\n",
      "        0.0634, 0.0564, 0.1167, 0.0523, 0.0751, 0.0517], device='cuda:0',\n",
      "       grad_fn=<ViewBackward>)\n",
      "fake images output:  tensor([0.8642, 0.8699, 0.8648, 0.8640, 0.8671, 0.8664, 0.8646, 0.8671, 0.8652,\n",
      "        0.8674, 0.8646, 0.8658, 0.8666, 0.8714, 0.8666, 0.8648, 0.8662, 0.8646,\n",
      "        0.8648, 0.8679, 0.8672, 0.8683, 0.8643, 0.8644], device='cuda:0',\n",
      "       grad_fn=<ViewBackward>)\n"
     ]
    },
    {
     "name": "stderr",
     "output_type": "stream",
     "text": [
      "\r",
      " 48%|████▊     | 71/147 [02:48<03:00,  2.37s/it]"
     ]
    },
    {
     "name": "stdout",
     "output_type": "stream",
     "text": [
      "real images output:  tensor([0.0767, 0.0511, 0.0584, 0.0904, 0.0718, 0.0476, 0.0802, 0.0634, 0.0778,\n",
      "        0.0622, 0.0676, 0.0550, 0.0495, 0.0458, 0.0517, 0.0486, 0.0411, 0.0556,\n",
      "        0.0493, 0.0480, 0.0868, 0.0525, 0.2736, 0.0735], device='cuda:0',\n",
      "       grad_fn=<ViewBackward>)\n",
      "fake images output:  tensor([0.8624, 0.8642, 0.8625, 0.8601, 0.8633, 0.8616, 0.8640, 0.8628, 0.8644,\n",
      "        0.8642, 0.8628, 0.8654, 0.8626, 0.8639, 0.8623, 0.8621, 0.8643, 0.8650,\n",
      "        0.8655, 0.8621, 0.8622, 0.8636, 0.8641, 0.8652], device='cuda:0',\n",
      "       grad_fn=<ViewBackward>)\n"
     ]
    },
    {
     "name": "stderr",
     "output_type": "stream",
     "text": [
      "\r",
      " 49%|████▉     | 72/147 [02:51<02:58,  2.38s/it]"
     ]
    },
    {
     "name": "stdout",
     "output_type": "stream",
     "text": [
      "real images output:  tensor([0.0474, 0.0741, 0.0649, 0.0387, 0.0803, 0.0581, 0.0733, 0.0565, 0.0626,\n",
      "        0.0510, 0.0262, 0.0508, 0.0474, 0.0501, 0.0525, 0.0612, 0.0553, 0.0794,\n",
      "        0.0560, 0.0494, 0.0594, 0.0645, 0.0453, 0.0579], device='cuda:0',\n",
      "       grad_fn=<ViewBackward>)\n",
      "fake images output:  tensor([0.8485, 0.8493, 0.8492, 0.8512, 0.8484, 0.8482, 0.8453, 0.8485, 0.8458,\n",
      "        0.8522, 0.8483, 0.8497, 0.8479, 0.8501, 0.8470, 0.8494, 0.8484, 0.8471,\n",
      "        0.8504, 0.8467, 0.8506, 0.8477, 0.8476, 0.8480], device='cuda:0',\n",
      "       grad_fn=<ViewBackward>)\n"
     ]
    },
    {
     "name": "stderr",
     "output_type": "stream",
     "text": [
      "\r",
      " 50%|████▉     | 73/147 [02:53<02:55,  2.38s/it]"
     ]
    },
    {
     "name": "stdout",
     "output_type": "stream",
     "text": [
      "real images output:  tensor([0.0478, 0.0446, 0.0490, 0.0461, 0.0614, 0.1001, 0.0664, 0.0402, 0.0501,\n",
      "        0.0325, 0.0463, 0.0614, 0.0494, 0.0485, 0.0586, 0.0410, 0.0425, 0.0465,\n",
      "        0.0459, 0.0496, 0.0486, 0.0476, 0.0448, 0.2870], device='cuda:0',\n",
      "       grad_fn=<ViewBackward>)\n",
      "fake images output:  tensor([0.8173, 0.8118, 0.8182, 0.8184, 0.8114, 0.8129, 0.8239, 0.8206, 0.8184,\n",
      "        0.8212, 0.8144, 0.8152, 0.8160, 0.8178, 0.8208, 0.8158, 0.8166, 0.8206,\n",
      "        0.8183, 0.8210, 0.8213, 0.8186, 0.8154, 0.8165], device='cuda:0',\n",
      "       grad_fn=<ViewBackward>)\n"
     ]
    },
    {
     "name": "stderr",
     "output_type": "stream",
     "text": [
      "\r",
      " 50%|█████     | 74/147 [02:55<02:53,  2.38s/it]"
     ]
    },
    {
     "name": "stdout",
     "output_type": "stream",
     "text": [
      "real images output:  tensor([0.0615, 0.0581, 0.0454, 0.0356, 0.0806, 0.0534, 0.0873, 0.0370, 0.0559,\n",
      "        0.0506, 0.0582, 0.0594, 0.0535, 0.0615, 0.0459, 0.0556, 0.0348, 0.0694,\n",
      "        0.0858, 0.0581, 0.0627, 0.0590, 0.0515, 0.0410], device='cuda:0',\n",
      "       grad_fn=<ViewBackward>)\n",
      "fake images output:  tensor([0.8104, 0.8008, 0.8057, 0.8078, 0.7976, 0.8036, 0.8036, 0.8083, 0.8085,\n",
      "        0.8064, 0.8006, 0.8075, 0.8002, 0.8050, 0.8047, 0.8062, 0.8029, 0.7986,\n",
      "        0.8001, 0.7951, 0.8070, 0.8051, 0.8013, 0.8061], device='cuda:0',\n",
      "       grad_fn=<ViewBackward>)\n"
     ]
    },
    {
     "name": "stderr",
     "output_type": "stream",
     "text": [
      "\r",
      " 51%|█████     | 75/147 [02:58<02:50,  2.37s/it]"
     ]
    },
    {
     "name": "stdout",
     "output_type": "stream",
     "text": [
      "real images output:  tensor([0.1111, 0.0576, 0.0854, 0.1097, 0.0720, 0.0330, 0.0728, 0.0711, 0.0804,\n",
      "        0.0360, 0.0628, 0.0966, 0.0654, 0.0552, 0.0536, 0.0606, 0.0540, 0.0587,\n",
      "        0.0385, 0.1067, 0.0545, 0.0631, 0.0562, 0.0661], device='cuda:0',\n",
      "       grad_fn=<ViewBackward>)\n",
      "fake images output:  tensor([0.7914, 0.7894, 0.7882, 0.7777, 0.7791, 0.7910, 0.7889, 0.7890, 0.7809,\n",
      "        0.7850, 0.7919, 0.7840, 0.7821, 0.7859, 0.7817, 0.7867, 0.7825, 0.7918,\n",
      "        0.7881, 0.7851, 0.7871, 0.7858, 0.7867, 0.7830], device='cuda:0',\n",
      "       grad_fn=<ViewBackward>)\n"
     ]
    },
    {
     "name": "stderr",
     "output_type": "stream",
     "text": [
      "\r",
      " 52%|█████▏    | 76/147 [03:00<02:48,  2.37s/it]"
     ]
    },
    {
     "name": "stdout",
     "output_type": "stream",
     "text": [
      "real images output:  tensor([0.0790, 0.0528, 0.0623, 0.0492, 0.1737, 0.0590, 0.0552, 0.0568, 0.0612,\n",
      "        0.0660, 0.0650, 0.0583, 0.0448, 0.0588, 0.0784, 0.1054, 0.0555, 0.0525,\n",
      "        0.0657, 0.0435, 0.0557, 0.0589, 0.0543, 0.0619], device='cuda:0',\n",
      "       grad_fn=<ViewBackward>)\n",
      "fake images output:  tensor([0.8364, 0.8375, 0.8372, 0.8412, 0.8406, 0.8341, 0.8364, 0.8377, 0.8409,\n",
      "        0.8409, 0.8386, 0.8343, 0.8370, 0.8394, 0.8398, 0.8379, 0.8393, 0.8371,\n",
      "        0.8338, 0.8384, 0.8349, 0.8361, 0.8405, 0.8364], device='cuda:0',\n",
      "       grad_fn=<ViewBackward>)\n"
     ]
    },
    {
     "name": "stderr",
     "output_type": "stream",
     "text": [
      "\r",
      " 52%|█████▏    | 77/147 [03:02<02:46,  2.38s/it]"
     ]
    },
    {
     "name": "stdout",
     "output_type": "stream",
     "text": [
      "real images output:  tensor([0.0601, 0.0481, 0.0619, 0.0435, 0.0711, 0.0458, 0.1660, 0.0540, 0.0551,\n",
      "        0.0529, 0.0542, 0.1054, 0.0726, 0.0581, 0.0592, 0.0601, 0.0893, 0.0510,\n",
      "        0.0466, 0.0558, 0.0481, 0.1552, 0.0466, 0.0853], device='cuda:0',\n",
      "       grad_fn=<ViewBackward>)\n",
      "fake images output:  tensor([0.8672, 0.8727, 0.8736, 0.8689, 0.8717, 0.8692, 0.8696, 0.8756, 0.8676,\n",
      "        0.8715, 0.8719, 0.8677, 0.8735, 0.8734, 0.8719, 0.8718, 0.8698, 0.8693,\n",
      "        0.8657, 0.8728, 0.8696, 0.8722, 0.8686, 0.8727], device='cuda:0',\n",
      "       grad_fn=<ViewBackward>)\n"
     ]
    },
    {
     "name": "stderr",
     "output_type": "stream",
     "text": [
      "\r",
      " 53%|█████▎    | 78/147 [03:05<02:44,  2.38s/it]"
     ]
    },
    {
     "name": "stdout",
     "output_type": "stream",
     "text": [
      "real images output:  tensor([0.0474, 0.0532, 0.0469, 0.0629, 0.0445, 0.0556, 0.0509, 0.0526, 0.0417,\n",
      "        0.0793, 0.0756, 0.0515, 0.0460, 0.0564, 0.0369, 0.0549, 0.2058, 0.0479,\n",
      "        0.0529, 0.0542, 0.0666, 0.0687, 0.0403, 0.0454], device='cuda:0',\n",
      "       grad_fn=<ViewBackward>)\n",
      "fake images output:  tensor([0.8839, 0.8865, 0.8836, 0.8868, 0.8848, 0.8841, 0.8856, 0.8835, 0.8853,\n",
      "        0.8864, 0.8857, 0.8843, 0.8855, 0.8859, 0.8839, 0.8848, 0.8853, 0.8839,\n",
      "        0.8864, 0.8844, 0.8861, 0.8838, 0.8843, 0.8862], device='cuda:0',\n",
      "       grad_fn=<ViewBackward>)\n"
     ]
    },
    {
     "name": "stderr",
     "output_type": "stream",
     "text": [
      "\r",
      " 54%|█████▎    | 79/147 [03:07<02:41,  2.37s/it]"
     ]
    },
    {
     "name": "stdout",
     "output_type": "stream",
     "text": [
      "real images output:  tensor([0.0538, 0.0470, 0.0359, 0.0543, 0.0485, 0.0495, 0.0510, 0.0369, 0.0489,\n",
      "        0.0533, 0.0456, 0.0656, 0.0742, 0.0628, 0.0573, 0.0477, 0.0533, 0.0950,\n",
      "        0.0514, 0.0862, 0.0591, 0.0390, 0.0791, 0.0816], device='cuda:0',\n",
      "       grad_fn=<ViewBackward>)\n",
      "fake images output:  tensor([0.8841, 0.8842, 0.8833, 0.8845, 0.8838, 0.8820, 0.8845, 0.8840, 0.8862,\n",
      "        0.8858, 0.8849, 0.8844, 0.8831, 0.8836, 0.8855, 0.8869, 0.8873, 0.8838,\n",
      "        0.8847, 0.8846, 0.8845, 0.8855, 0.8852, 0.8869], device='cuda:0',\n",
      "       grad_fn=<ViewBackward>)\n"
     ]
    },
    {
     "name": "stderr",
     "output_type": "stream",
     "text": [
      "\r",
      " 54%|█████▍    | 80/147 [03:10<02:39,  2.38s/it]"
     ]
    },
    {
     "name": "stdout",
     "output_type": "stream",
     "text": [
      "real images output:  tensor([0.0542, 0.0396, 0.0922, 0.0424, 0.0543, 0.0457, 0.0534, 0.0967, 0.0610,\n",
      "        0.0550, 0.0369, 0.0511, 0.0745, 0.0505, 0.0457, 0.0444, 0.0657, 0.0404,\n",
      "        0.0640, 0.0509, 0.0482, 0.0400, 0.0926, 0.0425], device='cuda:0',\n",
      "       grad_fn=<ViewBackward>)\n",
      "fake images output:  tensor([0.8830, 0.8832, 0.8831, 0.8845, 0.8854, 0.8830, 0.8834, 0.8856, 0.8843,\n",
      "        0.8829, 0.8840, 0.8860, 0.8829, 0.8821, 0.8819, 0.8851, 0.8825, 0.8846,\n",
      "        0.8832, 0.8852, 0.8848, 0.8858, 0.8862, 0.8846], device='cuda:0',\n",
      "       grad_fn=<ViewBackward>)\n"
     ]
    },
    {
     "name": "stderr",
     "output_type": "stream",
     "text": [
      "\r",
      " 55%|█████▌    | 81/147 [03:12<02:36,  2.38s/it]"
     ]
    },
    {
     "name": "stdout",
     "output_type": "stream",
     "text": [
      "real images output:  tensor([0.0378, 0.0445, 0.0559, 0.0454, 0.0371, 0.0480, 0.0423, 0.0395, 0.0887,\n",
      "        0.1254, 0.0630, 0.0790, 0.0614, 0.0453, 0.0479, 0.0432, 0.0477, 0.0850,\n",
      "        0.0557, 0.0604, 0.0373, 0.0438, 0.0531, 0.0764], device='cuda:0',\n",
      "       grad_fn=<ViewBackward>)\n",
      "fake images output:  tensor([0.8716, 0.8711, 0.8717, 0.8705, 0.8731, 0.8693, 0.8687, 0.8741, 0.8728,\n",
      "        0.8708, 0.8711, 0.8721, 0.8718, 0.8728, 0.8731, 0.8699, 0.8721, 0.8743,\n",
      "        0.8717, 0.8722, 0.8718, 0.8697, 0.8733, 0.8717], device='cuda:0',\n",
      "       grad_fn=<ViewBackward>)\n"
     ]
    },
    {
     "name": "stderr",
     "output_type": "stream",
     "text": [
      "\r",
      " 56%|█████▌    | 82/147 [03:14<02:34,  2.38s/it]"
     ]
    },
    {
     "name": "stdout",
     "output_type": "stream",
     "text": [
      "real images output:  tensor([0.0617, 0.0335, 0.0373, 0.0417, 0.0542, 0.0538, 0.0361, 0.0565, 0.0543,\n",
      "        0.0427, 0.0527, 0.0731, 0.0374, 0.0405, 0.0365, 0.0422, 0.0424, 0.0558,\n",
      "        0.0354, 0.0545, 0.0318, 0.0390, 0.0537, 0.0448], device='cuda:0',\n",
      "       grad_fn=<ViewBackward>)\n",
      "fake images output:  tensor([0.8497, 0.8511, 0.8463, 0.8492, 0.8471, 0.8460, 0.8490, 0.8454, 0.8470,\n",
      "        0.8488, 0.8514, 0.8453, 0.8421, 0.8507, 0.8468, 0.8481, 0.8470, 0.8439,\n",
      "        0.8478, 0.8467, 0.8476, 0.8485, 0.8472, 0.8449], device='cuda:0',\n",
      "       grad_fn=<ViewBackward>)\n"
     ]
    },
    {
     "name": "stderr",
     "output_type": "stream",
     "text": [
      "\r",
      " 56%|█████▋    | 83/147 [03:17<02:32,  2.38s/it]"
     ]
    },
    {
     "name": "stdout",
     "output_type": "stream",
     "text": [
      "real images output:  tensor([0.1235, 0.0395, 0.0423, 0.0580, 0.0540, 0.0558, 0.0438, 0.0546, 0.0530,\n",
      "        0.0501, 0.0466, 0.0570, 0.0755, 0.0516, 0.2935, 0.0468, 0.0426, 0.0447,\n",
      "        0.0408, 0.0429, 0.0415, 0.0472, 0.0530, 0.0353], device='cuda:0',\n",
      "       grad_fn=<ViewBackward>)\n",
      "fake images output:  tensor([0.8664, 0.8641, 0.8688, 0.8693, 0.8669, 0.8647, 0.8682, 0.8657, 0.8699,\n",
      "        0.8603, 0.8617, 0.8626, 0.8717, 0.8712, 0.8623, 0.8633, 0.8641, 0.8654,\n",
      "        0.8594, 0.8639, 0.8658, 0.8660, 0.8637, 0.8629], device='cuda:0',\n",
      "       grad_fn=<ViewBackward>)\n"
     ]
    },
    {
     "name": "stderr",
     "output_type": "stream",
     "text": [
      "\r",
      " 57%|█████▋    | 84/147 [03:19<02:29,  2.38s/it]"
     ]
    },
    {
     "name": "stdout",
     "output_type": "stream",
     "text": [
      "real images output:  tensor([0.0621, 0.0576, 0.0817, 0.0557, 0.0482, 0.0464, 0.0604, 0.0605, 0.0658,\n",
      "        0.0591, 0.0503, 0.0427, 0.0423, 0.0451, 0.0426, 0.0422, 0.0437, 0.0442,\n",
      "        0.0433, 0.0726, 0.0335, 0.0435, 0.0457, 0.0486], device='cuda:0',\n",
      "       grad_fn=<ViewBackward>)\n",
      "fake images output:  tensor([0.8046, 0.8084, 0.8091, 0.8101, 0.8047, 0.8090, 0.8099, 0.8164, 0.8172,\n",
      "        0.8108, 0.8244, 0.8146, 0.8187, 0.8093, 0.8093, 0.8109, 0.8080, 0.8157,\n",
      "        0.8066, 0.8100, 0.8113, 0.8170, 0.8117, 0.8103], device='cuda:0',\n",
      "       grad_fn=<ViewBackward>)\n"
     ]
    },
    {
     "name": "stderr",
     "output_type": "stream",
     "text": [
      "\r",
      " 58%|█████▊    | 85/147 [03:21<02:27,  2.37s/it]"
     ]
    },
    {
     "name": "stdout",
     "output_type": "stream",
     "text": [
      "real images output:  tensor([0.0987, 0.0533, 0.0433, 0.0748, 0.0333, 0.0473, 0.0588, 0.0371, 0.0481,\n",
      "        0.0547, 0.0453, 0.0581, 0.0480, 0.0450, 0.0474, 0.0394, 0.0567, 0.0748,\n",
      "        0.0541, 0.0398, 0.0601, 0.0379, 0.0512, 0.0479], device='cuda:0',\n",
      "       grad_fn=<ViewBackward>)\n",
      "fake images output:  tensor([0.8865, 0.8929, 0.8870, 0.8925, 0.8949, 0.8913, 0.8897, 0.8839, 0.8936,\n",
      "        0.8924, 0.8903, 0.8888, 0.8919, 0.8871, 0.8898, 0.8906, 0.8867, 0.8867,\n",
      "        0.8958, 0.8896, 0.8877, 0.8861, 0.8944, 0.8910], device='cuda:0',\n",
      "       grad_fn=<ViewBackward>)\n"
     ]
    },
    {
     "name": "stderr",
     "output_type": "stream",
     "text": [
      "\r",
      " 59%|█████▊    | 86/147 [03:24<02:24,  2.37s/it]"
     ]
    },
    {
     "name": "stdout",
     "output_type": "stream",
     "text": [
      "real images output:  tensor([0.0744, 0.0755, 0.0547, 0.0411, 0.0401, 0.0502, 0.0571, 0.0733, 0.0516,\n",
      "        0.0355, 0.0694, 0.0561, 0.0369, 0.0662, 0.0507, 0.0453, 0.0433, 0.0517,\n",
      "        0.1689, 0.0535, 0.0311, 0.0699, 0.0491, 0.0552], device='cuda:0',\n",
      "       grad_fn=<ViewBackward>)\n",
      "fake images output:  tensor([0.8723, 0.8722, 0.8682, 0.8728, 0.8742, 0.8687, 0.8675, 0.8695, 0.8733,\n",
      "        0.8704, 0.8731, 0.8747, 0.8698, 0.8761, 0.8730, 0.8705, 0.8773, 0.8666,\n",
      "        0.8693, 0.8668, 0.8718, 0.8765, 0.8661, 0.8686], device='cuda:0',\n",
      "       grad_fn=<ViewBackward>)\n"
     ]
    },
    {
     "name": "stderr",
     "output_type": "stream",
     "text": [
      "\r",
      " 59%|█████▉    | 87/147 [03:26<02:22,  2.37s/it]"
     ]
    },
    {
     "name": "stdout",
     "output_type": "stream",
     "text": [
      "real images output:  tensor([0.0416, 0.0485, 0.0478, 0.0448, 0.0620, 0.0483, 0.0340, 0.0454, 0.0432,\n",
      "        0.0523, 0.0485, 0.0453, 0.0489, 0.0403, 0.3772, 0.0668, 0.0598, 0.1324,\n",
      "        0.0810, 0.0400, 0.0472, 0.0458, 0.0400, 0.0390], device='cuda:0',\n",
      "       grad_fn=<ViewBackward>)\n",
      "fake images output:  tensor([0.8633, 0.8644, 0.8655, 0.8689, 0.8654, 0.8648, 0.8610, 0.8653, 0.8633,\n",
      "        0.8656, 0.8623, 0.8646, 0.8649, 0.8642, 0.8616, 0.8641, 0.8642, 0.8620,\n",
      "        0.8631, 0.8639, 0.8636, 0.8600, 0.8602, 0.8626], device='cuda:0',\n",
      "       grad_fn=<ViewBackward>)\n"
     ]
    },
    {
     "name": "stderr",
     "output_type": "stream",
     "text": [
      "\r",
      " 60%|█████▉    | 88/147 [03:29<02:20,  2.37s/it]"
     ]
    },
    {
     "name": "stdout",
     "output_type": "stream",
     "text": [
      "real images output:  tensor([0.0560, 0.0484, 0.0538, 0.3743, 0.0348, 0.0513, 0.0432, 0.0515, 0.0446,\n",
      "        0.0535, 0.0415, 0.0503, 0.0402, 0.0497, 0.0546, 0.0414, 0.0442, 0.0455,\n",
      "        0.0373, 0.0410, 0.0425, 0.3255, 0.0659, 0.0471], device='cuda:0',\n",
      "       grad_fn=<ViewBackward>)\n",
      "fake images output:  tensor([0.8388, 0.8381, 0.8356, 0.8413, 0.8414, 0.8383, 0.8389, 0.8414, 0.8416,\n",
      "        0.8408, 0.8419, 0.8377, 0.8413, 0.8435, 0.8432, 0.8397, 0.8384, 0.8413,\n",
      "        0.8414, 0.8398, 0.8411, 0.8389, 0.8408, 0.8445], device='cuda:0',\n",
      "       grad_fn=<ViewBackward>)\n"
     ]
    },
    {
     "name": "stderr",
     "output_type": "stream",
     "text": [
      "\r",
      " 61%|██████    | 89/147 [03:31<02:17,  2.37s/it]"
     ]
    },
    {
     "name": "stdout",
     "output_type": "stream",
     "text": [
      "real images output:  tensor([0.1292, 0.0513, 0.0731, 0.0558, 0.1295, 0.0487, 0.0728, 0.0798, 0.0649,\n",
      "        0.0469, 0.0735, 0.0795, 0.0771, 0.0797, 0.0684, 0.0500, 0.1140, 0.1031,\n",
      "        0.0951, 0.0993, 0.0688, 0.0410, 0.0876, 0.0349], device='cuda:0',\n",
      "       grad_fn=<ViewBackward>)\n",
      "fake images output:  tensor([0.8675, 0.8798, 0.8721, 0.8732, 0.8735, 0.8774, 0.8762, 0.8806, 0.8718,\n",
      "        0.8748, 0.8776, 0.8735, 0.8768, 0.8741, 0.8826, 0.8715, 0.8679, 0.8769,\n",
      "        0.8816, 0.8813, 0.8782, 0.8689, 0.8735, 0.8785], device='cuda:0',\n",
      "       grad_fn=<ViewBackward>)\n"
     ]
    },
    {
     "name": "stderr",
     "output_type": "stream",
     "text": [
      "\r",
      " 61%|██████    | 90/147 [03:33<02:15,  2.37s/it]"
     ]
    },
    {
     "name": "stdout",
     "output_type": "stream",
     "text": [
      "real images output:  tensor([0.0483, 0.0476, 0.0648, 0.0517, 0.0623, 0.0542, 0.0471, 0.0170, 0.0535,\n",
      "        0.0471, 0.0248, 0.0503, 0.0497, 0.0523, 0.0970, 0.0687, 0.0438, 0.0785,\n",
      "        0.0493, 0.0597, 0.0473, 0.0524, 0.0516, 0.0460], device='cuda:0',\n",
      "       grad_fn=<ViewBackward>)\n",
      "fake images output:  tensor([0.8572, 0.8564, 0.8526, 0.8616, 0.8564, 0.8565, 0.8542, 0.8600, 0.8483,\n",
      "        0.8622, 0.8566, 0.8528, 0.8524, 0.8545, 0.8638, 0.8570, 0.8541, 0.8469,\n",
      "        0.8604, 0.8619, 0.8549, 0.8588, 0.8552, 0.8575], device='cuda:0',\n",
      "       grad_fn=<ViewBackward>)\n"
     ]
    },
    {
     "name": "stderr",
     "output_type": "stream",
     "text": [
      "\r",
      " 62%|██████▏   | 91/147 [03:36<02:12,  2.37s/it]"
     ]
    },
    {
     "name": "stdout",
     "output_type": "stream",
     "text": [
      "real images output:  tensor([0.0266, 0.1071, 0.0678, 0.0430, 0.0422, 0.0433, 0.0393, 0.0612, 0.0447,\n",
      "        0.0504, 0.0411, 0.0506, 0.0416, 0.0385, 0.0815, 0.0651, 0.0437, 0.1594,\n",
      "        0.0582, 0.0446, 0.0497, 0.0511, 0.0441, 0.0460], device='cuda:0',\n",
      "       grad_fn=<ViewBackward>)\n",
      "fake images output:  tensor([0.8712, 0.8625, 0.8680, 0.8659, 0.8638, 0.8705, 0.8733, 0.8703, 0.8662,\n",
      "        0.8671, 0.8646, 0.8637, 0.8710, 0.8641, 0.8670, 0.8710, 0.8702, 0.8661,\n",
      "        0.8603, 0.8696, 0.8659, 0.8682, 0.8611, 0.8678], device='cuda:0',\n",
      "       grad_fn=<ViewBackward>)\n"
     ]
    },
    {
     "name": "stderr",
     "output_type": "stream",
     "text": [
      "\r",
      " 63%|██████▎   | 92/147 [03:38<02:10,  2.37s/it]"
     ]
    },
    {
     "name": "stdout",
     "output_type": "stream",
     "text": [
      "real images output:  tensor([0.0384, 0.0399, 0.0652, 0.0361, 0.0726, 0.1037, 0.0470, 0.0579, 0.0566,\n",
      "        0.0481, 0.0426, 0.0324, 0.0408, 0.0472, 0.0489, 0.0510, 0.0466, 0.0385,\n",
      "        0.0605, 0.0437, 0.0449, 0.0549, 0.0360, 0.0797], device='cuda:0',\n",
      "       grad_fn=<ViewBackward>)\n",
      "fake images output:  tensor([0.8538, 0.8553, 0.8528, 0.8560, 0.8557, 0.8528, 0.8541, 0.8514, 0.8537,\n",
      "        0.8525, 0.8521, 0.8551, 0.8532, 0.8517, 0.8548, 0.8519, 0.8510, 0.8529,\n",
      "        0.8518, 0.8519, 0.8510, 0.8540, 0.8491, 0.8506], device='cuda:0',\n",
      "       grad_fn=<ViewBackward>)\n"
     ]
    },
    {
     "name": "stderr",
     "output_type": "stream",
     "text": [
      "\r",
      " 63%|██████▎   | 93/147 [03:40<02:08,  2.37s/it]"
     ]
    },
    {
     "name": "stdout",
     "output_type": "stream",
     "text": [
      "real images output:  tensor([0.0416, 0.0412, 0.0616, 0.0317, 0.0385, 0.0526, 0.0392, 0.0453, 0.0437,\n",
      "        0.0576, 0.0453, 0.2270, 0.0555, 0.0384, 0.2786, 0.0416, 0.0394, 0.0323,\n",
      "        0.0467, 0.0438, 0.0546, 0.0743, 0.0370, 0.0711], device='cuda:0',\n",
      "       grad_fn=<ViewBackward>)\n",
      "fake images output:  tensor([0.8524, 0.8534, 0.8487, 0.8435, 0.8511, 0.8470, 0.8441, 0.8517, 0.8509,\n",
      "        0.8408, 0.8434, 0.8515, 0.8488, 0.8488, 0.8488, 0.8469, 0.8532, 0.8490,\n",
      "        0.8442, 0.8484, 0.8471, 0.8457, 0.8463, 0.8450], device='cuda:0',\n",
      "       grad_fn=<ViewBackward>)\n"
     ]
    },
    {
     "name": "stderr",
     "output_type": "stream",
     "text": [
      "\r",
      " 64%|██████▍   | 94/147 [03:43<02:05,  2.37s/it]"
     ]
    },
    {
     "name": "stdout",
     "output_type": "stream",
     "text": [
      "real images output:  tensor([0.0498, 0.0481, 0.0397, 0.0616, 0.0458, 0.0493, 0.0444, 0.0368, 0.0267,\n",
      "        0.0429, 0.0423, 0.0533, 0.0188, 0.0506, 0.0249, 0.0349, 0.0491, 0.0601,\n",
      "        0.0421, 0.0431, 0.0460, 0.0284, 0.0407, 0.0479], device='cuda:0',\n",
      "       grad_fn=<ViewBackward>)\n",
      "fake images output:  tensor([0.8748, 0.8714, 0.8738, 0.8718, 0.8713, 0.8696, 0.8664, 0.8709, 0.8732,\n",
      "        0.8696, 0.8748, 0.8744, 0.8755, 0.8676, 0.8696, 0.8708, 0.8691, 0.8701,\n",
      "        0.8710, 0.8756, 0.8682, 0.8736, 0.8710, 0.8782], device='cuda:0',\n",
      "       grad_fn=<ViewBackward>)\n"
     ]
    },
    {
     "name": "stderr",
     "output_type": "stream",
     "text": [
      "\r",
      " 65%|██████▍   | 95/147 [03:45<02:03,  2.37s/it]"
     ]
    },
    {
     "name": "stdout",
     "output_type": "stream",
     "text": [
      "real images output:  tensor([0.0567, 0.0587, 0.0522, 0.0586, 0.0651, 0.0524, 0.3609, 0.0545, 0.0611,\n",
      "        0.0591, 0.0502, 0.0532, 0.0572, 0.0536, 0.0311, 0.0541, 0.0481, 0.0215,\n",
      "        0.0438, 0.0570, 0.0423, 0.0551, 0.0328, 0.0390], device='cuda:0',\n",
      "       grad_fn=<ViewBackward>)\n",
      "fake images output:  tensor([0.9365, 0.9359, 0.9374, 0.9369, 0.9360, 0.9368, 0.9361, 0.9389, 0.9376,\n",
      "        0.9383, 0.9353, 0.9365, 0.9357, 0.9364, 0.9365, 0.9355, 0.9372, 0.9375,\n",
      "        0.9383, 0.9345, 0.9357, 0.9367, 0.9365, 0.9369], device='cuda:0',\n",
      "       grad_fn=<ViewBackward>)\n"
     ]
    },
    {
     "name": "stderr",
     "output_type": "stream",
     "text": [
      "\r",
      " 65%|██████▌   | 96/147 [03:48<02:00,  2.37s/it]"
     ]
    },
    {
     "name": "stdout",
     "output_type": "stream",
     "text": [
      "real images output:  tensor([0.0361, 0.0639, 0.0599, 0.0526, 0.0450, 0.0309, 0.0405, 0.0525, 0.0453,\n",
      "        0.0545, 0.0483, 0.0683, 0.0572, 0.0651, 0.0542, 0.0643, 0.0682, 0.0587,\n",
      "        0.0612, 0.2007, 0.0403, 0.0411, 0.0274, 0.0498], device='cuda:0',\n",
      "       grad_fn=<ViewBackward>)\n",
      "fake images output:  tensor([0.9275, 0.9276, 0.9263, 0.9283, 0.9266, 0.9254, 0.9268, 0.9264, 0.9270,\n",
      "        0.9272, 0.9274, 0.9247, 0.9245, 0.9271, 0.9269, 0.9269, 0.9272, 0.9255,\n",
      "        0.9253, 0.9244, 0.9263, 0.9251, 0.9264, 0.9248], device='cuda:0',\n",
      "       grad_fn=<ViewBackward>)\n"
     ]
    },
    {
     "name": "stderr",
     "output_type": "stream",
     "text": [
      "\r",
      " 66%|██████▌   | 97/147 [03:50<01:58,  2.37s/it]"
     ]
    },
    {
     "name": "stdout",
     "output_type": "stream",
     "text": [
      "real images output:  tensor([0.0398, 0.0304, 0.0452, 0.0344, 0.0304, 0.0450, 0.0680, 0.0433, 0.0428,\n",
      "        0.0364, 0.0377, 0.0846, 0.0556, 0.0455, 0.0439, 0.0389, 0.0624, 0.0459,\n",
      "        0.0627, 0.1013, 0.1560, 0.0375, 0.0567, 0.0437], device='cuda:0',\n",
      "       grad_fn=<ViewBackward>)\n",
      "fake images output:  tensor([0.8779, 0.8829, 0.8791, 0.8842, 0.8782, 0.8815, 0.8783, 0.8796, 0.8731,\n",
      "        0.8821, 0.8840, 0.8800, 0.8792, 0.8803, 0.8766, 0.8779, 0.8770, 0.8810,\n",
      "        0.8802, 0.8823, 0.8800, 0.8808, 0.8775, 0.8824], device='cuda:0',\n",
      "       grad_fn=<ViewBackward>)\n"
     ]
    },
    {
     "name": "stderr",
     "output_type": "stream",
     "text": [
      "\r",
      " 67%|██████▋   | 98/147 [03:52<01:56,  2.37s/it]"
     ]
    },
    {
     "name": "stdout",
     "output_type": "stream",
     "text": [
      "real images output:  tensor([0.0449, 0.1916, 0.0363, 0.0460, 0.0477, 0.0560, 0.0379, 0.0277, 0.0442,\n",
      "        0.0577, 0.0477, 0.0428, 0.0323, 0.0570, 0.0478, 0.0443, 0.0615, 0.0363,\n",
      "        0.0520, 0.0379, 0.0442, 0.0452, 0.0367, 0.0617], device='cuda:0',\n",
      "       grad_fn=<ViewBackward>)\n",
      "fake images output:  tensor([0.8810, 0.8747, 0.8762, 0.8811, 0.8797, 0.8820, 0.8717, 0.8794, 0.8799,\n",
      "        0.8749, 0.8763, 0.8766, 0.8782, 0.8801, 0.8718, 0.8836, 0.8767, 0.8810,\n",
      "        0.8754, 0.8749, 0.8755, 0.8754, 0.8795, 0.8796], device='cuda:0',\n",
      "       grad_fn=<ViewBackward>)\n"
     ]
    },
    {
     "name": "stderr",
     "output_type": "stream",
     "text": [
      "\r",
      " 67%|██████▋   | 99/147 [03:55<01:53,  2.37s/it]"
     ]
    },
    {
     "name": "stdout",
     "output_type": "stream",
     "text": [
      "real images output:  tensor([0.0380, 0.0264, 0.0452, 0.0357, 0.0264, 0.0397, 0.0264, 0.0343, 0.0381,\n",
      "        0.0303, 0.0414, 0.0367, 0.0360, 0.0421, 0.0264, 0.0427, 0.0382, 0.0466,\n",
      "        0.0540, 0.0433, 0.0219, 0.0432, 0.0387, 0.0320], device='cuda:0',\n",
      "       grad_fn=<ViewBackward>)\n",
      "fake images output:  tensor([0.8443, 0.8468, 0.8521, 0.8429, 0.8486, 0.8481, 0.8438, 0.8449, 0.8556,\n",
      "        0.8486, 0.8469, 0.8472, 0.8449, 0.8446, 0.8421, 0.8468, 0.8569, 0.8528,\n",
      "        0.8527, 0.8481, 0.8476, 0.8528, 0.8456, 0.8409], device='cuda:0',\n",
      "       grad_fn=<ViewBackward>)\n"
     ]
    },
    {
     "name": "stderr",
     "output_type": "stream",
     "text": [
      "\r",
      " 68%|██████▊   | 100/147 [03:57<01:51,  2.37s/it]"
     ]
    },
    {
     "name": "stdout",
     "output_type": "stream",
     "text": [
      "real images output:  tensor([0.0306, 0.0409, 0.0505, 0.0397, 0.0386, 0.0568, 0.0391, 0.0471, 0.0371,\n",
      "        0.0372, 0.0437, 0.0408, 0.0426, 0.0399, 0.0256, 0.0519, 0.0454, 0.0387,\n",
      "        0.0294, 0.0416, 0.0656, 0.0233, 0.0405, 0.0381], device='cuda:0',\n",
      "       grad_fn=<ViewBackward>)\n",
      "fake images output:  tensor([0.7897, 0.7902, 0.7972, 0.8087, 0.7941, 0.7912, 0.7885, 0.7993, 0.7944,\n",
      "        0.7950, 0.7906, 0.7913, 0.7997, 0.7953, 0.7922, 0.7901, 0.7919, 0.7978,\n",
      "        0.7932, 0.8009, 0.7945, 0.7955, 0.8046, 0.8054], device='cuda:0',\n",
      "       grad_fn=<ViewBackward>)\n"
     ]
    },
    {
     "name": "stderr",
     "output_type": "stream",
     "text": [
      "\r",
      " 69%|██████▊   | 101/147 [03:59<01:49,  2.37s/it]"
     ]
    },
    {
     "name": "stdout",
     "output_type": "stream",
     "text": [
      "real images output:  tensor([0.0946, 0.1600, 0.1819, 0.1796, 0.2123, 0.1401, 0.1089, 0.2225, 0.1573,\n",
      "        0.1475, 0.1155, 0.1295, 0.1447, 0.0921, 0.2058, 0.1252, 0.1469, 0.0944,\n",
      "        0.1069, 0.1587, 0.1472, 0.2455, 0.1856, 0.1317], device='cuda:0',\n",
      "       grad_fn=<ViewBackward>)\n",
      "fake images output:  tensor([0.9533, 0.9519, 0.9536, 0.9551, 0.9541, 0.9541, 0.9525, 0.9546, 0.9526,\n",
      "        0.9536, 0.9541, 0.9531, 0.9529, 0.9549, 0.9552, 0.9542, 0.9527, 0.9534,\n",
      "        0.9557, 0.9527, 0.9536, 0.9534, 0.9545, 0.9530], device='cuda:0',\n",
      "       grad_fn=<ViewBackward>)\n"
     ]
    },
    {
     "name": "stderr",
     "output_type": "stream",
     "text": [
      "\r",
      " 69%|██████▉   | 102/147 [04:02<01:46,  2.37s/it]"
     ]
    },
    {
     "name": "stdout",
     "output_type": "stream",
     "text": [
      "real images output:  tensor([0.8794, 0.9167, 0.9283, 0.9282, 0.7778, 0.8830, 0.8941, 0.8856, 0.9297,\n",
      "        0.8436, 0.8792, 0.8465, 0.9268, 0.8544, 0.9077, 0.8831, 0.8401, 0.8794,\n",
      "        0.9040, 0.8916, 0.9068, 0.8758, 0.9251, 0.8810], device='cuda:0',\n",
      "       grad_fn=<ViewBackward>)\n",
      "fake images output:  tensor([0.8875, 0.8871, 0.8864, 0.8861, 0.8834, 0.8827, 0.8894, 0.8857, 0.8873,\n",
      "        0.8817, 0.8866, 0.8895, 0.8929, 0.8827, 0.8838, 0.8911, 0.8919, 0.8842,\n",
      "        0.8901, 0.8811, 0.8887, 0.8878, 0.8876, 0.8843], device='cuda:0',\n",
      "       grad_fn=<ViewBackward>)\n"
     ]
    },
    {
     "name": "stderr",
     "output_type": "stream",
     "text": [
      "\r",
      " 70%|███████   | 103/147 [04:04<01:44,  2.37s/it]"
     ]
    },
    {
     "name": "stdout",
     "output_type": "stream",
     "text": [
      "real images output:  tensor([0.2676, 0.2134, 0.3169, 0.0778, 0.7036, 0.2407, 0.0704, 0.0599, 0.0749,\n",
      "        0.3575, 0.4053, 0.2165, 0.2811, 0.0657, 0.2386, 0.2424, 0.2824, 0.1595,\n",
      "        0.2149, 0.1402, 0.3154, 0.2523, 0.1717, 0.2507], device='cuda:0',\n",
      "       grad_fn=<ViewBackward>)\n",
      "fake images output:  tensor([0.2740, 0.2979, 0.2386, 0.2480, 0.2663, 0.2934, 0.2796, 0.2483, 0.2717,\n",
      "        0.2669, 0.2540, 0.2396, 0.2677, 0.2421, 0.2523, 0.2647, 0.2557, 0.2391,\n",
      "        0.2884, 0.2731, 0.2995, 0.2573, 0.2658, 0.2775], device='cuda:0',\n",
      "       grad_fn=<ViewBackward>)\n"
     ]
    },
    {
     "name": "stderr",
     "output_type": "stream",
     "text": [
      "\r",
      " 71%|███████   | 104/147 [04:07<01:42,  2.37s/it]"
     ]
    },
    {
     "name": "stdout",
     "output_type": "stream",
     "text": [
      "real images output:  tensor([0.4832, 0.6820, 0.5087, 0.7309, 0.6306, 0.6166, 0.5411, 0.5830, 0.6832,\n",
      "        0.4990, 0.7517, 0.7308, 0.5873, 0.7310, 0.7174, 0.5100, 0.4882, 0.4889,\n",
      "        0.6877, 0.6232, 0.6365, 0.5301, 0.6971, 0.6091], device='cuda:0',\n",
      "       grad_fn=<ViewBackward>)\n",
      "fake images output:  tensor([0.8631, 0.8640, 0.8717, 0.8693, 0.8629, 0.8730, 0.8716, 0.8757, 0.8623,\n",
      "        0.8571, 0.8666, 0.8655, 0.8684, 0.8608, 0.8662, 0.8637, 0.8703, 0.8660,\n",
      "        0.8623, 0.8628, 0.8572, 0.8738, 0.8686, 0.8713], device='cuda:0',\n",
      "       grad_fn=<ViewBackward>)\n"
     ]
    },
    {
     "name": "stderr",
     "output_type": "stream",
     "text": [
      "\r",
      " 71%|███████▏  | 105/147 [04:09<01:39,  2.37s/it]"
     ]
    },
    {
     "name": "stdout",
     "output_type": "stream",
     "text": [
      "real images output:  tensor([0.3513, 0.1445, 0.3569, 0.1946, 0.2717, 0.3526, 0.1674, 0.1958, 0.1976,\n",
      "        0.2245, 0.3109, 0.0874, 0.3079, 0.0902, 0.0951, 0.2050, 0.2455, 0.2014,\n",
      "        0.0812, 0.3817, 0.1009, 0.1102, 0.3264, 0.2731], device='cuda:0',\n",
      "       grad_fn=<ViewBackward>)\n",
      "fake images output:  tensor([0.3678, 0.3489, 0.3345, 0.3388, 0.3684, 0.3464, 0.3588, 0.3410, 0.3559,\n",
      "        0.3416, 0.3392, 0.3411, 0.3407, 0.3493, 0.3585, 0.3336, 0.3508, 0.3432,\n",
      "        0.3379, 0.3405, 0.3293, 0.3483, 0.3405, 0.3399], device='cuda:0',\n",
      "       grad_fn=<ViewBackward>)\n"
     ]
    },
    {
     "name": "stderr",
     "output_type": "stream",
     "text": [
      "\r",
      " 72%|███████▏  | 106/147 [04:11<01:37,  2.37s/it]"
     ]
    },
    {
     "name": "stdout",
     "output_type": "stream",
     "text": [
      "real images output:  tensor([0.5027, 0.2872, 0.3514, 0.8475, 0.4573, 0.2383, 0.2342, 0.4770, 0.3084,\n",
      "        0.5593, 0.2697, 0.3828, 0.2451, 0.5134, 0.4941, 0.4006, 0.5464, 0.2584,\n",
      "        0.3811, 0.4036, 0.2510, 0.4026, 0.4276, 0.3585], device='cuda:0',\n",
      "       grad_fn=<ViewBackward>)\n",
      "fake images output:  tensor([0.7327, 0.7310, 0.7267, 0.7498, 0.7272, 0.7229, 0.7312, 0.7279, 0.7292,\n",
      "        0.7284, 0.7261, 0.7268, 0.7255, 0.7357, 0.7286, 0.7268, 0.7253, 0.7318,\n",
      "        0.7385, 0.7254, 0.7397, 0.7338, 0.7220, 0.7375], device='cuda:0',\n",
      "       grad_fn=<ViewBackward>)\n"
     ]
    },
    {
     "name": "stderr",
     "output_type": "stream",
     "text": [
      "\r",
      " 73%|███████▎  | 107/147 [04:14<01:35,  2.38s/it]"
     ]
    },
    {
     "name": "stdout",
     "output_type": "stream",
     "text": [
      "real images output:  tensor([0.1674, 0.0452, 0.0469, 0.2276, 0.1911, 0.1088, 0.3566, 0.0498, 0.0447,\n",
      "        0.0550, 0.1854, 0.1232, 0.1488, 0.3167, 0.2533, 0.0516, 0.1912, 0.1159,\n",
      "        0.3401, 0.0671, 0.0513, 0.1388, 0.0866, 0.0418], device='cuda:0',\n",
      "       grad_fn=<ViewBackward>)\n",
      "fake images output:  tensor([0.5286, 0.5175, 0.4988, 0.5140, 0.5040, 0.4897, 0.4976, 0.5289, 0.5097,\n",
      "        0.5050, 0.5202, 0.5088, 0.5063, 0.5082, 0.4983, 0.5080, 0.5058, 0.5108,\n",
      "        0.5087, 0.4972, 0.5105, 0.5212, 0.5181, 0.5076], device='cuda:0',\n",
      "       grad_fn=<ViewBackward>)\n"
     ]
    },
    {
     "name": "stderr",
     "output_type": "stream",
     "text": [
      "\r",
      " 73%|███████▎  | 108/147 [04:16<01:32,  2.38s/it]"
     ]
    },
    {
     "name": "stdout",
     "output_type": "stream",
     "text": [
      "real images output:  tensor([0.8649, 0.7618, 0.8020, 0.7198, 0.7318, 0.7476, 0.8077, 0.7343, 0.7505,\n",
      "        0.8090, 0.8795, 0.8668, 0.7656, 0.7542, 0.7579, 0.6797, 0.7654, 0.7506,\n",
      "        0.6541, 0.6782, 0.7122, 0.7085, 0.6963, 0.8888], device='cuda:0',\n",
      "       grad_fn=<ViewBackward>)\n",
      "fake images output:  tensor([0.9361, 0.9387, 0.9401, 0.9390, 0.9317, 0.9320, 0.9388, 0.9459, 0.9406,\n",
      "        0.9377, 0.9405, 0.9372, 0.9400, 0.9406, 0.9387, 0.9348, 0.9444, 0.9365,\n",
      "        0.9314, 0.9384, 0.9425, 0.9364, 0.9365, 0.9479], device='cuda:0',\n",
      "       grad_fn=<ViewBackward>)\n"
     ]
    },
    {
     "name": "stderr",
     "output_type": "stream",
     "text": [
      "\r",
      " 74%|███████▍  | 109/147 [04:18<01:30,  2.38s/it]"
     ]
    },
    {
     "name": "stdout",
     "output_type": "stream",
     "text": [
      "real images output:  tensor([0.1791, 0.0782, 0.2194, 0.2296, 0.2544, 0.0879, 0.0730, 0.0776, 0.1921,\n",
      "        0.0736, 0.4395, 0.0778, 0.1576, 0.2096, 0.1170, 0.0718, 0.1929, 0.3346,\n",
      "        0.0832, 0.2275, 0.1318, 0.1891, 0.0749, 0.0843], device='cuda:0',\n",
      "       grad_fn=<ViewBackward>)\n",
      "fake images output:  tensor([0.4607, 0.4532, 0.4643, 0.4639, 0.4968, 0.4614, 0.4572, 0.4730, 0.4924,\n",
      "        0.4689, 0.4923, 0.4449, 0.4615, 0.4694, 0.4931, 0.4716, 0.4524, 0.4479,\n",
      "        0.4585, 0.4872, 0.4620, 0.4593, 0.4783, 0.4625], device='cuda:0',\n",
      "       grad_fn=<ViewBackward>)\n"
     ]
    },
    {
     "name": "stderr",
     "output_type": "stream",
     "text": [
      "\r",
      " 75%|███████▍  | 110/147 [04:21<01:27,  2.38s/it]"
     ]
    },
    {
     "name": "stdout",
     "output_type": "stream",
     "text": [
      "real images output:  tensor([0.2701, 0.3241, 0.3241, 0.3189, 0.3310, 0.1811, 0.2813, 0.1400, 0.3189,\n",
      "        0.3230, 0.3834, 0.4454, 0.3038, 0.2171, 0.1517, 0.1530, 0.1568, 0.3759,\n",
      "        0.2698, 0.2722, 0.3241, 0.1851, 0.2963, 0.3441], device='cuda:0',\n",
      "       grad_fn=<ViewBackward>)\n",
      "fake images output:  tensor([0.6218, 0.6049, 0.5948, 0.6000, 0.6114, 0.6034, 0.6230, 0.5832, 0.6109,\n",
      "        0.6029, 0.5999, 0.6231, 0.5991, 0.5999, 0.6045, 0.6060, 0.5958, 0.6007,\n",
      "        0.6187, 0.6056, 0.6285, 0.6080, 0.6133, 0.6001], device='cuda:0',\n",
      "       grad_fn=<ViewBackward>)\n"
     ]
    },
    {
     "name": "stderr",
     "output_type": "stream",
     "text": [
      "\r",
      " 76%|███████▌  | 111/147 [04:23<01:25,  2.37s/it]"
     ]
    },
    {
     "name": "stdout",
     "output_type": "stream",
     "text": [
      "real images output:  tensor([0.4192, 0.1733, 0.0928, 0.1333, 0.1082, 0.1735, 0.4013, 0.1152, 0.1124,\n",
      "        0.1861, 0.0891, 0.0908, 0.1194, 0.0845, 0.1402, 0.0905, 0.1089, 0.1484,\n",
      "        0.0952, 0.0852, 0.0835, 0.1059, 0.0843, 0.1211], device='cuda:0',\n",
      "       grad_fn=<ViewBackward>)\n",
      "fake images output:  tensor([0.7865, 0.7839, 0.7951, 0.8004, 0.7841, 0.7870, 0.7886, 0.7942, 0.7965,\n",
      "        0.8017, 0.7875, 0.7893, 0.7921, 0.7991, 0.7901, 0.7801, 0.8087, 0.7797,\n",
      "        0.7855, 0.8007, 0.7941, 0.7842, 0.7855, 0.7903], device='cuda:0',\n",
      "       grad_fn=<ViewBackward>)\n"
     ]
    },
    {
     "name": "stderr",
     "output_type": "stream",
     "text": [
      "\r",
      " 76%|███████▌  | 112/147 [04:26<01:23,  2.38s/it]"
     ]
    },
    {
     "name": "stdout",
     "output_type": "stream",
     "text": [
      "real images output:  tensor([0.1416, 0.1297, 0.1130, 0.1232, 0.0854, 0.0755, 0.1424, 0.0758, 0.0908,\n",
      "        0.0642, 0.0968, 0.0596, 0.1738, 0.1119, 0.2061, 0.0745, 0.0625, 0.0895,\n",
      "        0.0866, 0.2250, 0.0960, 0.0601, 0.0747, 0.0642], device='cuda:0',\n",
      "       grad_fn=<ViewBackward>)\n",
      "fake images output:  tensor([0.7328, 0.7267, 0.7238, 0.7199, 0.7342, 0.7132, 0.7319, 0.7441, 0.7109,\n",
      "        0.7159, 0.7340, 0.7219, 0.7276, 0.7353, 0.7320, 0.7492, 0.7296, 0.7336,\n",
      "        0.7079, 0.7535, 0.7296, 0.7319, 0.7302, 0.7514], device='cuda:0',\n",
      "       grad_fn=<ViewBackward>)\n"
     ]
    },
    {
     "name": "stderr",
     "output_type": "stream",
     "text": [
      "\r",
      " 77%|███████▋  | 113/147 [04:28<01:20,  2.37s/it]"
     ]
    },
    {
     "name": "stdout",
     "output_type": "stream",
     "text": [
      "real images output:  tensor([0.1832, 0.1205, 0.1208, 0.1332, 0.1628, 0.1053, 0.1911, 0.1164, 0.1147,\n",
      "        0.1615, 0.1418, 0.1351, 0.6182, 0.1152, 0.4769, 0.1701, 0.1238, 0.5325,\n",
      "        0.1177, 0.1714, 0.1191, 0.1857, 0.1739, 0.2483], device='cuda:0',\n",
      "       grad_fn=<ViewBackward>)\n",
      "fake images output:  tensor([0.8782, 0.8839, 0.8761, 0.8846, 0.8790, 0.8799, 0.8830, 0.8810, 0.8780,\n",
      "        0.8735, 0.8844, 0.8842, 0.8821, 0.8788, 0.8755, 0.8860, 0.8809, 0.8849,\n",
      "        0.8808, 0.8783, 0.8881, 0.8833, 0.8770, 0.8764], device='cuda:0',\n",
      "       grad_fn=<ViewBackward>)\n"
     ]
    },
    {
     "name": "stderr",
     "output_type": "stream",
     "text": [
      "\r",
      " 78%|███████▊  | 114/147 [04:30<01:18,  2.37s/it]"
     ]
    },
    {
     "name": "stdout",
     "output_type": "stream",
     "text": [
      "real images output:  tensor([0.0494, 0.0589, 0.0524, 0.0671, 0.0552, 0.0481, 0.0635, 0.3116, 0.0373,\n",
      "        0.1195, 0.0366, 0.1108, 0.0692, 0.0511, 0.0481, 0.0416, 0.0836, 0.0762,\n",
      "        0.0936, 0.0374, 0.1708, 0.2152, 0.1594, 0.2141], device='cuda:0',\n",
      "       grad_fn=<ViewBackward>)\n",
      "fake images output:  tensor([0.5429, 0.5536, 0.5778, 0.5683, 0.5693, 0.5675, 0.5651, 0.5546, 0.5560,\n",
      "        0.5580, 0.5507, 0.5516, 0.5504, 0.5457, 0.5619, 0.5459, 0.5718, 0.5419,\n",
      "        0.5625, 0.5752, 0.5410, 0.5766, 0.5669, 0.5761], device='cuda:0',\n",
      "       grad_fn=<ViewBackward>)\n"
     ]
    },
    {
     "name": "stderr",
     "output_type": "stream",
     "text": [
      "\r",
      " 78%|███████▊  | 115/147 [04:33<01:16,  2.38s/it]"
     ]
    },
    {
     "name": "stdout",
     "output_type": "stream",
     "text": [
      "real images output:  tensor([0.2815, 0.3794, 0.4403, 0.1603, 0.2525, 0.1968, 0.7323, 0.2706, 0.1806,\n",
      "        0.4567, 0.4805, 0.8143, 0.7451, 0.1719, 0.2930, 0.5746, 0.7459, 0.3694,\n",
      "        0.2747, 0.1604, 0.5356, 0.6285, 0.3439, 0.2871], device='cuda:0',\n",
      "       grad_fn=<ViewBackward>)\n",
      "fake images output:  tensor([0.8880, 0.8914, 0.8881, 0.8873, 0.8895, 0.8852, 0.8842, 0.8873, 0.8887,\n",
      "        0.8835, 0.8904, 0.8860, 0.8896, 0.8872, 0.8877, 0.8875, 0.8867, 0.8891,\n",
      "        0.8862, 0.8869, 0.8875, 0.8892, 0.8891, 0.8852], device='cuda:0',\n",
      "       grad_fn=<ViewBackward>)\n"
     ]
    },
    {
     "name": "stderr",
     "output_type": "stream",
     "text": [
      "\r",
      " 79%|███████▉  | 116/147 [04:35<01:13,  2.38s/it]"
     ]
    },
    {
     "name": "stdout",
     "output_type": "stream",
     "text": [
      "real images output:  tensor([0.1694, 0.2221, 0.1619, 0.1027, 0.1588, 0.0337, 0.0501, 0.1094, 0.0749,\n",
      "        0.1918, 0.0764, 0.0387, 0.0407, 0.0983, 0.1023, 0.0378, 0.0924, 0.0881,\n",
      "        0.0432, 0.0450, 0.0589, 0.1223, 0.0394, 0.0396], device='cuda:0',\n",
      "       grad_fn=<ViewBackward>)\n",
      "fake images output:  tensor([0.4558, 0.4924, 0.4830, 0.4592, 0.4906, 0.4880, 0.4923, 0.4816, 0.4825,\n",
      "        0.4644, 0.4890, 0.4681, 0.4916, 0.4959, 0.4479, 0.4710, 0.4883, 0.4937,\n",
      "        0.4735, 0.5048, 0.4928, 0.4750, 0.4804, 0.4920], device='cuda:0',\n",
      "       grad_fn=<ViewBackward>)\n"
     ]
    },
    {
     "name": "stderr",
     "output_type": "stream",
     "text": [
      "\r",
      " 80%|███████▉  | 117/147 [04:37<01:11,  2.38s/it]"
     ]
    },
    {
     "name": "stdout",
     "output_type": "stream",
     "text": [
      "real images output:  tensor([0.8681, 0.8168, 0.8408, 0.6803, 0.8392, 0.9867, 0.7830, 0.9734, 0.8076,\n",
      "        0.8614, 0.7455, 0.8373, 0.6659, 0.6783, 0.8157, 0.7554, 0.7830, 0.8758,\n",
      "        0.7804, 0.8165, 0.9568, 0.8013, 0.7783, 0.7913], device='cuda:0',\n",
      "       grad_fn=<ViewBackward>)\n",
      "fake images output:  tensor([0.9677, 0.9668, 0.9689, 0.9695, 0.9682, 0.9676, 0.9674, 0.9699, 0.9699,\n",
      "        0.9660, 0.9689, 0.9681, 0.9693, 0.9685, 0.9659, 0.9675, 0.9697, 0.9675,\n",
      "        0.9692, 0.9686, 0.9672, 0.9671, 0.9690, 0.9688], device='cuda:0',\n",
      "       grad_fn=<ViewBackward>)\n"
     ]
    },
    {
     "name": "stderr",
     "output_type": "stream",
     "text": [
      "\r",
      " 80%|████████  | 118/147 [04:40<01:08,  2.38s/it]"
     ]
    },
    {
     "name": "stdout",
     "output_type": "stream",
     "text": [
      "real images output:  tensor([0.1716, 0.2059, 0.1777, 0.1325, 0.0548, 0.2927, 0.2119, 0.1906, 0.5377,\n",
      "        0.2826, 0.0495, 0.8256, 0.0573, 0.0539, 0.1674, 0.5177, 0.2259, 0.0351,\n",
      "        0.0999, 0.4044, 0.0794, 0.5131, 0.0499, 0.0441], device='cuda:0',\n",
      "       grad_fn=<ViewBackward>)\n",
      "fake images output:  tensor([0.9711, 0.9689, 0.9681, 0.9694, 0.9706, 0.9710, 0.9698, 0.9683, 0.9701,\n",
      "        0.9703, 0.9692, 0.9690, 0.9706, 0.9688, 0.9681, 0.9680, 0.9666, 0.9694,\n",
      "        0.9685, 0.9693, 0.9693, 0.9691, 0.9715, 0.9704], device='cuda:0',\n",
      "       grad_fn=<ViewBackward>)\n"
     ]
    },
    {
     "name": "stderr",
     "output_type": "stream",
     "text": [
      "\r",
      " 81%|████████  | 119/147 [04:42<01:06,  2.37s/it]"
     ]
    },
    {
     "name": "stdout",
     "output_type": "stream",
     "text": [
      "real images output:  tensor([0.0458, 0.0473, 0.0697, 0.1062, 0.0759, 0.0197, 0.0411, 0.0670, 0.1667,\n",
      "        0.0382, 0.0955, 0.1298, 0.1954, 0.0131, 0.0133, 0.1096, 0.0099, 0.0341,\n",
      "        0.0405, 0.0125, 0.0814, 0.0294, 0.0489, 0.1009], device='cuda:0',\n",
      "       grad_fn=<ViewBackward>)\n",
      "fake images output:  tensor([0.9658, 0.9685, 0.9671, 0.9684, 0.9707, 0.9698, 0.9684, 0.9692, 0.9690,\n",
      "        0.9687, 0.9684, 0.9699, 0.9670, 0.9687, 0.9691, 0.9690, 0.9691, 0.9676,\n",
      "        0.9677, 0.9651, 0.9689, 0.9693, 0.9694, 0.9710], device='cuda:0',\n",
      "       grad_fn=<ViewBackward>)\n"
     ]
    },
    {
     "name": "stderr",
     "output_type": "stream",
     "text": [
      "\r",
      " 82%|████████▏ | 120/147 [04:45<01:04,  2.38s/it]"
     ]
    },
    {
     "name": "stdout",
     "output_type": "stream",
     "text": [
      "real images output:  tensor([0.1005, 0.0384, 0.1601, 0.3154, 0.1964, 0.1401, 0.0458, 0.0479, 0.0169,\n",
      "        0.0289, 0.0096, 0.3240, 0.1809, 0.0110, 0.1288, 0.0839, 0.0109, 0.0093,\n",
      "        0.0556, 0.2044, 0.0093, 0.0306, 0.0112, 0.0125], device='cuda:0',\n",
      "       grad_fn=<ViewBackward>)\n",
      "fake images output:  tensor([0.9590, 0.9584, 0.9583, 0.9598, 0.9613, 0.9597, 0.9583, 0.9583, 0.9566,\n",
      "        0.9593, 0.9634, 0.9613, 0.9582, 0.9607, 0.9626, 0.9590, 0.9587, 0.9604,\n",
      "        0.9580, 0.9563, 0.9576, 0.9588, 0.9579, 0.9580], device='cuda:0',\n",
      "       grad_fn=<ViewBackward>)\n"
     ]
    },
    {
     "name": "stderr",
     "output_type": "stream",
     "text": [
      "\r",
      " 82%|████████▏ | 121/147 [04:47<01:01,  2.38s/it]"
     ]
    },
    {
     "name": "stdout",
     "output_type": "stream",
     "text": [
      "real images output:  tensor([0.0702, 0.0080, 0.0862, 0.0080, 0.1473, 0.0426, 0.0861, 0.0634, 0.0071,\n",
      "        0.0114, 0.0087, 0.0714, 0.0874, 0.0356, 0.0070, 0.0528, 0.0634, 0.0631,\n",
      "        0.0094, 0.0589, 0.0328, 0.0998, 0.0160, 0.0635], device='cuda:0',\n",
      "       grad_fn=<ViewBackward>)\n",
      "fake images output:  tensor([0.9193, 0.9210, 0.9189, 0.9268, 0.9251, 0.9245, 0.9302, 0.9225, 0.9271,\n",
      "        0.9234, 0.9227, 0.9224, 0.9175, 0.9230, 0.9166, 0.9229, 0.9294, 0.9219,\n",
      "        0.9200, 0.9243, 0.9224, 0.9224, 0.9184, 0.9284], device='cuda:0',\n",
      "       grad_fn=<ViewBackward>)\n"
     ]
    },
    {
     "name": "stderr",
     "output_type": "stream",
     "text": [
      "\r",
      " 83%|████████▎ | 122/147 [04:49<00:59,  2.37s/it]"
     ]
    },
    {
     "name": "stdout",
     "output_type": "stream",
     "text": [
      "real images output:  tensor([0.0185, 0.2813, 0.0105, 0.0096, 0.0863, 0.0272, 0.0482, 0.0577, 0.0164,\n",
      "        0.0692, 0.0087, 0.0573, 0.0144, 0.0534, 0.0379, 0.0126, 0.0887, 0.1829,\n",
      "        0.0069, 0.0066, 0.0197, 0.0308, 0.1343, 0.0880], device='cuda:0',\n",
      "       grad_fn=<ViewBackward>)\n",
      "fake images output:  tensor([0.7343, 0.7373, 0.7489, 0.7280, 0.7474, 0.7457, 0.7468, 0.7340, 0.7350,\n",
      "        0.7455, 0.7374, 0.7468, 0.7317, 0.7558, 0.7347, 0.7317, 0.7341, 0.7479,\n",
      "        0.7385, 0.7501, 0.7368, 0.7367, 0.7327, 0.7296], device='cuda:0',\n",
      "       grad_fn=<ViewBackward>)\n"
     ]
    },
    {
     "name": "stderr",
     "output_type": "stream",
     "text": [
      "\r",
      " 84%|████████▎ | 123/147 [04:52<00:56,  2.37s/it]"
     ]
    },
    {
     "name": "stdout",
     "output_type": "stream",
     "text": [
      "real images output:  tensor([0.0452, 0.0072, 0.0146, 0.0354, 0.0083, 0.0948, 0.0447, 0.0257, 0.0594,\n",
      "        0.0136, 0.0088, 0.2345, 0.1956, 0.0490, 0.0218, 0.0399, 0.0298, 0.1766,\n",
      "        0.0099, 0.0372, 0.0105, 0.0099, 0.0324, 0.0945], device='cuda:0',\n",
      "       grad_fn=<ViewBackward>)\n",
      "fake images output:  tensor([0.5627, 0.5478, 0.5409, 0.5571, 0.5473, 0.5517, 0.5306, 0.5489, 0.5463,\n",
      "        0.5396, 0.5534, 0.5493, 0.5584, 0.5740, 0.5295, 0.5480, 0.5430, 0.5394,\n",
      "        0.5552, 0.5613, 0.5429, 0.5502, 0.5607, 0.5546], device='cuda:0',\n",
      "       grad_fn=<ViewBackward>)\n"
     ]
    },
    {
     "name": "stderr",
     "output_type": "stream",
     "text": [
      "\r",
      " 84%|████████▍ | 124/147 [04:54<00:54,  2.37s/it]"
     ]
    },
    {
     "name": "stdout",
     "output_type": "stream",
     "text": [
      "real images output:  tensor([0.2120, 0.7935, 0.6303, 0.3637, 0.3156, 0.7546, 0.5366, 0.7903, 0.6392,\n",
      "        0.8269, 0.4275, 0.2715, 0.3466, 0.3325, 0.8152, 0.5954, 0.6815, 0.7836,\n",
      "        0.8594, 0.6646, 0.3425, 0.8117, 0.3745, 0.5662], device='cuda:0',\n",
      "       grad_fn=<ViewBackward>)\n",
      "fake images output:  tensor([0.9033, 0.8890, 0.9002, 0.9034, 0.8999, 0.9014, 0.8978, 0.9083, 0.9064,\n",
      "        0.8976, 0.9076, 0.8995, 0.8950, 0.9039, 0.9061, 0.8949, 0.8974, 0.9025,\n",
      "        0.9083, 0.8982, 0.9035, 0.9044, 0.9086, 0.9114], device='cuda:0',\n",
      "       grad_fn=<ViewBackward>)\n"
     ]
    },
    {
     "name": "stderr",
     "output_type": "stream",
     "text": [
      "\r",
      " 85%|████████▌ | 125/147 [04:56<00:52,  2.37s/it]"
     ]
    },
    {
     "name": "stdout",
     "output_type": "stream",
     "text": [
      "real images output:  tensor([0.0405, 0.0159, 0.0572, 0.0154, 0.0496, 0.0865, 0.0377, 0.0362, 0.0200,\n",
      "        0.0149, 0.0431, 0.0155, 0.0359, 0.1444, 0.0421, 0.0130, 0.1989, 0.0195,\n",
      "        0.2162, 0.0841, 0.0287, 0.1573, 0.2960, 0.0176], device='cuda:0',\n",
      "       grad_fn=<ViewBackward>)\n",
      "fake images output:  tensor([0.2489, 0.2817, 0.2223, 0.2743, 0.2604, 0.2677, 0.2811, 0.2757, 0.2683,\n",
      "        0.2399, 0.2664, 0.2521, 0.2322, 0.2449, 0.2707, 0.2499, 0.2726, 0.2521,\n",
      "        0.2300, 0.2489, 0.2408, 0.2483, 0.2674, 0.2650], device='cuda:0',\n",
      "       grad_fn=<ViewBackward>)\n"
     ]
    },
    {
     "name": "stderr",
     "output_type": "stream",
     "text": [
      "\r",
      " 86%|████████▌ | 126/147 [04:59<00:49,  2.37s/it]"
     ]
    },
    {
     "name": "stdout",
     "output_type": "stream",
     "text": [
      "real images output:  tensor([0.3205, 0.3088, 0.5583, 0.7250, 0.5210, 0.3056, 0.4073, 0.5295, 0.4859,\n",
      "        0.5686, 0.5800, 0.2724, 0.3267, 0.2726, 0.3927, 0.6077, 0.5922, 0.6940,\n",
      "        0.2255, 0.4576, 0.4682, 0.2701, 0.4217, 0.5092], device='cuda:0',\n",
      "       grad_fn=<ViewBackward>)\n",
      "fake images output:  tensor([0.8645, 0.8692, 0.8650, 0.8632, 0.8633, 0.8688, 0.8665, 0.8614, 0.8642,\n",
      "        0.8678, 0.8637, 0.8662, 0.8630, 0.8641, 0.8632, 0.8687, 0.8660, 0.8684,\n",
      "        0.8585, 0.8669, 0.8648, 0.8630, 0.8626, 0.8654], device='cuda:0',\n",
      "       grad_fn=<ViewBackward>)\n"
     ]
    },
    {
     "name": "stderr",
     "output_type": "stream",
     "text": [
      "\r",
      " 86%|████████▋ | 127/147 [05:01<00:47,  2.37s/it]"
     ]
    },
    {
     "name": "stdout",
     "output_type": "stream",
     "text": [
      "real images output:  tensor([0.0858, 0.0801, 0.0584, 0.1775, 0.0716, 0.1122, 0.0691, 0.1050, 0.2008,\n",
      "        0.1698, 0.0754, 0.0825, 0.8452, 0.1011, 0.1775, 0.0866, 0.1771, 0.5778,\n",
      "        0.0975, 0.2628, 0.1509, 0.1432, 0.5352, 0.0861], device='cuda:0',\n",
      "       grad_fn=<ViewBackward>)\n",
      "fake images output:  tensor([0.8487, 0.8509, 0.8501, 0.8508, 0.8481, 0.8530, 0.8430, 0.8467, 0.8541,\n",
      "        0.8589, 0.8511, 0.8540, 0.8516, 0.8458, 0.8490, 0.8535, 0.8473, 0.8524,\n",
      "        0.8560, 0.8555, 0.8511, 0.8515, 0.8492, 0.8403], device='cuda:0',\n",
      "       grad_fn=<ViewBackward>)\n"
     ]
    },
    {
     "name": "stderr",
     "output_type": "stream",
     "text": [
      "\r",
      " 87%|████████▋ | 128/147 [05:03<00:45,  2.37s/it]"
     ]
    },
    {
     "name": "stdout",
     "output_type": "stream",
     "text": [
      "real images output:  tensor([0.1807, 0.2577, 0.0355, 0.3829, 0.1286, 0.1761, 0.0696, 0.2514, 0.1027,\n",
      "        0.2352, 0.1059, 0.0672, 0.4950, 0.0425, 0.1553, 0.0848, 0.1196, 0.0372,\n",
      "        0.0808, 0.0335, 0.0975, 0.4343, 0.0706, 0.1067], device='cuda:0',\n",
      "       grad_fn=<ViewBackward>)\n",
      "fake images output:  tensor([0.7586, 0.7632, 0.7544, 0.7735, 0.7551, 0.7462, 0.7642, 0.7460, 0.7524,\n",
      "        0.7487, 0.7614, 0.7593, 0.7522, 0.7613, 0.7514, 0.7437, 0.7502, 0.7557,\n",
      "        0.7619, 0.7624, 0.7641, 0.7525, 0.7558, 0.7604], device='cuda:0',\n",
      "       grad_fn=<ViewBackward>)\n"
     ]
    },
    {
     "name": "stderr",
     "output_type": "stream",
     "text": [
      "\r",
      " 88%|████████▊ | 129/147 [05:06<00:42,  2.37s/it]"
     ]
    },
    {
     "name": "stdout",
     "output_type": "stream",
     "text": [
      "real images output:  tensor([0.0289, 0.0548, 0.0360, 0.0545, 0.1705, 0.0759, 0.0208, 0.0572, 0.0447,\n",
      "        0.0655, 0.0266, 0.0484, 0.4702, 0.0301, 0.0411, 0.2323, 0.1502, 0.0196,\n",
      "        0.0442, 0.0787, 0.0663, 0.1093, 0.2513, 0.0190], device='cuda:0',\n",
      "       grad_fn=<ViewBackward>)\n",
      "fake images output:  tensor([0.4523, 0.5005, 0.4824, 0.4725, 0.4643, 0.4453, 0.4488, 0.4918, 0.4776,\n",
      "        0.4777, 0.4643, 0.4347, 0.4667, 0.4490, 0.4561, 0.4759, 0.4571, 0.4575,\n",
      "        0.4481, 0.4535, 0.4463, 0.4647, 0.4759, 0.4687], device='cuda:0',\n",
      "       grad_fn=<ViewBackward>)\n"
     ]
    },
    {
     "name": "stderr",
     "output_type": "stream",
     "text": [
      "\r",
      " 88%|████████▊ | 130/147 [05:08<00:40,  2.38s/it]"
     ]
    },
    {
     "name": "stdout",
     "output_type": "stream",
     "text": [
      "real images output:  tensor([0.5329, 0.2200, 0.1470, 0.0526, 0.1214, 0.0603, 0.0681, 0.0651, 0.1815,\n",
      "        0.1493, 0.4991, 0.0532, 0.4398, 0.5615, 0.4221, 0.0593, 0.4771, 0.0735,\n",
      "        0.1397, 0.3968, 0.0555, 0.0897, 0.1520, 0.4876], device='cuda:0',\n",
      "       grad_fn=<ViewBackward>)\n",
      "fake images output:  tensor([0.7613, 0.7813, 0.7668, 0.7725, 0.7726, 0.7903, 0.7776, 0.7638, 0.7951,\n",
      "        0.7838, 0.7671, 0.7869, 0.8053, 0.7990, 0.7672, 0.7651, 0.7866, 0.7859,\n",
      "        0.7846, 0.7737, 0.7597, 0.7797, 0.7838, 0.7859], device='cuda:0',\n",
      "       grad_fn=<ViewBackward>)\n"
     ]
    },
    {
     "name": "stderr",
     "output_type": "stream",
     "text": [
      "\r",
      " 89%|████████▉ | 131/147 [05:11<00:37,  2.37s/it]"
     ]
    },
    {
     "name": "stdout",
     "output_type": "stream",
     "text": [
      "real images output:  tensor([0.0693, 0.0544, 0.4555, 0.1084, 0.0583, 0.1777, 0.1064, 0.0505, 0.3378,\n",
      "        0.2034, 0.0444, 0.1711, 0.4979, 0.0596, 0.0800, 0.3385, 0.0482, 0.1395,\n",
      "        0.0994, 0.3319, 0.1837, 0.1123, 0.0686, 0.1809], device='cuda:0',\n",
      "       grad_fn=<ViewBackward>)\n",
      "fake images output:  tensor([0.6971, 0.7030, 0.6793, 0.6875, 0.6953, 0.6872, 0.6919, 0.6729, 0.6802,\n",
      "        0.6912, 0.6911, 0.6981, 0.6861, 0.6905, 0.6971, 0.7031, 0.6928, 0.7062,\n",
      "        0.6868, 0.6748, 0.6870, 0.6920, 0.6810, 0.6893], device='cuda:0',\n",
      "       grad_fn=<ViewBackward>)\n"
     ]
    },
    {
     "name": "stderr",
     "output_type": "stream",
     "text": [
      "\r",
      " 90%|████████▉ | 132/147 [05:13<00:35,  2.37s/it]"
     ]
    },
    {
     "name": "stdout",
     "output_type": "stream",
     "text": [
      "real images output:  tensor([0.1172, 0.0583, 0.0475, 0.2216, 0.2119, 0.0430, 0.1244, 0.1537, 0.2610,\n",
      "        0.2843, 0.0445, 0.0996, 0.0411, 0.1176, 0.1145, 0.0427, 0.1510, 0.5720,\n",
      "        0.0532, 0.1661, 0.2953, 0.0445, 0.3298, 0.2064], device='cuda:0',\n",
      "       grad_fn=<ViewBackward>)\n",
      "fake images output:  tensor([0.7983, 0.8047, 0.8006, 0.7889, 0.7974, 0.8219, 0.8119, 0.8032, 0.8075,\n",
      "        0.8002, 0.7964, 0.8167, 0.7869, 0.8213, 0.8108, 0.8247, 0.8012, 0.8169,\n",
      "        0.8004, 0.8129, 0.8059, 0.8032, 0.8154, 0.8145], device='cuda:0',\n",
      "       grad_fn=<ViewBackward>)\n"
     ]
    },
    {
     "name": "stderr",
     "output_type": "stream",
     "text": [
      "\r",
      " 90%|█████████ | 133/147 [05:15<00:33,  2.37s/it]"
     ]
    },
    {
     "name": "stdout",
     "output_type": "stream",
     "text": [
      "real images output:  tensor([0.0319, 0.0291, 0.1028, 0.1340, 0.0445, 0.0586, 0.1288, 0.0955, 0.0287,\n",
      "        0.0376, 0.0986, 0.1469, 0.1170, 0.3232, 0.1197, 0.1785, 0.0367, 0.0847,\n",
      "        0.0434, 0.1101, 0.0348, 0.0319, 0.0778, 0.0309], device='cuda:0',\n",
      "       grad_fn=<ViewBackward>)\n",
      "fake images output:  tensor([0.8096, 0.7998, 0.8077, 0.7843, 0.8012, 0.8033, 0.8054, 0.7809, 0.7857,\n",
      "        0.7860, 0.8106, 0.7759, 0.8115, 0.7906, 0.8079, 0.7957, 0.7810, 0.8064,\n",
      "        0.7924, 0.7997, 0.7932, 0.7933, 0.8121, 0.7792], device='cuda:0',\n",
      "       grad_fn=<ViewBackward>)\n"
     ]
    },
    {
     "name": "stderr",
     "output_type": "stream",
     "text": [
      "\r",
      " 91%|█████████ | 134/147 [05:18<00:30,  2.37s/it]"
     ]
    },
    {
     "name": "stdout",
     "output_type": "stream",
     "text": [
      "real images output:  tensor([0.1297, 0.0201, 0.0431, 0.0956, 0.0689, 0.0728, 0.2720, 0.0697, 0.0645,\n",
      "        0.0193, 0.3961, 0.1991, 0.0217, 0.0361, 0.0291, 0.0272, 0.0687, 0.0822,\n",
      "        0.0468, 0.0874, 0.1235, 0.1371, 0.0253, 0.0808], device='cuda:0',\n",
      "       grad_fn=<ViewBackward>)\n",
      "fake images output:  tensor([0.7692, 0.7789, 0.7742, 0.7657, 0.7730, 0.7544, 0.7793, 0.7765, 0.7594,\n",
      "        0.7600, 0.7808, 0.7491, 0.7690, 0.7697, 0.7776, 0.7669, 0.7792, 0.7650,\n",
      "        0.7602, 0.7525, 0.7683, 0.7682, 0.7728, 0.7675], device='cuda:0',\n",
      "       grad_fn=<ViewBackward>)\n"
     ]
    },
    {
     "name": "stderr",
     "output_type": "stream",
     "text": [
      "\r",
      " 92%|█████████▏| 135/147 [05:20<00:28,  2.37s/it]"
     ]
    },
    {
     "name": "stdout",
     "output_type": "stream",
     "text": [
      "real images output:  tensor([0.0248, 0.0294, 0.0254, 0.0309, 0.0555, 0.1231, 0.1299, 0.1884, 0.0452,\n",
      "        0.0319, 0.1523, 0.3542, 0.0280, 0.0258, 0.0329, 0.3106, 0.1033, 0.0330,\n",
      "        0.0272, 0.0868, 0.1695, 0.0407, 0.0690, 0.1725], device='cuda:0',\n",
      "       grad_fn=<ViewBackward>)\n",
      "fake images output:  tensor([0.8032, 0.8193, 0.8057, 0.8069, 0.7992, 0.8173, 0.8042, 0.8168, 0.8044,\n",
      "        0.7981, 0.8173, 0.8008, 0.8103, 0.8076, 0.8063, 0.8201, 0.8175, 0.8156,\n",
      "        0.8330, 0.8068, 0.8180, 0.8153, 0.8244, 0.7984], device='cuda:0',\n",
      "       grad_fn=<ViewBackward>)\n"
     ]
    },
    {
     "name": "stderr",
     "output_type": "stream",
     "text": [
      "\r",
      " 93%|█████████▎| 136/147 [05:22<00:26,  2.37s/it]"
     ]
    },
    {
     "name": "stdout",
     "output_type": "stream",
     "text": [
      "real images output:  tensor([0.1817, 0.0557, 0.0536, 0.0783, 0.1120, 0.0193, 0.0708, 0.1729, 0.0539,\n",
      "        0.0192, 0.0203, 0.0705, 0.1130, 0.0418, 0.0178, 0.0354, 0.0186, 0.0634,\n",
      "        0.0220, 0.0455, 0.1120, 0.0806, 0.1039, 0.1264], device='cuda:0',\n",
      "       grad_fn=<ViewBackward>)\n",
      "fake images output:  tensor([0.8363, 0.8151, 0.8073, 0.8379, 0.8175, 0.8188, 0.8408, 0.8295, 0.8299,\n",
      "        0.8115, 0.8363, 0.8364, 0.8436, 0.8428, 0.8310, 0.8406, 0.7957, 0.8432,\n",
      "        0.8105, 0.8360, 0.8275, 0.8456, 0.8298, 0.8309], device='cuda:0',\n",
      "       grad_fn=<ViewBackward>)\n"
     ]
    },
    {
     "name": "stderr",
     "output_type": "stream",
     "text": [
      "\r",
      " 93%|█████████▎| 137/147 [05:25<00:23,  2.37s/it]"
     ]
    },
    {
     "name": "stdout",
     "output_type": "stream",
     "text": [
      "real images output:  tensor([0.0263, 0.0810, 0.0795, 0.0811, 0.1865, 0.0268, 0.0232, 0.0795, 0.0259,\n",
      "        0.0827, 0.0424, 0.1676, 0.0356, 0.1786, 0.0278, 0.0310, 0.0376, 0.0795,\n",
      "        0.1101, 0.0277, 0.0266, 0.0511, 0.0286, 0.0276], device='cuda:0',\n",
      "       grad_fn=<ViewBackward>)\n",
      "fake images output:  tensor([0.8065, 0.7987, 0.8084, 0.8346, 0.8285, 0.8387, 0.8258, 0.8372, 0.8320,\n",
      "        0.8235, 0.7900, 0.8036, 0.8517, 0.7919, 0.8511, 0.8462, 0.8339, 0.8522,\n",
      "        0.8321, 0.8319, 0.8379, 0.8588, 0.8073, 0.8235], device='cuda:0',\n",
      "       grad_fn=<ViewBackward>)\n"
     ]
    },
    {
     "name": "stderr",
     "output_type": "stream",
     "text": [
      "\r",
      " 94%|█████████▍| 138/147 [05:27<00:21,  2.37s/it]"
     ]
    },
    {
     "name": "stdout",
     "output_type": "stream",
     "text": [
      "real images output:  tensor([0.0551, 0.0887, 0.1569, 0.7552, 0.1066, 0.0865, 0.2159, 0.1621, 0.1934,\n",
      "        0.0428, 0.1302, 0.1667, 0.0532, 0.0556, 0.0427, 0.0541, 0.0460, 0.2602,\n",
      "        0.1373, 0.1953, 0.1145, 0.1804, 0.0971, 0.1204], device='cuda:0',\n",
      "       grad_fn=<ViewBackward>)\n",
      "fake images output:  tensor([0.8607, 0.9047, 0.9037, 0.8732, 0.8886, 0.8832, 0.8688, 0.8833, 0.8862,\n",
      "        0.8948, 0.8565, 0.8729, 0.8672, 0.8521, 0.8526, 0.8709, 0.9096, 0.8584,\n",
      "        0.8729, 0.8602, 0.8611, 0.9068, 0.8551, 0.8862], device='cuda:0',\n",
      "       grad_fn=<ViewBackward>)\n"
     ]
    },
    {
     "name": "stderr",
     "output_type": "stream",
     "text": [
      "\r",
      " 95%|█████████▍| 139/147 [05:30<00:19,  2.38s/it]"
     ]
    },
    {
     "name": "stdout",
     "output_type": "stream",
     "text": [
      "real images output:  tensor([0.0171, 0.0558, 0.0166, 0.0636, 0.1027, 0.0402, 0.0402, 0.0340, 0.0549,\n",
      "        0.0295, 0.0315, 0.0393, 0.0805, 0.0176, 0.0178, 0.0662, 0.0182, 0.0399,\n",
      "        0.0204, 0.0383, 0.0220, 0.0563, 0.0332, 0.2245], device='cuda:0',\n",
      "       grad_fn=<ViewBackward>)\n",
      "fake images output:  tensor([0.0468, 0.0545, 0.0477, 0.0556, 0.0541, 0.0497, 0.0507, 0.0508, 0.0464,\n",
      "        0.0488, 0.0433, 0.0469, 0.0549, 0.0397, 0.0539, 0.0545, 0.0477, 0.0493,\n",
      "        0.0576, 0.0716, 0.0421, 0.0648, 0.0455, 0.0405], device='cuda:0',\n",
      "       grad_fn=<ViewBackward>)\n"
     ]
    },
    {
     "name": "stderr",
     "output_type": "stream",
     "text": [
      "\r",
      " 95%|█████████▌| 140/147 [05:32<00:16,  2.37s/it]"
     ]
    },
    {
     "name": "stdout",
     "output_type": "stream",
     "text": [
      "real images output:  tensor([0.0549, 0.1259, 0.0454, 0.0813, 0.0581, 0.0383, 0.2096, 0.0658, 0.0392,\n",
      "        0.0542, 0.0441, 0.0522, 0.0627, 0.0816, 0.0396, 0.0399, 0.0526, 0.0865,\n",
      "        0.0572, 0.0800, 0.0425, 0.0835, 0.0584, 0.0704], device='cuda:0',\n",
      "       grad_fn=<ViewBackward>)\n",
      "fake images output:  tensor([0.0951, 0.0907, 0.0840, 0.1058, 0.1151, 0.0944, 0.1130, 0.0991, 0.1001,\n",
      "        0.1110, 0.0890, 0.0997, 0.1261, 0.0990, 0.1031, 0.0989, 0.0963, 0.1031,\n",
      "        0.1216, 0.1146, 0.1133, 0.1230, 0.1134, 0.0940], device='cuda:0',\n",
      "       grad_fn=<ViewBackward>)\n"
     ]
    },
    {
     "name": "stderr",
     "output_type": "stream",
     "text": [
      "\r",
      " 96%|█████████▌| 141/147 [05:34<00:14,  2.37s/it]"
     ]
    },
    {
     "name": "stdout",
     "output_type": "stream",
     "text": [
      "real images output:  tensor([0.9058, 0.8799, 0.9032, 0.8989, 0.8988, 0.5490, 0.9052, 0.9023, 0.8802,\n",
      "        0.4470, 0.3961, 0.9035, 0.8054, 0.9028, 0.5371, 0.4477, 0.9050, 0.8118,\n",
      "        0.5621, 0.8975, 0.8168, 0.8051, 0.8660, 0.9353], device='cuda:0',\n",
      "       grad_fn=<ViewBackward>)\n",
      "fake images output:  tensor([0.7933, 0.7686, 0.7888, 0.7824, 0.7852, 0.7833, 0.7919, 0.8243, 0.7724,\n",
      "        0.7814, 0.7717, 0.7711, 0.7797, 0.7827, 0.7815, 0.7873, 0.7665, 0.7747,\n",
      "        0.7736, 0.7906, 0.7922, 0.7799, 0.7844, 0.7750], device='cuda:0',\n",
      "       grad_fn=<ViewBackward>)\n"
     ]
    },
    {
     "name": "stderr",
     "output_type": "stream",
     "text": [
      "\r",
      " 97%|█████████▋| 142/147 [05:37<00:11,  2.37s/it]"
     ]
    },
    {
     "name": "stdout",
     "output_type": "stream",
     "text": [
      "real images output:  tensor([0.6495, 0.3030, 0.3024, 0.1170, 0.2728, 0.1210, 0.3212, 0.4191, 0.1352,\n",
      "        0.2685, 0.0754, 0.5203, 0.2498, 0.3596, 0.3596, 0.3142, 0.2386, 0.2711,\n",
      "        0.2824, 0.4314, 0.3113, 0.3126, 0.7966, 0.2921], device='cuda:0',\n",
      "       grad_fn=<ViewBackward>)\n",
      "fake images output:  tensor([0.1309, 0.1343, 0.1300, 0.1509, 0.1234, 0.1242, 0.1302, 0.1240, 0.1378,\n",
      "        0.1303, 0.1333, 0.1408, 0.1372, 0.1238, 0.1180, 0.1496, 0.1310, 0.1194,\n",
      "        0.1159, 0.1191, 0.1166, 0.1285, 0.1199, 0.1303], device='cuda:0',\n",
      "       grad_fn=<ViewBackward>)\n"
     ]
    },
    {
     "name": "stderr",
     "output_type": "stream",
     "text": [
      "\r",
      " 97%|█████████▋| 143/147 [05:39<00:09,  2.38s/it]"
     ]
    },
    {
     "name": "stdout",
     "output_type": "stream",
     "text": [
      "real images output:  tensor([0.3052, 0.2306, 0.2177, 0.3904, 0.3079, 0.2708, 0.2295, 0.2215, 0.3827,\n",
      "        0.3406, 0.4960, 0.2175, 0.2175, 0.2633, 0.3489, 0.4429, 0.2124, 0.2297,\n",
      "        0.2931, 0.2042, 0.2709, 0.3489, 0.2251, 0.2429], device='cuda:0',\n",
      "       grad_fn=<ViewBackward>)\n",
      "fake images output:  tensor([0.2421, 0.2528, 0.2542, 0.2500, 0.2346, 0.2309, 0.2463, 0.2352, 0.2381,\n",
      "        0.2423, 0.2488, 0.2373, 0.2563, 0.2372, 0.2364, 0.2451, 0.2459, 0.2529,\n",
      "        0.2338, 0.2341, 0.2476, 0.2431, 0.2301, 0.2387], device='cuda:0',\n",
      "       grad_fn=<ViewBackward>)\n"
     ]
    },
    {
     "name": "stderr",
     "output_type": "stream",
     "text": [
      "\r",
      " 98%|█████████▊| 144/147 [05:41<00:07,  2.37s/it]"
     ]
    },
    {
     "name": "stdout",
     "output_type": "stream",
     "text": [
      "real images output:  tensor([0.4886, 0.4917, 0.4976, 0.3513, 0.4285, 0.3809, 0.4970, 0.5896, 0.4850,\n",
      "        0.4945, 0.5332, 0.5475, 0.4645, 0.3783, 0.5975, 0.5266, 0.4615, 0.5179,\n",
      "        0.5236, 0.2948, 0.5620, 0.4284, 0.4007, 0.4356], device='cuda:0',\n",
      "       grad_fn=<ViewBackward>)\n",
      "fake images output:  tensor([0.5802, 0.5692, 0.5659, 0.5628, 0.6002, 0.5768, 0.5767, 0.5879, 0.5745,\n",
      "        0.5665, 0.5653, 0.5926, 0.5779, 0.5667, 0.5772, 0.5881, 0.5878, 0.5768,\n",
      "        0.5798, 0.5739, 0.5718, 0.5653, 0.5998, 0.5842], device='cuda:0',\n",
      "       grad_fn=<ViewBackward>)\n"
     ]
    },
    {
     "name": "stderr",
     "output_type": "stream",
     "text": [
      "\r",
      " 99%|█████████▊| 145/147 [05:44<00:04,  2.37s/it]"
     ]
    },
    {
     "name": "stdout",
     "output_type": "stream",
     "text": [
      "real images output:  tensor([0.4533, 0.3095, 0.3117, 0.5257, 0.4540, 0.3384, 0.4662, 0.3208, 0.3170,\n",
      "        0.4191, 0.1941, 0.3350, 0.3057, 0.3500, 0.2859, 0.3298, 0.2555, 0.4039,\n",
      "        0.4256, 0.2838, 0.4142, 0.3204, 0.3174, 0.3029], device='cuda:0',\n",
      "       grad_fn=<ViewBackward>)\n",
      "fake images output:  tensor([0.6668, 0.6603, 0.6425, 0.6629, 0.6529, 0.6867, 0.6657, 0.6525, 0.6465,\n",
      "        0.6622, 0.6529, 0.6970, 0.6411, 0.6606, 0.6430, 0.6486, 0.6678, 0.6780,\n",
      "        0.6516, 0.6549, 0.6671, 0.6719, 0.6449, 0.6584], device='cuda:0',\n",
      "       grad_fn=<ViewBackward>)\n"
     ]
    },
    {
     "name": "stderr",
     "output_type": "stream",
     "text": [
      "\r",
      " 99%|█████████▉| 146/147 [05:46<00:02,  2.37s/it]"
     ]
    },
    {
     "name": "stdout",
     "output_type": "stream",
     "text": [
      "real images output:  tensor([0.2358, 0.1189, 0.3057, 0.2716, 0.2453, 0.2517, 0.0825, 0.3675, 0.2509,\n",
      "        0.3122, 0.2750, 0.1928, 0.2634, 0.1268, 0.3405, 0.3024, 0.1189, 0.1229,\n",
      "        0.2222, 0.2492, 0.2968, 0.2500, 0.1127, 0.2076], device='cuda:0',\n",
      "       grad_fn=<ViewBackward>)\n",
      "fake images output:  tensor([0.4780, 0.4794, 0.4620, 0.4754, 0.4868, 0.4811, 0.4914, 0.4932, 0.4806,\n",
      "        0.4868, 0.4871, 0.4752, 0.4969, 0.4806, 0.4858, 0.4929, 0.4705, 0.4832,\n",
      "        0.4740, 0.4803, 0.4726, 0.5035, 0.4996, 0.4768], device='cuda:0',\n",
      "       grad_fn=<ViewBackward>)\n"
     ]
    },
    {
     "name": "stderr",
     "output_type": "stream",
     "text": [
      "100%|██████████| 147/147 [05:49<00:00,  2.38s/it]\n",
      "  0%|          | 0/147 [00:00<?, ?it/s]"
     ]
    },
    {
     "name": "stdout",
     "output_type": "stream",
     "text": [
      "Epoch [0/300] \tLoss_D: 0.2306\tLoss_G: 0.8306\tD(x): 0.2301\tD(G(z)): 0.4831 / 0.9163\n"
     ]
    },
    {
     "name": "stderr",
     "output_type": "stream",
     "text": [
      "  0%|          | 0/147 [00:00<?, ?it/s]\n"
     ]
    },
    {
     "ename": "OSError",
     "evalue": "[Errno 12] Cannot allocate memory",
     "output_type": "error",
     "traceback": [
      "\u001b[0;31m---------------------------------------------------------------------------\u001b[0m",
      "\u001b[0;31mOSError\u001b[0m                                   Traceback (most recent call last)",
      "\u001b[0;32m<ipython-input-36-cecd57e367cf>\u001b[0m in \u001b[0;36m<module>\u001b[0;34m\u001b[0m\n\u001b[1;32m      3\u001b[0m \u001b[0;32mfor\u001b[0m \u001b[0mepoch\u001b[0m \u001b[0;32min\u001b[0m \u001b[0mrange\u001b[0m\u001b[0;34m(\u001b[0m\u001b[0mn_epochs\u001b[0m\u001b[0;34m)\u001b[0m\u001b[0;34m:\u001b[0m\u001b[0;34m\u001b[0m\u001b[0;34m\u001b[0m\u001b[0m\n\u001b[1;32m      4\u001b[0m     \u001b[0;31m# For each batch in the dataloader\u001b[0m\u001b[0;34m\u001b[0m\u001b[0;34m\u001b[0m\u001b[0;34m\u001b[0m\u001b[0m\n\u001b[0;32m----> 5\u001b[0;31m     \u001b[0;32mfor\u001b[0m \u001b[0mdata\u001b[0m \u001b[0;32min\u001b[0m \u001b[0mtqdm\u001b[0m\u001b[0;34m(\u001b[0m\u001b[0mdataloader\u001b[0m\u001b[0;34m)\u001b[0m\u001b[0;34m:\u001b[0m\u001b[0;34m\u001b[0m\u001b[0;34m\u001b[0m\u001b[0m\n\u001b[0m\u001b[1;32m      6\u001b[0m         \u001b[0;31m# Train D with real batch\u001b[0m\u001b[0;34m\u001b[0m\u001b[0;34m\u001b[0m\u001b[0;34m\u001b[0m\u001b[0m\n\u001b[1;32m      7\u001b[0m         \u001b[0mreal_cpu\u001b[0m \u001b[0;34m=\u001b[0m \u001b[0mdata\u001b[0m\u001b[0;34m[\u001b[0m\u001b[0;36m0\u001b[0m\u001b[0;34m]\u001b[0m\u001b[0;34m.\u001b[0m\u001b[0mto\u001b[0m\u001b[0;34m(\u001b[0m\u001b[0mdevice\u001b[0m\u001b[0;34m)\u001b[0m\u001b[0;34m\u001b[0m\u001b[0;34m\u001b[0m\u001b[0m\n",
      "\u001b[0;32m~/.conda/envs/DL/lib/python3.7/site-packages/tqdm/std.py\u001b[0m in \u001b[0;36m__iter__\u001b[0;34m(self)\u001b[0m\n\u001b[1;32m   1125\u001b[0m \u001b[0;34m\u001b[0m\u001b[0m\n\u001b[1;32m   1126\u001b[0m         \u001b[0;32mtry\u001b[0m\u001b[0;34m:\u001b[0m\u001b[0;34m\u001b[0m\u001b[0;34m\u001b[0m\u001b[0m\n\u001b[0;32m-> 1127\u001b[0;31m             \u001b[0;32mfor\u001b[0m \u001b[0mobj\u001b[0m \u001b[0;32min\u001b[0m \u001b[0miterable\u001b[0m\u001b[0;34m:\u001b[0m\u001b[0;34m\u001b[0m\u001b[0;34m\u001b[0m\u001b[0m\n\u001b[0m\u001b[1;32m   1128\u001b[0m                 \u001b[0;32myield\u001b[0m \u001b[0mobj\u001b[0m\u001b[0;34m\u001b[0m\u001b[0;34m\u001b[0m\u001b[0m\n\u001b[1;32m   1129\u001b[0m                 \u001b[0;31m# Update and possibly print the progressbar.\u001b[0m\u001b[0;34m\u001b[0m\u001b[0;34m\u001b[0m\u001b[0;34m\u001b[0m\u001b[0m\n",
      "\u001b[0;32m~/.conda/envs/DL/lib/python3.7/site-packages/torch/utils/data/dataloader.py\u001b[0m in \u001b[0;36m__iter__\u001b[0;34m(self)\u001b[0m\n\u001b[1;32m    277\u001b[0m             \u001b[0;32mreturn\u001b[0m \u001b[0m_SingleProcessDataLoaderIter\u001b[0m\u001b[0;34m(\u001b[0m\u001b[0mself\u001b[0m\u001b[0;34m)\u001b[0m\u001b[0;34m\u001b[0m\u001b[0;34m\u001b[0m\u001b[0m\n\u001b[1;32m    278\u001b[0m         \u001b[0;32melse\u001b[0m\u001b[0;34m:\u001b[0m\u001b[0;34m\u001b[0m\u001b[0;34m\u001b[0m\u001b[0m\n\u001b[0;32m--> 279\u001b[0;31m             \u001b[0;32mreturn\u001b[0m \u001b[0m_MultiProcessingDataLoaderIter\u001b[0m\u001b[0;34m(\u001b[0m\u001b[0mself\u001b[0m\u001b[0;34m)\u001b[0m\u001b[0;34m\u001b[0m\u001b[0;34m\u001b[0m\u001b[0m\n\u001b[0m\u001b[1;32m    280\u001b[0m \u001b[0;34m\u001b[0m\u001b[0m\n\u001b[1;32m    281\u001b[0m     \u001b[0;34m@\u001b[0m\u001b[0mproperty\u001b[0m\u001b[0;34m\u001b[0m\u001b[0;34m\u001b[0m\u001b[0m\n",
      "\u001b[0;32m~/.conda/envs/DL/lib/python3.7/site-packages/torch/utils/data/dataloader.py\u001b[0m in \u001b[0;36m__init__\u001b[0;34m(self, loader)\u001b[0m\n\u001b[1;32m    717\u001b[0m             \u001b[0;31m#     before it starts, and __del__ tries to join but will get:\u001b[0m\u001b[0;34m\u001b[0m\u001b[0;34m\u001b[0m\u001b[0;34m\u001b[0m\u001b[0m\n\u001b[1;32m    718\u001b[0m             \u001b[0;31m#     AssertionError: can only join a started process.\u001b[0m\u001b[0;34m\u001b[0m\u001b[0;34m\u001b[0m\u001b[0;34m\u001b[0m\u001b[0m\n\u001b[0;32m--> 719\u001b[0;31m             \u001b[0mw\u001b[0m\u001b[0;34m.\u001b[0m\u001b[0mstart\u001b[0m\u001b[0;34m(\u001b[0m\u001b[0;34m)\u001b[0m\u001b[0;34m\u001b[0m\u001b[0;34m\u001b[0m\u001b[0m\n\u001b[0m\u001b[1;32m    720\u001b[0m             \u001b[0mself\u001b[0m\u001b[0;34m.\u001b[0m\u001b[0m_index_queues\u001b[0m\u001b[0;34m.\u001b[0m\u001b[0mappend\u001b[0m\u001b[0;34m(\u001b[0m\u001b[0mindex_queue\u001b[0m\u001b[0;34m)\u001b[0m\u001b[0;34m\u001b[0m\u001b[0;34m\u001b[0m\u001b[0m\n\u001b[1;32m    721\u001b[0m             \u001b[0mself\u001b[0m\u001b[0;34m.\u001b[0m\u001b[0m_workers\u001b[0m\u001b[0;34m.\u001b[0m\u001b[0mappend\u001b[0m\u001b[0;34m(\u001b[0m\u001b[0mw\u001b[0m\u001b[0;34m)\u001b[0m\u001b[0;34m\u001b[0m\u001b[0;34m\u001b[0m\u001b[0m\n",
      "\u001b[0;32m~/.conda/envs/DL/lib/python3.7/multiprocessing/process.py\u001b[0m in \u001b[0;36mstart\u001b[0;34m(self)\u001b[0m\n\u001b[1;32m    110\u001b[0m                \u001b[0;34m'daemonic processes are not allowed to have children'\u001b[0m\u001b[0;34m\u001b[0m\u001b[0;34m\u001b[0m\u001b[0m\n\u001b[1;32m    111\u001b[0m         \u001b[0m_cleanup\u001b[0m\u001b[0;34m(\u001b[0m\u001b[0;34m)\u001b[0m\u001b[0;34m\u001b[0m\u001b[0;34m\u001b[0m\u001b[0m\n\u001b[0;32m--> 112\u001b[0;31m         \u001b[0mself\u001b[0m\u001b[0;34m.\u001b[0m\u001b[0m_popen\u001b[0m \u001b[0;34m=\u001b[0m \u001b[0mself\u001b[0m\u001b[0;34m.\u001b[0m\u001b[0m_Popen\u001b[0m\u001b[0;34m(\u001b[0m\u001b[0mself\u001b[0m\u001b[0;34m)\u001b[0m\u001b[0;34m\u001b[0m\u001b[0;34m\u001b[0m\u001b[0m\n\u001b[0m\u001b[1;32m    113\u001b[0m         \u001b[0mself\u001b[0m\u001b[0;34m.\u001b[0m\u001b[0m_sentinel\u001b[0m \u001b[0;34m=\u001b[0m \u001b[0mself\u001b[0m\u001b[0;34m.\u001b[0m\u001b[0m_popen\u001b[0m\u001b[0;34m.\u001b[0m\u001b[0msentinel\u001b[0m\u001b[0;34m\u001b[0m\u001b[0;34m\u001b[0m\u001b[0m\n\u001b[1;32m    114\u001b[0m         \u001b[0;31m# Avoid a refcycle if the target function holds an indirect\u001b[0m\u001b[0;34m\u001b[0m\u001b[0;34m\u001b[0m\u001b[0;34m\u001b[0m\u001b[0m\n",
      "\u001b[0;32m~/.conda/envs/DL/lib/python3.7/multiprocessing/context.py\u001b[0m in \u001b[0;36m_Popen\u001b[0;34m(process_obj)\u001b[0m\n\u001b[1;32m    221\u001b[0m     \u001b[0;34m@\u001b[0m\u001b[0mstaticmethod\u001b[0m\u001b[0;34m\u001b[0m\u001b[0;34m\u001b[0m\u001b[0m\n\u001b[1;32m    222\u001b[0m     \u001b[0;32mdef\u001b[0m \u001b[0m_Popen\u001b[0m\u001b[0;34m(\u001b[0m\u001b[0mprocess_obj\u001b[0m\u001b[0;34m)\u001b[0m\u001b[0;34m:\u001b[0m\u001b[0;34m\u001b[0m\u001b[0;34m\u001b[0m\u001b[0m\n\u001b[0;32m--> 223\u001b[0;31m         \u001b[0;32mreturn\u001b[0m \u001b[0m_default_context\u001b[0m\u001b[0;34m.\u001b[0m\u001b[0mget_context\u001b[0m\u001b[0;34m(\u001b[0m\u001b[0;34m)\u001b[0m\u001b[0;34m.\u001b[0m\u001b[0mProcess\u001b[0m\u001b[0;34m.\u001b[0m\u001b[0m_Popen\u001b[0m\u001b[0;34m(\u001b[0m\u001b[0mprocess_obj\u001b[0m\u001b[0;34m)\u001b[0m\u001b[0;34m\u001b[0m\u001b[0;34m\u001b[0m\u001b[0m\n\u001b[0m\u001b[1;32m    224\u001b[0m \u001b[0;34m\u001b[0m\u001b[0m\n\u001b[1;32m    225\u001b[0m \u001b[0;32mclass\u001b[0m \u001b[0mDefaultContext\u001b[0m\u001b[0;34m(\u001b[0m\u001b[0mBaseContext\u001b[0m\u001b[0;34m)\u001b[0m\u001b[0;34m:\u001b[0m\u001b[0;34m\u001b[0m\u001b[0;34m\u001b[0m\u001b[0m\n",
      "\u001b[0;32m~/.conda/envs/DL/lib/python3.7/multiprocessing/context.py\u001b[0m in \u001b[0;36m_Popen\u001b[0;34m(process_obj)\u001b[0m\n\u001b[1;32m    275\u001b[0m         \u001b[0;32mdef\u001b[0m \u001b[0m_Popen\u001b[0m\u001b[0;34m(\u001b[0m\u001b[0mprocess_obj\u001b[0m\u001b[0;34m)\u001b[0m\u001b[0;34m:\u001b[0m\u001b[0;34m\u001b[0m\u001b[0;34m\u001b[0m\u001b[0m\n\u001b[1;32m    276\u001b[0m             \u001b[0;32mfrom\u001b[0m \u001b[0;34m.\u001b[0m\u001b[0mpopen_fork\u001b[0m \u001b[0;32mimport\u001b[0m \u001b[0mPopen\u001b[0m\u001b[0;34m\u001b[0m\u001b[0;34m\u001b[0m\u001b[0m\n\u001b[0;32m--> 277\u001b[0;31m             \u001b[0;32mreturn\u001b[0m \u001b[0mPopen\u001b[0m\u001b[0;34m(\u001b[0m\u001b[0mprocess_obj\u001b[0m\u001b[0;34m)\u001b[0m\u001b[0;34m\u001b[0m\u001b[0;34m\u001b[0m\u001b[0m\n\u001b[0m\u001b[1;32m    278\u001b[0m \u001b[0;34m\u001b[0m\u001b[0m\n\u001b[1;32m    279\u001b[0m     \u001b[0;32mclass\u001b[0m \u001b[0mSpawnProcess\u001b[0m\u001b[0;34m(\u001b[0m\u001b[0mprocess\u001b[0m\u001b[0;34m.\u001b[0m\u001b[0mBaseProcess\u001b[0m\u001b[0;34m)\u001b[0m\u001b[0;34m:\u001b[0m\u001b[0;34m\u001b[0m\u001b[0;34m\u001b[0m\u001b[0m\n",
      "\u001b[0;32m~/.conda/envs/DL/lib/python3.7/multiprocessing/popen_fork.py\u001b[0m in \u001b[0;36m__init__\u001b[0;34m(self, process_obj)\u001b[0m\n\u001b[1;32m     18\u001b[0m         \u001b[0mself\u001b[0m\u001b[0;34m.\u001b[0m\u001b[0mreturncode\u001b[0m \u001b[0;34m=\u001b[0m \u001b[0;32mNone\u001b[0m\u001b[0;34m\u001b[0m\u001b[0;34m\u001b[0m\u001b[0m\n\u001b[1;32m     19\u001b[0m         \u001b[0mself\u001b[0m\u001b[0;34m.\u001b[0m\u001b[0mfinalizer\u001b[0m \u001b[0;34m=\u001b[0m \u001b[0;32mNone\u001b[0m\u001b[0;34m\u001b[0m\u001b[0;34m\u001b[0m\u001b[0m\n\u001b[0;32m---> 20\u001b[0;31m         \u001b[0mself\u001b[0m\u001b[0;34m.\u001b[0m\u001b[0m_launch\u001b[0m\u001b[0;34m(\u001b[0m\u001b[0mprocess_obj\u001b[0m\u001b[0;34m)\u001b[0m\u001b[0;34m\u001b[0m\u001b[0;34m\u001b[0m\u001b[0m\n\u001b[0m\u001b[1;32m     21\u001b[0m \u001b[0;34m\u001b[0m\u001b[0m\n\u001b[1;32m     22\u001b[0m     \u001b[0;32mdef\u001b[0m \u001b[0mduplicate_for_child\u001b[0m\u001b[0;34m(\u001b[0m\u001b[0mself\u001b[0m\u001b[0;34m,\u001b[0m \u001b[0mfd\u001b[0m\u001b[0;34m)\u001b[0m\u001b[0;34m:\u001b[0m\u001b[0;34m\u001b[0m\u001b[0;34m\u001b[0m\u001b[0m\n",
      "\u001b[0;32m~/.conda/envs/DL/lib/python3.7/multiprocessing/popen_fork.py\u001b[0m in \u001b[0;36m_launch\u001b[0;34m(self, process_obj)\u001b[0m\n\u001b[1;32m     68\u001b[0m         \u001b[0mcode\u001b[0m \u001b[0;34m=\u001b[0m \u001b[0;36m1\u001b[0m\u001b[0;34m\u001b[0m\u001b[0;34m\u001b[0m\u001b[0m\n\u001b[1;32m     69\u001b[0m         \u001b[0mparent_r\u001b[0m\u001b[0;34m,\u001b[0m \u001b[0mchild_w\u001b[0m \u001b[0;34m=\u001b[0m \u001b[0mos\u001b[0m\u001b[0;34m.\u001b[0m\u001b[0mpipe\u001b[0m\u001b[0;34m(\u001b[0m\u001b[0;34m)\u001b[0m\u001b[0;34m\u001b[0m\u001b[0;34m\u001b[0m\u001b[0m\n\u001b[0;32m---> 70\u001b[0;31m         \u001b[0mself\u001b[0m\u001b[0;34m.\u001b[0m\u001b[0mpid\u001b[0m \u001b[0;34m=\u001b[0m \u001b[0mos\u001b[0m\u001b[0;34m.\u001b[0m\u001b[0mfork\u001b[0m\u001b[0;34m(\u001b[0m\u001b[0;34m)\u001b[0m\u001b[0;34m\u001b[0m\u001b[0;34m\u001b[0m\u001b[0m\n\u001b[0m\u001b[1;32m     71\u001b[0m         \u001b[0;32mif\u001b[0m \u001b[0mself\u001b[0m\u001b[0;34m.\u001b[0m\u001b[0mpid\u001b[0m \u001b[0;34m==\u001b[0m \u001b[0;36m0\u001b[0m\u001b[0;34m:\u001b[0m\u001b[0;34m\u001b[0m\u001b[0;34m\u001b[0m\u001b[0m\n\u001b[1;32m     72\u001b[0m             \u001b[0;32mtry\u001b[0m\u001b[0;34m:\u001b[0m\u001b[0;34m\u001b[0m\u001b[0;34m\u001b[0m\u001b[0m\n",
      "\u001b[0;31mOSError\u001b[0m: [Errno 12] Cannot allocate memory"
     ]
    }
   ],
   "source": [
    "print(\"Starting Training Loop...\")\n",
    "# For each epoch\n",
    "for epoch in range(n_epochs):\n",
    "    # For each batch in the dataloader\n",
    "    for data in tqdm(dataloader):        \n",
    "        # Train D with real batch\n",
    "        real_cpu = data[0].to(device)\n",
    "        b_size = real_cpu.size(0)\n",
    "        label = torch.full((b_size,), y_real, device=device)\n",
    "\n",
    "        output = discriminator(real_cpu).view(-1)\n",
    "        print(\"real images output: \", output)\n",
    "        errD_real = criterion(output, label)\n",
    "        discriminator.zero_grad()\n",
    "        errD_real.backward()\n",
    "        D_x = output.mean().item()\n",
    "\n",
    "        ## Train D with fake batch\n",
    "        noise = torch.randn(b_size, n_z, 1, 1, device=device)\n",
    "        fake = generator(noise)\n",
    "        label.fill_(y_fake)\n",
    "        \n",
    "        output = discriminator(fake.detach()).view(-1)\n",
    "        print(\"fake images output: \", output)\n",
    "        errD_fake = criterion(output, label)\n",
    "        errD_fake.backward()\n",
    "        optim_D.step()\n",
    "        \n",
    "        D_G_z1 = output.mean().item()\n",
    "        errD = errD_real + errD_fake\n",
    "\n",
    "        ## (2) Update G network: maximize log(D(G(z)))\n",
    "        generator.zero_grad()\n",
    "        label.fill_(y_real)  # fake labels are real for generator cost\n",
    "        output = discriminator(fake).view(-1)\n",
    "        \n",
    "        errG = criterion(output, label)\n",
    "        errG.backward()\n",
    "        optim_G.step()\n",
    "        \n",
    "        D_G_z2 = output.mean().item()\n",
    "        G_losses.append(errG.item())\n",
    "        D_losses.append(errD.item())\n",
    "\n",
    "        # Check how the generator is doing by saving G's output on fixed_noise\n",
    "        if (iters % 1 == 0) or ((epoch == n_epochs-1)):\n",
    "            with torch.no_grad():\n",
    "                fake = generator(fixed_noise).detach().cpu()\n",
    "            img_list.append(vutils.make_grid(fake, padding=2, normalize=True))\n",
    "\n",
    "        iters += 1\n",
    "    \n",
    "    \n",
    "    # Output training stats\n",
    "    print('Epoch [%d/%d] \\tLoss_D: %.4f\\tLoss_G: %.4f\\tD(x): %.4f\\tD(G(z)): %.4f / %.4f'\n",
    "          % (epoch, n_epochs, errD.item(), errG.item(), D_x, D_G_z1, D_G_z2))\n"
   ]
  },
  {
   "cell_type": "markdown",
   "metadata": {},
   "source": [
    "# Visualizing Loss\n",
    "\n",
    "We plot Loss for the Generator and Discriminator networks over # of cumulative training iterations."
   ]
  },
  {
   "cell_type": "code",
   "execution_count": null,
   "metadata": {},
   "outputs": [],
   "source": [
    "plt.figure(figsize=(10,5))\n",
    "plt.title(\"Generator and Discriminator Loss During Training\")\n",
    "plt.plot(G_losses,label=\"G\")\n",
    "plt.plot(D_losses,label=\"D\")\n",
    "plt.xlabel(\"iterations\")\n",
    "plt.ylabel(\"Loss\")\n",
    "plt.legend()\n",
    "plt.show()"
   ]
  },
  {
   "cell_type": "code",
   "execution_count": null,
   "metadata": {},
   "outputs": [],
   "source": [
    "#%%capture\n",
    "fig = plt.figure(figsize=(8,8))\n",
    "plt.axis(\"off\")\n",
    "ims = [[plt.imshow(np.transpose(i,(1,2,0)), animated=True)] for i in img_list]\n",
    "ani = animation.ArtistAnimation(fig, ims, interval=1000/12, repeat_delay=1000/12, blit=True)\n",
    "\n",
    "HTML(ani.to_jshtml())"
   ]
  },
  {
   "cell_type": "code",
   "execution_count": null,
   "metadata": {},
   "outputs": [],
   "source": [
    "# Grab a batch of real images from the dataloader\n",
    "real_batch = next(iter(dataloader))\n",
    "\n",
    "# Plot the real images\n",
    "plt.figure(figsize=(15,15))\n",
    "plt.subplot(1,2,1)\n",
    "plt.axis(\"off\")\n",
    "plt.title(\"Real Images\")\n",
    "plt.imshow(np.transpose(vutils.make_grid(real_batch[0].to(device)[:64], padding=5, normalize=True).cpu(),(1,2,0)))\n",
    "\n",
    "# Plot the fake images from the last epoch\n",
    "plt.subplot(1,2,2)\n",
    "plt.axis(\"off\")\n",
    "plt.title(\"Fake Images\")\n",
    "plt.imshow(np.transpose(img_list[-1],(1,2,0)))\n",
    "plt.show()"
   ]
  },
  {
   "cell_type": "code",
   "execution_count": null,
   "metadata": {
    "collapsed": true
   },
   "outputs": [],
   "source": []
  },
  {
   "cell_type": "code",
   "execution_count": null,
   "metadata": {
    "collapsed": true
   },
   "outputs": [],
   "source": []
  },
  {
   "cell_type": "code",
   "execution_count": null,
   "metadata": {
    "collapsed": true
   },
   "outputs": [],
   "source": []
  }
 ],
 "metadata": {
  "kernelspec": {
   "display_name": "Python 3",
   "language": "python",
   "name": "python3"
  }
 },
 "nbformat": 4,
 "nbformat_minor": 2
}
