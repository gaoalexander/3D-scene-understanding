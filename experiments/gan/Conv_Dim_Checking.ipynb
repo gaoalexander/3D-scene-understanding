{
 "cells": [
  {
   "cell_type": "code",
   "execution_count": 1,
   "metadata": {},
   "outputs": [],
   "source": [
    "import torch\n",
    "import torch.nn as nn"
   ]
  },
  {
   "cell_type": "code",
   "execution_count": 2,
   "metadata": {},
   "outputs": [
    {
     "data": {
      "text/plain": [
       "'cuda:0'"
      ]
     },
     "execution_count": 2,
     "metadata": {},
     "output_type": "execute_result"
    }
   ],
   "source": [
    "device = (\"cuda:0\" if torch.cuda.is_available() else \"cpu\")\n",
    "device"
   ]
  },
  {
   "cell_type": "code",
   "execution_count": 3,
   "metadata": {},
   "outputs": [],
   "source": [
    "# Root directory for dataset\n",
    "batch_size = 48\n",
    "img_size = 400\n",
    "n_ch = 1\n",
    "n_z = 100\n",
    "n_G = 100\n",
    "n_D = 100\n",
    "\n",
    "num_epochs = 240\n",
    "G_lr = 0.0001\n",
    "D_lr = 0.0004\n",
    "beta1 = 0.5"
   ]
  },
  {
   "cell_type": "markdown",
   "metadata": {},
   "source": [
    "### Checking Discriminator Dimensions"
   ]
  },
  {
   "cell_type": "code",
   "execution_count": 95,
   "metadata": {},
   "outputs": [],
   "source": [
    "conv1 = nn.Conv2d(n_ch, n_D, 7, 2, dilation = 3, bias=False).to(device)\n",
    "conv2 = nn.Conv2d(n_D, n_D * 2, 5, 2, dilation = 3, bias=False).to(device)\n",
    "conv3 = nn.Conv2d(n_D * 2, n_D * 4, 5, 2, dilation = 3, bias=False).to(device)\n",
    "# pool1 = nn.MaxPool2d(2).to(device)\n",
    "conv4 = nn.Conv2d(n_D * 4, n_D * 8, 5, 2, dilation = 3, bias=False).to(device)\n",
    "conv5 = nn.Conv2d(n_D * 8, n_D * 16, 3, 2, 0, dilation = 3, bias=False).to(device)\n",
    "conv6 = nn.Conv2d(n_D * 16, 1, 4, 1, 0, bias=False).to(device)"
   ]
  },
  {
   "cell_type": "code",
   "execution_count": 96,
   "metadata": {},
   "outputs": [
    {
     "data": {
      "text/plain": [
       "torch.Size([48, 1, 400, 400])"
      ]
     },
     "execution_count": 96,
     "metadata": {},
     "output_type": "execute_result"
    }
   ],
   "source": [
    "data = torch.zeros([batch_size, 1, img_size, img_size]).to(device)\n",
    "data.size()"
   ]
  },
  {
   "cell_type": "code",
   "execution_count": 97,
   "metadata": {},
   "outputs": [
    {
     "data": {
      "text/plain": [
       "torch.Size([48, 100, 191, 191])"
      ]
     },
     "execution_count": 97,
     "metadata": {},
     "output_type": "execute_result"
    }
   ],
   "source": [
    "data1 = conv1(data)\n",
    "data1.size()"
   ]
  },
  {
   "cell_type": "code",
   "execution_count": 98,
   "metadata": {},
   "outputs": [
    {
     "data": {
      "text/plain": [
       "torch.Size([48, 200, 90, 90])"
      ]
     },
     "execution_count": 98,
     "metadata": {},
     "output_type": "execute_result"
    }
   ],
   "source": [
    "data2 = conv2(data1)\n",
    "data2.size()"
   ]
  },
  {
   "cell_type": "code",
   "execution_count": 99,
   "metadata": {},
   "outputs": [
    {
     "data": {
      "text/plain": [
       "torch.Size([48, 400, 39, 39])"
      ]
     },
     "execution_count": 99,
     "metadata": {},
     "output_type": "execute_result"
    }
   ],
   "source": [
    "data3 = conv3(data2)\n",
    "data3.size()"
   ]
  },
  {
   "cell_type": "code",
   "execution_count": 100,
   "metadata": {},
   "outputs": [],
   "source": [
    "# data4 = pool1(data3)\n",
    "# data4.size()"
   ]
  },
  {
   "cell_type": "code",
   "execution_count": 101,
   "metadata": {},
   "outputs": [
    {
     "data": {
      "text/plain": [
       "torch.Size([48, 800, 14, 14])"
      ]
     },
     "execution_count": 101,
     "metadata": {},
     "output_type": "execute_result"
    }
   ],
   "source": [
    "data5 = conv4(data3)\n",
    "data5.size()"
   ]
  },
  {
   "cell_type": "code",
   "execution_count": 102,
   "metadata": {},
   "outputs": [
    {
     "data": {
      "text/plain": [
       "torch.Size([48, 1600, 4, 4])"
      ]
     },
     "execution_count": 102,
     "metadata": {},
     "output_type": "execute_result"
    }
   ],
   "source": [
    "data6 = conv5(data5)\n",
    "data6.size()"
   ]
  },
  {
   "cell_type": "code",
   "execution_count": 103,
   "metadata": {},
   "outputs": [
    {
     "data": {
      "text/plain": [
       "torch.Size([48, 1, 1, 1])"
      ]
     },
     "execution_count": 103,
     "metadata": {},
     "output_type": "execute_result"
    }
   ],
   "source": [
    "data7 = conv6(data6)\n",
    "data7.size()"
   ]
  },
  {
   "cell_type": "markdown",
   "metadata": {},
   "source": [
    "### Checking Generator Dimensions"
   ]
  },
  {
   "cell_type": "code",
   "execution_count": 148,
   "metadata": {},
   "outputs": [],
   "source": [
    "convTransp1 = nn.ConvTranspose2d(n_z, n_G * 32, 3, 1, bias=False).to(device)\n",
    "convTransp2 = nn.ConvTranspose2d(n_G * 32, n_G * 16, 5, 2, bias=False).to(device)\n",
    "convTransp3 = nn.ConvTranspose2d(n_G * 16, n_G * 8, 5, 2, bias=False).to(device)\n",
    "convTransp4 = nn.ConvTranspose2d(n_G * 8, n_G * 4, 5, 2, output_padding = 1, bias=False).to(device)\n",
    "convTransp5 = nn.ConvTranspose2d(n_G * 4, n_G * 2, 5, 2, output_padding = 1, bias=False).to(device)\n",
    "convTransp6 = nn.ConvTranspose2d(n_G * 2, n_G, 7, 2, output_padding = 1, bias=False).to(device)\n",
    "convTransp7 = nn.ConvTranspose2d(n_G, n_ch, 6, 2, bias=False).to(device)"
   ]
  },
  {
   "cell_type": "code",
   "execution_count": 149,
   "metadata": {},
   "outputs": [
    {
     "data": {
      "text/plain": [
       "torch.Size([48, 100, 1, 1])"
      ]
     },
     "execution_count": 149,
     "metadata": {},
     "output_type": "execute_result"
    }
   ],
   "source": [
    "gdata = torch.zeros([batch_size, n_z, 1, 1]).to(device)\n",
    "gdata.size()"
   ]
  },
  {
   "cell_type": "code",
   "execution_count": 150,
   "metadata": {},
   "outputs": [
    {
     "data": {
      "text/plain": [
       "torch.Size([48, 3200, 3, 3])"
      ]
     },
     "execution_count": 150,
     "metadata": {},
     "output_type": "execute_result"
    }
   ],
   "source": [
    "gdata1 = convTransp1(gdata)\n",
    "gdata1.size()"
   ]
  },
  {
   "cell_type": "code",
   "execution_count": 151,
   "metadata": {},
   "outputs": [
    {
     "data": {
      "text/plain": [
       "torch.Size([48, 1600, 9, 9])"
      ]
     },
     "execution_count": 151,
     "metadata": {},
     "output_type": "execute_result"
    }
   ],
   "source": [
    "gdata2 = convTransp2(gdata1)\n",
    "gdata2.size()"
   ]
  },
  {
   "cell_type": "code",
   "execution_count": 152,
   "metadata": {},
   "outputs": [
    {
     "data": {
      "text/plain": [
       "torch.Size([48, 800, 21, 21])"
      ]
     },
     "execution_count": 152,
     "metadata": {},
     "output_type": "execute_result"
    }
   ],
   "source": [
    "gdata3 = convTransp3(gdata2)\n",
    "gdata3.size()"
   ]
  },
  {
   "cell_type": "code",
   "execution_count": 153,
   "metadata": {},
   "outputs": [
    {
     "data": {
      "text/plain": [
       "torch.Size([48, 400, 46, 46])"
      ]
     },
     "execution_count": 153,
     "metadata": {},
     "output_type": "execute_result"
    }
   ],
   "source": [
    "gdata4 = convTransp4(gdata3)\n",
    "gdata4.size()"
   ]
  },
  {
   "cell_type": "code",
   "execution_count": 154,
   "metadata": {},
   "outputs": [
    {
     "data": {
      "text/plain": [
       "torch.Size([48, 200, 96, 96])"
      ]
     },
     "execution_count": 154,
     "metadata": {},
     "output_type": "execute_result"
    }
   ],
   "source": [
    "gdata5 = convTransp5(gdata4)\n",
    "gdata5.size()"
   ]
  },
  {
   "cell_type": "code",
   "execution_count": 155,
   "metadata": {},
   "outputs": [
    {
     "data": {
      "text/plain": [
       "torch.Size([48, 100, 198, 198])"
      ]
     },
     "execution_count": 155,
     "metadata": {},
     "output_type": "execute_result"
    }
   ],
   "source": [
    "gdata6 = convTransp6(gdata5)\n",
    "gdata6.size()"
   ]
  },
  {
   "cell_type": "code",
   "execution_count": 156,
   "metadata": {},
   "outputs": [
    {
     "data": {
      "text/plain": [
       "torch.Size([48, 1, 400, 400])"
      ]
     },
     "execution_count": 156,
     "metadata": {},
     "output_type": "execute_result"
    }
   ],
   "source": [
    "gdata7 = convTransp7(gdata6)\n",
    "gdata7.size()"
   ]
  },
  {
   "cell_type": "code",
   "execution_count": null,
   "metadata": {},
   "outputs": [],
   "source": []
  },
  {
   "cell_type": "code",
   "execution_count": null,
   "metadata": {},
   "outputs": [],
   "source": []
  }
 ],
 "metadata": {
  "kernelspec": {
   "display_name": "Python 3",
   "language": "python",
   "name": "python3"
  },
  "language_info": {
   "codemirror_mode": {
    "name": "ipython",
    "version": 3
   },
   "file_extension": ".py",
   "mimetype": "text/x-python",
   "name": "python",
   "nbconvert_exporter": "python",
   "pygments_lexer": "ipython3",
   "version": "3.7.7"
  }
 },
 "nbformat": 4,
 "nbformat_minor": 4
}
